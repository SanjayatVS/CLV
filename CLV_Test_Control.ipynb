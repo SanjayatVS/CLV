{
 "cells": [
  {
   "cell_type": "code",
   "execution_count": 79,
   "metadata": {
    "ExecuteTime": {
     "end_time": "2019-02-05T15:37:54.875922Z",
     "start_time": "2019-02-05T15:37:54.813082Z"
    }
   },
   "outputs": [],
   "source": [
    "import pandas as pd\n",
    "import numpy as np\n",
    "import matplotlib.pyplot as plt\n",
    "import os\n",
    "import sys\n",
    "import pyodbc\n",
    "import time\n",
    "%matplotlib inline\n",
    "from scipy.stats import norm, zscore\n",
    "import statsmodels\n",
    "import math as mt"
   ]
  },
  {
   "cell_type": "code",
   "execution_count": 80,
   "metadata": {
    "ExecuteTime": {
     "end_time": "2019-02-05T15:37:55.700445Z",
     "start_time": "2019-02-05T15:37:55.694153Z"
    }
   },
   "outputs": [],
   "source": [
    "def get_z_score(alpha):\n",
    "    return norm.ppf(alpha)\n",
    "\n",
    "# Inputs p-baseline conversion rate which is our estimated p and d-minimum detectable change\n",
    "# Returns\n",
    "def get_sds(p,d):\n",
    "    sd1=mt.sqrt(2*p*(1-p))\n",
    "    sd2=mt.sqrt(p*(1-p)+(p+d)*(1-(p+d)))\n",
    "    sds=[sd1,sd2]\n",
    "    return sds\n",
    "\n",
    "# Inputs:sd1-sd for the baseline,sd2-sd for the expected change,alpha,beta,d-d_min,p-baseline estimate p\n",
    "# Returns: the minimum sample size required per group according to metric denominator\n",
    "def get_sampSize(sds,alpha,beta,d):\n",
    "    n=pow((get_z_score(1-alpha/2)*sds[0]+get_z_score(1-beta)*sds[1]),2)/pow(d,2)\n",
    "    return n"
   ]
  },
  {
   "cell_type": "code",
   "execution_count": 81,
   "metadata": {
    "ExecuteTime": {
     "end_time": "2019-02-05T15:38:10.764383Z",
     "start_time": "2019-02-05T15:38:10.759765Z"
    }
   },
   "outputs": [],
   "source": [
    "def SQL_Query( UID, password ):\n",
    "\n",
    "    \n",
    "\n",
    "\n",
    "    \n",
    "#Establish our connection to the server \n",
    "    conn_string = 'DRIVER=/usr/local/lib/libtdsodbc.so;SERVER=wnj-datasizesql;PORT=1433;DATABASE=Data Analytics;UID={};PWD={}'.format(UID,password)\n",
    "    conn = pyodbc.connect(conn_string)\n",
    "    \n",
    "#Run our sql query\n",
    "\n",
    "    query = (\"\"\"SELECT email_address,customer_id, [2018_may]\n",
    "    FROM responsys_customer_counts\"\"\")\n",
    "\n",
    "    start_time = time.time()\n",
    "\n",
    "    trFrame = pd.read_sql_query(query, conn)\n",
    "\n",
    "    conn.close()\n",
    "\n",
    "    end_time = time.time()\n",
    "\n",
    "    run_time = (end_time-start_time)/60\n",
    "\n",
    "    print(run_time)\n",
    "    return(trFrame)"
   ]
  },
  {
   "cell_type": "code",
   "execution_count": 82,
   "metadata": {
    "ExecuteTime": {
     "end_time": "2019-02-05T15:38:11.186896Z",
     "start_time": "2019-02-05T15:38:11.177699Z"
    }
   },
   "outputs": [],
   "source": [
    "def cleanCustomers(df, customer_columnname = 'customer_identifier'):\n",
    "   \n",
    "    \"\"\"\n",
    "    removes rows with blanks, zeroes, alpha-numeric characters and weird longer numbers\n",
    "    identified as customer numbers. Finally, restores the datatype to 'int64'\n",
    "    \n",
    "    Parameters\n",
    "    ----------\n",
    "    score_pool : data frame\n",
    "        Data frame with customer numbers\n",
    "   \n",
    "    customer_columnname : string\n",
    "        Customer number column name from the data frame\n",
    "        (customerno/customer_identifier/customer_no/customer_id… etc)\n",
    "   \n",
    "    Returns\n",
    "    -------\n",
    "    dataframe\n",
    "        A data frame of cleaned customer numbers\n",
    "    \"\"\"\n",
    "   \n",
    "    df[customer_columnname] = df[customer_columnname].astype(str)\n",
    "   \n",
    "    # remove rows with customer number having zeroes and blanks\n",
    "    shit_long_ints = df[customer_columnname].loc[df[customer_columnname].apply(lambda x: len(str(x)) > 19)].tolist()\n",
    "    df = df.loc[~df[customer_columnname].isin(shit_long_ints)]\n",
    "    # remove rows with customer number having zeroes and blanks\n",
    "    shit_alphanums = df[customer_columnname].loc[df[customer_columnname].str.contains('[a-zA-Z]', regex=True)].tolist()\n",
    "    df = df.loc[~df[customer_columnname].isin(shit_alphanums)]\n",
    "    # remove rows with customer number having zeroes and blanks\n",
    "    df = df.loc[~df[customer_columnname].isin(['', '0'])]\n",
    "   \n",
    "    df[customer_columnname] = df[customer_columnname].astype('float64')\n",
    "    df[customer_columnname] = df[customer_columnname].astype('int64')\n",
    "   \n",
    "    return df"
   ]
  },
  {
   "cell_type": "code",
   "execution_count": null,
   "metadata": {
    "ExecuteTime": {
     "start_time": "2019-01-09T21:59:26.841Z"
    }
   },
   "outputs": [],
   "source": [
    "temp_DF = SQL_Query( 'Dhananjay.Kumar','password1!')\n",
    "\n",
    "#temp_DF['2018_may']= temp_DF['2018_may'].astype(int)\n",
    "#temp_DF['2018_apr']= temp_DF['2018_apr'].astype(int)\n",
    "#temp_DF['2018_mar']= temp_DF['2018_mar'].astype(int)\n",
    "\n",
    "#temp_DF = cleanCustomers(temp_DF, customer_columnname = 'customer_id')\n",
    "#temp_DF.rename(columns={'customer_id': 'customerno'}, inplace=True)"
   ]
  },
  {
   "cell_type": "code",
   "execution_count": null,
   "metadata": {
    "ExecuteTime": {
     "end_time": "2018-08-09T20:32:32.984637Z",
     "start_time": "2018-08-09T20:32:32.979930Z"
    }
   },
   "outputs": [],
   "source": [
    "temp_DF.shape"
   ]
  },
  {
   "cell_type": "code",
   "execution_count": null,
   "metadata": {
    "ExecuteTime": {
     "end_time": "2018-08-09T20:17:52.235746Z",
     "start_time": "2018-08-09T20:17:52.230688Z"
    }
   },
   "outputs": [],
   "source": [
    "temp_DF.columns"
   ]
  },
  {
   "cell_type": "code",
   "execution_count": 27,
   "metadata": {
    "ExecuteTime": {
     "end_time": "2019-01-23T16:09:58.345385Z",
     "start_time": "2019-01-23T16:09:46.883139Z"
    }
   },
   "outputs": [
    {
     "name": "stderr",
     "output_type": "stream",
     "text": [
      "/anaconda3/lib/python3.6/site-packages/IPython/core/interactiveshell.py:2785: DtypeWarning: Columns (1) have mixed types. Specify dtype option on import or set low_memory=False.\n",
      "  interactivity=interactivity, compiler=compiler, result=result)\n"
     ]
    }
   ],
   "source": [
    "temp_DF = pd.read_csv('/Users/sanjaygopinath/Documents/Data/Email_Holdout_Analysis/2018_CLV_Scored.csv', header=0)\n",
    "#temp_DF.rename(columns={0:'customerno', 1:'email', 2:'channel'}, inplace=True)\n",
    "#temp_DF = cleanCustomers(temp_DF, customer_columnname='customerno')\n",
    "del temp_DF['Unnamed: 0']"
   ]
  },
  {
   "cell_type": "code",
   "execution_count": 12,
   "metadata": {
    "ExecuteTime": {
     "end_time": "2019-01-23T15:57:22.410684Z",
     "start_time": "2019-01-23T15:57:22.057147Z"
    }
   },
   "outputs": [],
   "source": [
    "responsys_DF = pd.read_csv('/Users/sanjaygopinath/Documents/Data/Email_Holdout_Analysis/10M_Openers_Master_Filter20190115.txt')"
   ]
  },
  {
   "cell_type": "code",
   "execution_count": 28,
   "metadata": {
    "ExecuteTime": {
     "end_time": "2019-01-23T16:10:10.655476Z",
     "start_time": "2019-01-23T16:09:59.682137Z"
    }
   },
   "outputs": [
    {
     "name": "stderr",
     "output_type": "stream",
     "text": [
      "/anaconda3/lib/python3.6/site-packages/IPython/core/interactiveshell.py:2785: DtypeWarning: Columns (1) have mixed types. Specify dtype option on import or set low_memory=False.\n",
      "  interactivity=interactivity, compiler=compiler, result=result)\n"
     ]
    },
    {
     "name": "stdout",
     "output_type": "stream",
     "text": [
      "(5795794, 14)\n"
     ]
    }
   ],
   "source": [
    "df = pd.read_csv('/Users/sanjaygopinath/Documents/Data/Email_Holdout_Analysis/2018_CLV_Scored.csv', header=0)\n",
    "del df['Unnamed: 0']\n",
    "print(df.shape)\n",
    "#df  = df[df.BG_cond_purch_12 >=0]"
   ]
  },
  {
   "cell_type": "code",
   "execution_count": 16,
   "metadata": {
    "ExecuteTime": {
     "end_time": "2019-01-23T16:02:23.825983Z",
     "start_time": "2019-01-23T16:02:23.423967Z"
    }
   },
   "outputs": [
    {
     "data": {
      "text/plain": [
       "'2018-12-30'"
      ]
     },
     "execution_count": 16,
     "metadata": {},
     "output_type": "execute_result"
    }
   ],
   "source": [
    "temp_DF.LastOrderDate.max()"
   ]
  },
  {
   "cell_type": "code",
   "execution_count": 29,
   "metadata": {
    "ExecuteTime": {
     "end_time": "2019-01-23T16:10:10.701514Z",
     "start_time": "2019-01-23T16:10:10.657469Z"
    }
   },
   "outputs": [],
   "source": [
    "finalDF = df\n",
    "del df"
   ]
  },
  {
   "cell_type": "code",
   "execution_count": 22,
   "metadata": {
    "ExecuteTime": {
     "end_time": "2019-01-23T16:06:50.897941Z",
     "start_time": "2019-01-23T16:06:50.892962Z"
    }
   },
   "outputs": [
    {
     "data": {
      "text/plain": [
       "Index(['CUSTOMER_ID_'], dtype='object')"
      ]
     },
     "execution_count": 22,
     "metadata": {},
     "output_type": "execute_result"
    }
   ],
   "source": [
    "responsys_DF.columns\n"
   ]
  },
  {
   "cell_type": "code",
   "execution_count": 30,
   "metadata": {
    "ExecuteTime": {
     "end_time": "2019-01-23T16:10:12.969938Z",
     "start_time": "2019-01-23T16:10:10.703755Z"
    }
   },
   "outputs": [
    {
     "data": {
      "text/plain": [
       "1948313"
      ]
     },
     "execution_count": 30,
     "metadata": {},
     "output_type": "execute_result"
    }
   ],
   "source": [
    "len(set(finalDF.customerno).intersection(set(responsys_DF.CUSTOMER_ID_)))"
   ]
  },
  {
   "cell_type": "code",
   "execution_count": 33,
   "metadata": {
    "ExecuteTime": {
     "end_time": "2019-01-23T16:16:19.051984Z",
     "start_time": "2019-01-23T16:16:15.031040Z"
    }
   },
   "outputs": [],
   "source": [
    "finalDF = finalDF[finalDF.customerno.isin(responsys_DF.CUSTOMER_ID_)]"
   ]
  },
  {
   "cell_type": "code",
   "execution_count": 35,
   "metadata": {
    "ExecuteTime": {
     "end_time": "2019-01-23T16:16:32.540969Z",
     "start_time": "2019-01-23T16:16:32.325902Z"
    },
    "scrolled": true
   },
   "outputs": [],
   "source": [
    "finalDF['weekly_prob'] = finalDF.frequency/finalDF['T']"
   ]
  },
  {
   "cell_type": "code",
   "execution_count": 9,
   "metadata": {
    "ExecuteTime": {
     "end_time": "2019-01-10T19:29:59.053762Z",
     "start_time": "2019-01-10T19:29:58.128981Z"
    }
   },
   "outputs": [],
   "source": [
    "finalDF = finalDF[finalDF.weekly_prob > .02]"
   ]
  },
  {
   "cell_type": "code",
   "execution_count": null,
   "metadata": {
    "ExecuteTime": {
     "end_time": "2018-09-17T15:42:06.702834Z",
     "start_time": "2018-09-17T15:42:06.355361Z"
    }
   },
   "outputs": [],
   "source": [
    "responsys_customer_counts"
   ]
  },
  {
   "cell_type": "code",
   "execution_count": null,
   "metadata": {
    "ExecuteTime": {
     "end_time": "2019-01-10T16:14:45.768506Z",
     "start_time": "2019-01-10T16:14:45.758111Z"
    }
   },
   "outputs": [],
   "source": [
    "df.columns"
   ]
  },
  {
   "cell_type": "code",
   "execution_count": 19,
   "metadata": {
    "ExecuteTime": {
     "end_time": "2019-01-23T16:02:33.582142Z",
     "start_time": "2019-01-23T16:02:33.570137Z"
    },
    "scrolled": false
   },
   "outputs": [
    {
     "ename": "NameError",
     "evalue": "name 'df' is not defined",
     "output_type": "error",
     "traceback": [
      "\u001b[0;31m---------------------------------------------------------------------------\u001b[0m",
      "\u001b[0;31mNameError\u001b[0m                                 Traceback (most recent call last)",
      "\u001b[0;32m<ipython-input-19-777fc4cc362c>\u001b[0m in \u001b[0;36m<module>\u001b[0;34m()\u001b[0m\n\u001b[0;32m----> 1\u001b[0;31m \u001b[0mfinalDF\u001b[0m \u001b[0;34m=\u001b[0m \u001b[0mpd\u001b[0m\u001b[0;34m.\u001b[0m\u001b[0mmerge\u001b[0m\u001b[0;34m(\u001b[0m\u001b[0mtemp_DF\u001b[0m\u001b[0;34m,\u001b[0m \u001b[0mdf\u001b[0m\u001b[0;34m,\u001b[0m \u001b[0mhow\u001b[0m\u001b[0;34m=\u001b[0m\u001b[0;34m'inner'\u001b[0m\u001b[0;34m,\u001b[0m \u001b[0mon\u001b[0m\u001b[0;34m=\u001b[0m\u001b[0;34m'customerno'\u001b[0m\u001b[0;34m)\u001b[0m\u001b[0;34m\u001b[0m\u001b[0m\n\u001b[0m",
      "\u001b[0;31mNameError\u001b[0m: name 'df' is not defined"
     ]
    }
   ],
   "source": [
    "finalDF = pd.merge(temp_DF, df, how='inner', on='customerno')"
   ]
  },
  {
   "cell_type": "code",
   "execution_count": 36,
   "metadata": {
    "ExecuteTime": {
     "end_time": "2019-01-23T16:16:40.614794Z",
     "start_time": "2019-01-23T16:16:40.407409Z"
    }
   },
   "outputs": [],
   "source": [
    "finalDF = finalDF[np.isfinite(finalDF.weekly_prob)]"
   ]
  },
  {
   "cell_type": "code",
   "execution_count": null,
   "metadata": {},
   "outputs": [],
   "source": [
    "#optional, we have a lot of customers who are predicted to make no purchases (less than .05). They \n",
    "#make up the first deciles, let's reduce that by 2 deciles \n",
    "\n"
   ]
  },
  {
   "cell_type": "code",
   "execution_count": 37,
   "metadata": {
    "ExecuteTime": {
     "end_time": "2019-01-23T16:16:45.676308Z",
     "start_time": "2019-01-23T16:16:45.378052Z"
    }
   },
   "outputs": [],
   "source": [
    "#Cut our customers into deciles based on their predicted spend \n",
    "finalDF['pred_spend_bins']= pd.qcut(finalDF['weekly_prob'], 10, labels=[0,1,2,3,4,5,6,7,8,9], retbins=False, precision=3, duplicates='raise')"
   ]
  },
  {
   "cell_type": "code",
   "execution_count": 74,
   "metadata": {
    "ExecuteTime": {
     "end_time": "2019-01-23T16:33:23.795589Z",
     "start_time": "2019-01-23T16:33:23.695376Z"
    }
   },
   "outputs": [],
   "source": [
    "#Create a summary frame with test group sizes \n",
    "# Sample size m\n",
    "\n",
    "summaryFrame = finalDF[['recency', 'frequency', 'order_count', 'T', 'weekly_prob', 'BG_cond_purch_12', 'BG_pred_spend']].groupby(finalDF.pred_spend_bins).mean()\n",
    "summaryFrame.reset_index(inplace=True)\n",
    "summaryFrame['sds'] = summaryFrame.apply(lambda x: (get_sds(x['weekly_prob'], x['weekly_prob']/5)), axis=1)\n",
    "summaryFrame['sample_size'] = summaryFrame.apply(lambda x: (get_sampSize(sds=x['sds'], alpha=.10, beta=.2, d=x['weekly_prob']/10)), axis=1)\n",
    "summaryFrame.sample_size = summaryFrame.sample_size.astype(int)"
   ]
  },
  {
   "cell_type": "code",
   "execution_count": 73,
   "metadata": {
    "ExecuteTime": {
     "end_time": "2019-01-23T16:33:17.567612Z",
     "start_time": "2019-01-23T16:33:17.550534Z"
    }
   },
   "outputs": [
    {
     "data": {
      "text/html": [
       "<div>\n",
       "<style scoped>\n",
       "    .dataframe tbody tr th:only-of-type {\n",
       "        vertical-align: middle;\n",
       "    }\n",
       "\n",
       "    .dataframe tbody tr th {\n",
       "        vertical-align: top;\n",
       "    }\n",
       "\n",
       "    .dataframe thead th {\n",
       "        text-align: right;\n",
       "    }\n",
       "</style>\n",
       "<table border=\"1\" class=\"dataframe\">\n",
       "  <thead>\n",
       "    <tr style=\"text-align: right;\">\n",
       "      <th></th>\n",
       "      <th>pred_spend_bins</th>\n",
       "      <th>recency</th>\n",
       "      <th>frequency</th>\n",
       "      <th>order_count</th>\n",
       "      <th>T</th>\n",
       "      <th>weekly_prob</th>\n",
       "      <th>BG_cond_purch_12</th>\n",
       "      <th>BG_pred_spend</th>\n",
       "      <th>sds</th>\n",
       "      <th>sample_size</th>\n",
       "    </tr>\n",
       "  </thead>\n",
       "  <tbody>\n",
       "    <tr>\n",
       "      <th>0</th>\n",
       "      <td>0</td>\n",
       "      <td>0.000000</td>\n",
       "      <td>1.000000</td>\n",
       "      <td>1.088219</td>\n",
       "      <td>45.259336</td>\n",
       "      <td>0.022286</td>\n",
       "      <td>0.001345</td>\n",
       "      <td>0.058455</td>\n",
       "      <td>[0.20875326091162452, 0.21866988981551005]</td>\n",
       "      <td>70848</td>\n",
       "    </tr>\n",
       "    <tr>\n",
       "      <th>1</th>\n",
       "      <td>1</td>\n",
       "      <td>2.829294</td>\n",
       "      <td>1.150696</td>\n",
       "      <td>1.258670</td>\n",
       "      <td>34.090642</td>\n",
       "      <td>0.033636</td>\n",
       "      <td>0.104407</td>\n",
       "      <td>4.761487</td>\n",
       "      <td>[0.2549690769030927, 0.2669056424129873]</td>\n",
       "      <td>46377</td>\n",
       "    </tr>\n",
       "    <tr>\n",
       "      <th>2</th>\n",
       "      <td>2</td>\n",
       "      <td>8.876611</td>\n",
       "      <td>1.508044</td>\n",
       "      <td>1.640525</td>\n",
       "      <td>32.966244</td>\n",
       "      <td>0.046269</td>\n",
       "      <td>0.437996</td>\n",
       "      <td>20.577342</td>\n",
       "      <td>[0.29708047381363895, 0.3107550262454191]</td>\n",
       "      <td>33258</td>\n",
       "    </tr>\n",
       "    <tr>\n",
       "      <th>3</th>\n",
       "      <td>3</td>\n",
       "      <td>13.424245</td>\n",
       "      <td>1.972693</td>\n",
       "      <td>2.153750</td>\n",
       "      <td>32.409370</td>\n",
       "      <td>0.060923</td>\n",
       "      <td>0.924866</td>\n",
       "      <td>44.338984</td>\n",
       "      <td>[0.3382648787310144, 0.35351753602423175]</td>\n",
       "      <td>24856</td>\n",
       "    </tr>\n",
       "    <tr>\n",
       "      <th>4</th>\n",
       "      <td>4</td>\n",
       "      <td>17.197567</td>\n",
       "      <td>2.527286</td>\n",
       "      <td>2.766388</td>\n",
       "      <td>32.270414</td>\n",
       "      <td>0.078107</td>\n",
       "      <td>1.619164</td>\n",
       "      <td>78.214680</td>\n",
       "      <td>[0.3794899114519059, 0.39616875616335384]</td>\n",
       "      <td>19020</td>\n",
       "    </tr>\n",
       "    <tr>\n",
       "      <th>5</th>\n",
       "      <td>5</td>\n",
       "      <td>19.091677</td>\n",
       "      <td>3.101840</td>\n",
       "      <td>3.411355</td>\n",
       "      <td>30.815126</td>\n",
       "      <td>0.100793</td>\n",
       "      <td>2.363780</td>\n",
       "      <td>114.863807</td>\n",
       "      <td>[0.42575451823019855, 0.44379658066808847]</td>\n",
       "      <td>14363</td>\n",
       "    </tr>\n",
       "    <tr>\n",
       "      <th>6</th>\n",
       "      <td>6</td>\n",
       "      <td>24.426597</td>\n",
       "      <td>4.394784</td>\n",
       "      <td>4.870978</td>\n",
       "      <td>33.618018</td>\n",
       "      <td>0.131283</td>\n",
       "      <td>3.778857</td>\n",
       "      <td>186.363116</td>\n",
       "      <td>[0.47759301237749396, 0.4967576466569687]</td>\n",
       "      <td>10639</td>\n",
       "    </tr>\n",
       "    <tr>\n",
       "      <th>7</th>\n",
       "      <td>7</td>\n",
       "      <td>25.540651</td>\n",
       "      <td>5.652329</td>\n",
       "      <td>6.333568</td>\n",
       "      <td>32.295714</td>\n",
       "      <td>0.177086</td>\n",
       "      <td>5.253392</td>\n",
       "      <td>261.327270</td>\n",
       "      <td>[0.5398645585155446, 0.5595290921461552]</td>\n",
       "      <td>7455</td>\n",
       "    </tr>\n",
       "    <tr>\n",
       "      <th>8</th>\n",
       "      <td>8</td>\n",
       "      <td>32.409519</td>\n",
       "      <td>9.448310</td>\n",
       "      <td>10.891011</td>\n",
       "      <td>37.142626</td>\n",
       "      <td>0.253745</td>\n",
       "      <td>8.950069</td>\n",
       "      <td>451.770673</td>\n",
       "      <td>[0.6153998116105553, 0.6333528697616676]</td>\n",
       "      <td>4697</td>\n",
       "    </tr>\n",
       "    <tr>\n",
       "      <th>9</th>\n",
       "      <td>9</td>\n",
       "      <td>24.985571</td>\n",
       "      <td>13.388699</td>\n",
       "      <td>20.482363</td>\n",
       "      <td>27.403468</td>\n",
       "      <td>0.530849</td>\n",
       "      <td>13.629160</td>\n",
       "      <td>690.484867</td>\n",
       "      <td>[0.7057596891488465, 0.6930183106550859]</td>\n",
       "      <td>1372</td>\n",
       "    </tr>\n",
       "  </tbody>\n",
       "</table>\n",
       "</div>"
      ],
      "text/plain": [
       "  pred_spend_bins    recency  frequency  order_count          T  weekly_prob  \\\n",
       "0               0   0.000000   1.000000     1.088219  45.259336     0.022286   \n",
       "1               1   2.829294   1.150696     1.258670  34.090642     0.033636   \n",
       "2               2   8.876611   1.508044     1.640525  32.966244     0.046269   \n",
       "3               3  13.424245   1.972693     2.153750  32.409370     0.060923   \n",
       "4               4  17.197567   2.527286     2.766388  32.270414     0.078107   \n",
       "5               5  19.091677   3.101840     3.411355  30.815126     0.100793   \n",
       "6               6  24.426597   4.394784     4.870978  33.618018     0.131283   \n",
       "7               7  25.540651   5.652329     6.333568  32.295714     0.177086   \n",
       "8               8  32.409519   9.448310    10.891011  37.142626     0.253745   \n",
       "9               9  24.985571  13.388699    20.482363  27.403468     0.530849   \n",
       "\n",
       "   BG_cond_purch_12  BG_pred_spend  \\\n",
       "0          0.001345       0.058455   \n",
       "1          0.104407       4.761487   \n",
       "2          0.437996      20.577342   \n",
       "3          0.924866      44.338984   \n",
       "4          1.619164      78.214680   \n",
       "5          2.363780     114.863807   \n",
       "6          3.778857     186.363116   \n",
       "7          5.253392     261.327270   \n",
       "8          8.950069     451.770673   \n",
       "9         13.629160     690.484867   \n",
       "\n",
       "                                          sds  sample_size  \n",
       "0  [0.20875326091162452, 0.21866988981551005]        70848  \n",
       "1    [0.2549690769030927, 0.2669056424129873]        46377  \n",
       "2   [0.29708047381363895, 0.3107550262454191]        33258  \n",
       "3   [0.3382648787310144, 0.35351753602423175]        24856  \n",
       "4   [0.3794899114519059, 0.39616875616335384]        19020  \n",
       "5  [0.42575451823019855, 0.44379658066808847]        14363  \n",
       "6   [0.47759301237749396, 0.4967576466569687]        10639  \n",
       "7    [0.5398645585155446, 0.5595290921461552]         7455  \n",
       "8    [0.6153998116105553, 0.6333528697616676]         4697  \n",
       "9    [0.7057596891488465, 0.6930183106550859]         1372  "
      ]
     },
     "execution_count": 73,
     "metadata": {},
     "output_type": "execute_result"
    }
   ],
   "source": [
    "summaryFrame"
   ]
  },
  {
   "cell_type": "code",
   "execution_count": 40,
   "metadata": {
    "ExecuteTime": {
     "end_time": "2019-01-23T16:17:40.963989Z",
     "start_time": "2019-01-23T16:17:40.880554Z"
    },
    "scrolled": true
   },
   "outputs": [
    {
     "data": {
      "text/html": [
       "<div>\n",
       "<style scoped>\n",
       "    .dataframe tbody tr th:only-of-type {\n",
       "        vertical-align: middle;\n",
       "    }\n",
       "\n",
       "    .dataframe tbody tr th {\n",
       "        vertical-align: top;\n",
       "    }\n",
       "\n",
       "    .dataframe thead th {\n",
       "        text-align: right;\n",
       "    }\n",
       "</style>\n",
       "<table border=\"1\" class=\"dataframe\">\n",
       "  <thead>\n",
       "    <tr style=\"text-align: right;\">\n",
       "      <th></th>\n",
       "      <th>recency</th>\n",
       "      <th>frequency</th>\n",
       "      <th>order_count</th>\n",
       "      <th>T</th>\n",
       "      <th>BG_cond_purch_12</th>\n",
       "    </tr>\n",
       "    <tr>\n",
       "      <th>pred_spend_bins</th>\n",
       "      <th></th>\n",
       "      <th></th>\n",
       "      <th></th>\n",
       "      <th></th>\n",
       "      <th></th>\n",
       "    </tr>\n",
       "  </thead>\n",
       "  <tbody>\n",
       "    <tr>\n",
       "      <th>0</th>\n",
       "      <td>0.000000</td>\n",
       "      <td>1.000000</td>\n",
       "      <td>1.088219</td>\n",
       "      <td>45.259336</td>\n",
       "      <td>0.001345</td>\n",
       "    </tr>\n",
       "    <tr>\n",
       "      <th>1</th>\n",
       "      <td>2.829294</td>\n",
       "      <td>1.150696</td>\n",
       "      <td>1.258670</td>\n",
       "      <td>34.090642</td>\n",
       "      <td>0.104407</td>\n",
       "    </tr>\n",
       "    <tr>\n",
       "      <th>2</th>\n",
       "      <td>8.876611</td>\n",
       "      <td>1.508044</td>\n",
       "      <td>1.640525</td>\n",
       "      <td>32.966244</td>\n",
       "      <td>0.437996</td>\n",
       "    </tr>\n",
       "    <tr>\n",
       "      <th>3</th>\n",
       "      <td>13.424245</td>\n",
       "      <td>1.972693</td>\n",
       "      <td>2.153750</td>\n",
       "      <td>32.409370</td>\n",
       "      <td>0.924866</td>\n",
       "    </tr>\n",
       "    <tr>\n",
       "      <th>4</th>\n",
       "      <td>17.197567</td>\n",
       "      <td>2.527286</td>\n",
       "      <td>2.766388</td>\n",
       "      <td>32.270414</td>\n",
       "      <td>1.619164</td>\n",
       "    </tr>\n",
       "    <tr>\n",
       "      <th>5</th>\n",
       "      <td>19.091677</td>\n",
       "      <td>3.101840</td>\n",
       "      <td>3.411355</td>\n",
       "      <td>30.815126</td>\n",
       "      <td>2.363780</td>\n",
       "    </tr>\n",
       "    <tr>\n",
       "      <th>6</th>\n",
       "      <td>24.426597</td>\n",
       "      <td>4.394784</td>\n",
       "      <td>4.870978</td>\n",
       "      <td>33.618018</td>\n",
       "      <td>3.778857</td>\n",
       "    </tr>\n",
       "    <tr>\n",
       "      <th>7</th>\n",
       "      <td>25.540651</td>\n",
       "      <td>5.652329</td>\n",
       "      <td>6.333568</td>\n",
       "      <td>32.295714</td>\n",
       "      <td>5.253392</td>\n",
       "    </tr>\n",
       "    <tr>\n",
       "      <th>8</th>\n",
       "      <td>32.409519</td>\n",
       "      <td>9.448310</td>\n",
       "      <td>10.891011</td>\n",
       "      <td>37.142626</td>\n",
       "      <td>8.950069</td>\n",
       "    </tr>\n",
       "    <tr>\n",
       "      <th>9</th>\n",
       "      <td>24.985571</td>\n",
       "      <td>13.388699</td>\n",
       "      <td>20.482363</td>\n",
       "      <td>27.403468</td>\n",
       "      <td>13.629160</td>\n",
       "    </tr>\n",
       "  </tbody>\n",
       "</table>\n",
       "</div>"
      ],
      "text/plain": [
       "                   recency  frequency  order_count          T  \\\n",
       "pred_spend_bins                                                 \n",
       "0                 0.000000   1.000000     1.088219  45.259336   \n",
       "1                 2.829294   1.150696     1.258670  34.090642   \n",
       "2                 8.876611   1.508044     1.640525  32.966244   \n",
       "3                13.424245   1.972693     2.153750  32.409370   \n",
       "4                17.197567   2.527286     2.766388  32.270414   \n",
       "5                19.091677   3.101840     3.411355  30.815126   \n",
       "6                24.426597   4.394784     4.870978  33.618018   \n",
       "7                25.540651   5.652329     6.333568  32.295714   \n",
       "8                32.409519   9.448310    10.891011  37.142626   \n",
       "9                24.985571  13.388699    20.482363  27.403468   \n",
       "\n",
       "                 BG_cond_purch_12  \n",
       "pred_spend_bins                    \n",
       "0                        0.001345  \n",
       "1                        0.104407  \n",
       "2                        0.437996  \n",
       "3                        0.924866  \n",
       "4                        1.619164  \n",
       "5                        2.363780  \n",
       "6                        3.778857  \n",
       "7                        5.253392  \n",
       "8                        8.950069  \n",
       "9                       13.629160  "
      ]
     },
     "execution_count": 40,
     "metadata": {},
     "output_type": "execute_result"
    }
   ],
   "source": [
    "finalDF[['recency', 'frequency', 'order_count', 'T', 'BG_cond_purch_12']].groupby(finalDF.pred_spend_bins).mean()"
   ]
  },
  {
   "cell_type": "code",
   "execution_count": null,
   "metadata": {
    "ExecuteTime": {
     "end_time": "2018-09-17T15:50:40.534552Z",
     "start_time": "2018-09-17T15:50:40.529963Z"
    }
   },
   "outputs": [],
   "source": [
    "summaryFrame['sample_size'].sum()"
   ]
  },
  {
   "cell_type": "code",
   "execution_count": null,
   "metadata": {
    "ExecuteTime": {
     "end_time": "2018-07-17T20:33:05.465058Z",
     "start_time": "2018-07-17T20:33:05.462467Z"
    }
   },
   "outputs": [],
   "source": [
    "#df['BG_pred_spend']= np.round(df['BG_pred_spend'], 0)"
   ]
  },
  {
   "cell_type": "code",
   "execution_count": null,
   "metadata": {
    "ExecuteTime": {
     "end_time": "2018-07-18T15:28:12.560185Z",
     "start_time": "2018-07-18T15:28:12.525883Z"
    }
   },
   "outputs": [],
   "source": [
    "df['BG_pred_spend'].groupby(df['pred_spend_bins']).mean()"
   ]
  },
  {
   "cell_type": "code",
   "execution_count": null,
   "metadata": {
    "ExecuteTime": {
     "end_time": "2018-07-17T21:12:10.502025Z",
     "start_time": "2018-07-17T21:12:06.490743Z"
    }
   },
   "outputs": [],
   "source": [
    "# sort values on two columns \n",
    "df.sort_values(['BG_cond_purch_12', 'BG_pred_spend'], ascending=[False, False], inplace=True)"
   ]
  },
  {
   "cell_type": "code",
   "execution_count": 57,
   "metadata": {
    "ExecuteTime": {
     "end_time": "2019-01-23T16:23:03.458715Z",
     "start_time": "2019-01-23T16:23:03.444778Z"
    }
   },
   "outputs": [
    {
     "data": {
      "text/plain": [
       "2    199847\n",
       "0    196953\n",
       "1    196455\n",
       "7    194989\n",
       "5    194727\n",
       "6    194509\n",
       "4    194202\n",
       "9    194055\n",
       "8    193808\n",
       "3    185815\n",
       "Name: pred_spend_bins, dtype: int64"
      ]
     },
     "execution_count": 57,
     "metadata": {},
     "output_type": "execute_result"
    }
   ],
   "source": [
    "finalDF.pred_spend_bins.value_counts()"
   ]
  },
  {
   "cell_type": "code",
   "execution_count": 54,
   "metadata": {
    "ExecuteTime": {
     "end_time": "2019-01-23T16:21:49.215978Z",
     "start_time": "2019-01-23T16:21:49.201630Z"
    }
   },
   "outputs": [
    {
     "data": {
      "text/html": [
       "<div>\n",
       "<style scoped>\n",
       "    .dataframe tbody tr th:only-of-type {\n",
       "        vertical-align: middle;\n",
       "    }\n",
       "\n",
       "    .dataframe tbody tr th {\n",
       "        vertical-align: top;\n",
       "    }\n",
       "\n",
       "    .dataframe thead th {\n",
       "        text-align: right;\n",
       "    }\n",
       "</style>\n",
       "<table border=\"1\" class=\"dataframe\">\n",
       "  <thead>\n",
       "    <tr style=\"text-align: right;\">\n",
       "      <th></th>\n",
       "      <th>pred_spend_bins</th>\n",
       "      <th>recency</th>\n",
       "      <th>frequency</th>\n",
       "      <th>order_count</th>\n",
       "      <th>T</th>\n",
       "      <th>weekly_prob</th>\n",
       "      <th>BG_cond_purch_12</th>\n",
       "      <th>BG_pred_spend</th>\n",
       "      <th>sds</th>\n",
       "      <th>sample_size</th>\n",
       "    </tr>\n",
       "  </thead>\n",
       "  <tbody>\n",
       "    <tr>\n",
       "      <th>0</th>\n",
       "      <td>0</td>\n",
       "      <td>0.000000</td>\n",
       "      <td>1.000000</td>\n",
       "      <td>1.088219</td>\n",
       "      <td>45.259336</td>\n",
       "      <td>0.022286</td>\n",
       "      <td>0.001345</td>\n",
       "      <td>0.058455</td>\n",
       "      <td>[0.20875326091162452, 0.21378070261576876]</td>\n",
       "      <td>69869</td>\n",
       "    </tr>\n",
       "    <tr>\n",
       "      <th>1</th>\n",
       "      <td>1</td>\n",
       "      <td>2.829294</td>\n",
       "      <td>1.150696</td>\n",
       "      <td>1.258670</td>\n",
       "      <td>34.090642</td>\n",
       "      <td>0.033636</td>\n",
       "      <td>0.104407</td>\n",
       "      <td>4.761487</td>\n",
       "      <td>[0.2549690769030927, 0.26102727801156644]</td>\n",
       "      <td>45745</td>\n",
       "    </tr>\n",
       "    <tr>\n",
       "      <th>2</th>\n",
       "      <td>2</td>\n",
       "      <td>8.876611</td>\n",
       "      <td>1.508044</td>\n",
       "      <td>1.640525</td>\n",
       "      <td>32.966244</td>\n",
       "      <td>0.046269</td>\n",
       "      <td>0.437996</td>\n",
       "      <td>20.577342</td>\n",
       "      <td>[0.29708047381363895, 0.3040298596543196]</td>\n",
       "      <td>32813</td>\n",
       "    </tr>\n",
       "    <tr>\n",
       "      <th>3</th>\n",
       "      <td>3</td>\n",
       "      <td>13.424245</td>\n",
       "      <td>1.972693</td>\n",
       "      <td>2.153750</td>\n",
       "      <td>32.409370</td>\n",
       "      <td>0.060923</td>\n",
       "      <td>0.924866</td>\n",
       "      <td>44.338984</td>\n",
       "      <td>[0.3382648787310144, 0.3460289071642701]</td>\n",
       "      <td>24531</td>\n",
       "    </tr>\n",
       "    <tr>\n",
       "      <th>4</th>\n",
       "      <td>4</td>\n",
       "      <td>17.197567</td>\n",
       "      <td>2.527286</td>\n",
       "      <td>2.766388</td>\n",
       "      <td>32.270414</td>\n",
       "      <td>0.078107</td>\n",
       "      <td>1.619164</td>\n",
       "      <td>78.214680</td>\n",
       "      <td>[0.3794899114519059, 0.38799760973644465]</td>\n",
       "      <td>18778</td>\n",
       "    </tr>\n",
       "    <tr>\n",
       "      <th>5</th>\n",
       "      <td>5</td>\n",
       "      <td>19.091677</td>\n",
       "      <td>3.101840</td>\n",
       "      <td>3.411355</td>\n",
       "      <td>30.815126</td>\n",
       "      <td>0.100793</td>\n",
       "      <td>2.363780</td>\n",
       "      <td>114.863807</td>\n",
       "      <td>[0.42575451823019855, 0.4349859180399537]</td>\n",
       "      <td>14187</td>\n",
       "    </tr>\n",
       "    <tr>\n",
       "      <th>6</th>\n",
       "      <td>6</td>\n",
       "      <td>24.426597</td>\n",
       "      <td>4.394784</td>\n",
       "      <td>4.870978</td>\n",
       "      <td>33.618018</td>\n",
       "      <td>0.131283</td>\n",
       "      <td>3.778857</td>\n",
       "      <td>186.363116</td>\n",
       "      <td>[0.47759301237749396, 0.48744638056895406]</td>\n",
       "      <td>10516</td>\n",
       "    </tr>\n",
       "    <tr>\n",
       "      <th>7</th>\n",
       "      <td>7</td>\n",
       "      <td>25.540651</td>\n",
       "      <td>5.652329</td>\n",
       "      <td>6.333568</td>\n",
       "      <td>32.295714</td>\n",
       "      <td>0.177086</td>\n",
       "      <td>5.253392</td>\n",
       "      <td>261.327270</td>\n",
       "      <td>[0.5398645585155446, 0.5500698769522535]</td>\n",
       "      <td>7377</td>\n",
       "    </tr>\n",
       "    <tr>\n",
       "      <th>8</th>\n",
       "      <td>8</td>\n",
       "      <td>32.409519</td>\n",
       "      <td>9.448310</td>\n",
       "      <td>10.891011</td>\n",
       "      <td>37.142626</td>\n",
       "      <td>0.253745</td>\n",
       "      <td>8.950069</td>\n",
       "      <td>451.770673</td>\n",
       "      <td>[0.6153998116105553, 0.6249562048821155]</td>\n",
       "      <td>4659</td>\n",
       "    </tr>\n",
       "    <tr>\n",
       "      <th>9</th>\n",
       "      <td>9</td>\n",
       "      <td>24.985571</td>\n",
       "      <td>13.388699</td>\n",
       "      <td>20.482363</td>\n",
       "      <td>27.403468</td>\n",
       "      <td>0.530849</td>\n",
       "      <td>13.629160</td>\n",
       "      <td>690.484867</td>\n",
       "      <td>[0.7057596891488465, 0.701429654544187]</td>\n",
       "      <td>1382</td>\n",
       "    </tr>\n",
       "  </tbody>\n",
       "</table>\n",
       "</div>"
      ],
      "text/plain": [
       "  pred_spend_bins    recency  frequency  order_count          T  weekly_prob  \\\n",
       "0               0   0.000000   1.000000     1.088219  45.259336     0.022286   \n",
       "1               1   2.829294   1.150696     1.258670  34.090642     0.033636   \n",
       "2               2   8.876611   1.508044     1.640525  32.966244     0.046269   \n",
       "3               3  13.424245   1.972693     2.153750  32.409370     0.060923   \n",
       "4               4  17.197567   2.527286     2.766388  32.270414     0.078107   \n",
       "5               5  19.091677   3.101840     3.411355  30.815126     0.100793   \n",
       "6               6  24.426597   4.394784     4.870978  33.618018     0.131283   \n",
       "7               7  25.540651   5.652329     6.333568  32.295714     0.177086   \n",
       "8               8  32.409519   9.448310    10.891011  37.142626     0.253745   \n",
       "9               9  24.985571  13.388699    20.482363  27.403468     0.530849   \n",
       "\n",
       "   BG_cond_purch_12  BG_pred_spend  \\\n",
       "0          0.001345       0.058455   \n",
       "1          0.104407       4.761487   \n",
       "2          0.437996      20.577342   \n",
       "3          0.924866      44.338984   \n",
       "4          1.619164      78.214680   \n",
       "5          2.363780     114.863807   \n",
       "6          3.778857     186.363116   \n",
       "7          5.253392     261.327270   \n",
       "8          8.950069     451.770673   \n",
       "9         13.629160     690.484867   \n",
       "\n",
       "                                          sds  sample_size  \n",
       "0  [0.20875326091162452, 0.21378070261576876]        69869  \n",
       "1   [0.2549690769030927, 0.26102727801156644]        45745  \n",
       "2   [0.29708047381363895, 0.3040298596543196]        32813  \n",
       "3    [0.3382648787310144, 0.3460289071642701]        24531  \n",
       "4   [0.3794899114519059, 0.38799760973644465]        18778  \n",
       "5   [0.42575451823019855, 0.4349859180399537]        14187  \n",
       "6  [0.47759301237749396, 0.48744638056895406]        10516  \n",
       "7    [0.5398645585155446, 0.5500698769522535]         7377  \n",
       "8    [0.6153998116105553, 0.6249562048821155]         4659  \n",
       "9     [0.7057596891488465, 0.701429654544187]         1382  "
      ]
     },
     "execution_count": 54,
     "metadata": {},
     "output_type": "execute_result"
    }
   ],
   "source": [
    "summaryFrame"
   ]
  },
  {
   "cell_type": "code",
   "execution_count": 63,
   "metadata": {
    "ExecuteTime": {
     "end_time": "2019-01-23T16:23:59.759806Z",
     "start_time": "2019-01-23T16:23:58.615566Z"
    },
    "scrolled": true
   },
   "outputs": [
    {
     "name": "stdout",
     "output_type": "stream",
     "text": [
      "(1945360, 2)\n",
      "{0: 47864, 1: 31338, 2: 22479, 3: 16805, 4: 12864, 5: 9719, 6: 7204, 7: 5054, 8: 3192, 9: 947}\n"
     ]
    }
   ],
   "source": [
    "#Let's create a sampling procedure \n",
    "\n",
    "#N is the number of independent trials we will be running ()\n",
    "n=4\n",
    "\n",
    "#Create a temporary df to sample without replacement from \n",
    "samplingDF = finalDF[['customerno', 'pred_spend_bins']]\n",
    "sampledFrame = pd.DataFrame()\n",
    "\n",
    "#Size of sample for each cohort \n",
    "\n",
    "print(samplingDF.shape)\n",
    "#Create a dictionary with cohort name and sample size \n",
    "sampleSizeDict = dict(zip(summaryFrame.pred_spend_bins, summaryFrame.sample_size.values)) \n",
    "print(sampleSizeDict)\n",
    "#Create a function that iterates through the dictionary and creates a new dataframe with the samples\n",
    "for key in sampleSizeDict: \n",
    "    tempSamplingDF = samplingDF[samplingDF.pred_spend_bins == key]\n",
    "    \n",
    "    #Since we need multiple test groups, why not sample them all at once and then we can assign them to different\n",
    "    #test periods later. IF yo look below, you can see that we multiply the sample size by n, meaning we have \n",
    "    #n different test groups\n",
    "    tempSampledDF = tempSamplingDF.sample(n*sampleSizeDict.get(key), replace=False)\n",
    "    \n",
    "    #We're now randomly assigning these groups to the n different test cohorts\n",
    "    tempSampledDF.reset_index(inplace=True)\n",
    "    tempSampledDF.reset_index(inplace=True)\n",
    "    del tempSampledDF['index']\n",
    "    tempSampledDF.rename(columns={'level_0':'groups'}, inplace=True)\n",
    "    \n",
    "    tempSampledDF['groups'] = tempSampledDF['groups'].apply(lambda x: x%n)\n",
    "    sampledFrame = sampledFrame.append(tempSampledDF, ignore_index=True)\n",
    "    \n",
    "    \n",
    "\n",
    "\n",
    "\n"
   ]
  },
  {
   "cell_type": "code",
   "execution_count": 65,
   "metadata": {
    "ExecuteTime": {
     "end_time": "2019-01-23T16:24:38.496191Z",
     "start_time": "2019-01-23T16:24:38.480817Z"
    }
   },
   "outputs": [
    {
     "data": {
      "text/plain": [
       "3    157466\n",
       "2    157466\n",
       "1    157466\n",
       "0    157466\n",
       "Name: groups, dtype: int64"
      ]
     },
     "execution_count": 65,
     "metadata": {},
     "output_type": "execute_result"
    }
   ],
   "source": [
    "sampledFrame.groups.value_counts()"
   ]
  },
  {
   "cell_type": "code",
   "execution_count": 78,
   "metadata": {
    "ExecuteTime": {
     "end_time": "2019-02-05T15:17:54.596203Z",
     "start_time": "2019-02-05T15:17:51.757613Z"
    },
    "scrolled": true
   },
   "outputs": [],
   "source": [
    "sampledFrame.to_csv('final_email_test_control_groups.csv')"
   ]
  },
  {
   "cell_type": "code",
   "execution_count": 41,
   "metadata": {
    "ExecuteTime": {
     "end_time": "2019-01-23T16:18:11.015934Z",
     "start_time": "2019-01-23T16:18:11.000330Z"
    },
    "scrolled": true
   },
   "outputs": [
    {
     "name": "stdout",
     "output_type": "stream",
     "text": [
      "8_DecileList\n",
      "9_DecileList\n",
      "6_DecileList\n",
      "7_DecileList\n",
      "4_DecileList\n",
      "3_DecileList\n",
      "5_DecileList\n",
      "1_DecileList\n",
      "2_DecileList\n",
      "0_DecileList\n"
     ]
    }
   ],
   "source": [
    "## Let's create a list of customers to sample based on the necessary size of each cohort \n",
    "\n",
    "#First let's create a list of customers based on weekly purchase probability decile \n",
    "\n",
    "for i in finalDF.pred_spend_bins.unique():\n",
    "    list_name = str(i)+'_DecileList'\n",
    "    list_name = str(i)+'_DecileList'\n",
    "    #np.random.choice(a, size=None, replace=True, p=None)\n",
    "    \n",
    "    print(list_name)"
   ]
  },
  {
   "cell_type": "code",
   "execution_count": null,
   "metadata": {
    "ExecuteTime": {
     "end_time": "2018-07-17T21:12:13.008487Z",
     "start_time": "2018-07-17T21:12:10.503843Z"
    },
    "code_folding": []
   },
   "outputs": [],
   "source": [
    "#Our goal is to create two datasets of roughly equal shape and equal values \n",
    "#We will do this by sorting our dataframe along two columns and then taking every other row \n",
    "#and then repeating to take everything else \n",
    "\n",
    "# sort values on two columns \n",
    "df.sort_values(['BG_cond_purch_12', 'BG_pred_spend'], ascending=[False, False], inplace=True)\n",
    "\n",
    "#Take every other row in our total dataframe and make a\n",
    "\n",
    "df2 = df.iloc[::2, :]\n",
    "\n",
    "#Take all the remaining rows \n",
    "#df3 = df[~df.isin(df2)]\n",
    "#df3.dropna(inplace=True)\n",
    "df3 = df.iloc[1::2, :]\n",
    "\n",
    "#df.shape[0] == df2.shape[0] + df3.shape[0]"
   ]
  },
  {
   "cell_type": "code",
   "execution_count": null,
   "metadata": {
    "ExecuteTime": {
     "end_time": "2018-09-17T15:44:10.674836Z",
     "start_time": "2018-09-17T15:44:10.252780Z"
    }
   },
   "outputs": [],
   "source": [
    "fig, ax = plt.subplots(1,2, figsize=(10,4))\n",
    "\n",
    "ax[0].hist(df.BG_cond_purch_12, normed=True, color='blue')\n",
    "\n",
    "hist, bins = np.histogram(df.BG_cond_purch_12)\n",
    "ax[1].bar(bins[:-1], hist.astype(np.float32) / hist.sum(), width=(bins[1]-bins[0]), color='red')\n",
    "\n",
    "ax[0].set_title('normed=True')\n",
    "ax[1].set_title('hist = hist / hist.sum()')"
   ]
  },
  {
   "cell_type": "code",
   "execution_count": null,
   "metadata": {
    "ExecuteTime": {
     "end_time": "2018-07-17T21:13:15.224397Z",
     "start_time": "2018-07-17T21:13:14.827676Z"
    }
   },
   "outputs": [],
   "source": [
    "fig, ax = plt.subplots(1,2, figsize=(10,4))\n",
    "\n",
    "ax[0].hist(df3.BG_cond_purch_12, normed=True, color='grey')\n",
    "\n",
    "hist, bins = np.histogram(df3.BG_cond_purch_12)\n",
    "ax[1].bar(bins[:-1], hist.astype(np.float32) / hist.sum(), width=(bins[1]-bins[0]), color='grey')\n",
    "\n",
    "ax[0].set_title('normed=True')\n",
    "ax[1].set_title('hist = hist / hist.sum()')"
   ]
  },
  {
   "cell_type": "code",
   "execution_count": null,
   "metadata": {
    "ExecuteTime": {
     "end_time": "2018-07-17T21:13:15.224397Z",
     "start_time": "2018-07-17T21:13:14.827676Z"
    }
   },
   "outputs": [],
   "source": [
    "fig, ax = plt.subplots(1,2, figsize=(10,4))\n",
    "\n",
    "ax[0].hist(df2.BG_cond_purch_12, normed=True, color='grey')\n",
    "\n",
    "hist, bins = np.histogram(df2.BG_cond_purch_12)\n",
    "ax[1].bar(bins[:-1], hist.astype(np.float32) / hist.sum(), width=(bins[1]-bins[0]), color='grey')\n",
    "\n",
    "ax[0].set_title('normed=True')\n",
    "ax[1].set_title('hist = hist / hist.sum()')"
   ]
  },
  {
   "cell_type": "code",
   "execution_count": null,
   "metadata": {
    "ExecuteTime": {
     "end_time": "2018-07-17T21:31:38.293093Z",
     "start_time": "2018-07-17T21:31:37.031815Z"
    },
    "scrolled": true
   },
   "outputs": [],
   "source": [
    "np.round(df2.describe(),1) "
   ]
  },
  {
   "cell_type": "code",
   "execution_count": null,
   "metadata": {
    "ExecuteTime": {
     "end_time": "2018-07-17T21:31:44.204898Z",
     "start_time": "2018-07-17T21:31:42.847369Z"
    }
   },
   "outputs": [],
   "source": [
    "np.round(df3.describe(),1) "
   ]
  },
  {
   "cell_type": "code",
   "execution_count": null,
   "metadata": {},
   "outputs": [],
   "source": [
    "#Try to find matching vectors \n",
    "\n",
    "np.where((vals == (0, 1)).all(axis=1))\n",
    "(array([ 3, 15]),)\n",
    "\n",
    "\n"
   ]
  },
  {
   "cell_type": "code",
   "execution_count": null,
   "metadata": {},
   "outputs": [],
   "source": [
    "from bisect import bisect_left\n",
    "\n",
    "def takeClosest(myList, myNumber):\n",
    "    \"\"\"\n",
    "    Assumes myList is sorted. Returns closest value to myNumber.\n",
    "\n",
    "    If two numbers are equally close, return the smallest number.\n",
    "    \"\"\"\n",
    "    pos = bisect_left(myList, myNumber)\n",
    "    if pos == 0:\n",
    "        return myList[0]\n",
    "    if pos == len(myList):\n",
    "        return myList[-1]\n",
    "    before = myList[pos - 1]\n",
    "    after = myList[pos]\n",
    "    if after - myNumber < myNumber - before:\n",
    "       return after\n",
    "    else:\n",
    "       return before"
   ]
  }
 ],
 "metadata": {
  "kernelspec": {
   "display_name": "Python 3",
   "language": "python",
   "name": "python3"
  },
  "language_info": {
   "codemirror_mode": {
    "name": "ipython",
    "version": 3
   },
   "file_extension": ".py",
   "mimetype": "text/x-python",
   "name": "python",
   "nbconvert_exporter": "python",
   "pygments_lexer": "ipython3",
   "version": "3.6.5"
  }
 },
 "nbformat": 4,
 "nbformat_minor": 2
}
