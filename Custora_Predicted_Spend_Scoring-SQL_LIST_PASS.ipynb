{
 "cells": [
  {
   "cell_type": "code",
   "execution_count": 9,
   "metadata": {
    "ExecuteTime": {
     "end_time": "2018-06-20T16:07:37.701511Z",
     "start_time": "2018-06-20T16:07:36.593893Z"
    }
   },
   "outputs": [],
   "source": [
    "import os\n",
    "import sys\n",
    "import pyodbc\n",
    "import numpy as np\n",
    "import operator\n",
    "import pandas as pd\n",
    "import time\n",
    "import datetime\n",
    "import clv_scoring_functions\n",
    "##(make sure our CLV scoring functions script is accessible)\n",
    "import glob\n",
    "from dateutil.relativedelta import relativedelta\n",
    "import sklearn as sklearn\n",
    "from sklearn import metrics\n",
    "from scipy.optimize import minimize, rosen, rosen_der\n"
   ]
  },
  {
   "cell_type": "code",
   "execution_count": 117,
   "metadata": {
    "ExecuteTime": {
     "end_time": "2018-06-20T19:07:12.752039Z",
     "start_time": "2018-06-20T19:07:12.702095Z"
    },
    "scrolled": true
   },
   "outputs": [],
   "source": [
    "def SQL_Query(start_date, end_date, UID, password, CUST_LIST ):\n",
    "\n",
    "    \n",
    "#Format our date inputs  \n",
    "    i = str(start_date)\n",
    "    try:\n",
    "        dt_start = datetime.datetime.strptime(i, '%Y/%m/%d')\n",
    "    except ValueError:\n",
    "        print(\"Incorrect start format\")\n",
    "\n",
    "    i = str(end_date)    \n",
    "    try:\n",
    "        dt_end = datetime.datetime.strptime(i, '%Y/%m/%d')\n",
    "    except ValueError:\n",
    "        print(\"Incorrect start format\")\n",
    "\n",
    "#Formatting the dates for SQL \n",
    "    dt_start = str(dt_start) + str('.000')\n",
    "    dt_end = str(dt_end) + str('.000')\n",
    "    \n",
    "#Establish our connection to the server \n",
    "    conn_string = 'DRIVER=/usr/local/lib/libtdsodbc.so;SERVER=wnj-datasizesql;PORT=1433;DATABASE=Data Analytics;UID={};PWD={}'.format(UID,password)\n",
    "    conn = pyodbc.connect(conn_string)\n",
    "\n",
    "#Run our sql query\n",
    "\n",
    "    query = (\"\"\"\n",
    "    SELECT b.customer_id,\n",
    "    round(b.recency + b.frequency/10 + b.AmountPerWeek/100, 2)AS RFM,\n",
    "    b.recency, b.frequency, b.T, \n",
    "    b.order_count,\n",
    "    b.total_amount,\n",
    "    b.FirstOrderDate, b.LastOrderDate\n",
    "    FROM\n",
    "      (\n",
    "\n",
    "        SELECT\n",
    "          a.customer_id,\n",
    "          a.order_count,\n",
    "          a.recency,\n",
    "          a.frequency,\n",
    "          a.T,\n",
    "          round(a.total_amount /isnull(NULLIF(a.frequency, 0), 300), 2)AS AmountPerWeek,\n",
    "          a.total_amount,\n",
    "          a.FirstOrderDate,\n",
    "          a.LastOrderDate\n",
    "        FROM\n",
    "          (\n",
    "            SELECT\n",
    "              cbs.customer_identifier AS customer_id,\n",
    "              count(DISTINCT cast(DATEPART(WK, td.transaction_date)AS VARCHAR)+cast(year(td.transaction_date)AS VARCHAR))- 1\n",
    "                AS frequency,\n",
    "              datediff(WEEK,MIN(td.transaction_date),MAX(\n",
    "                  td.transaction_date))AS recency,\n",
    "              datediff(WEEK,MIN(td.transaction_date),\n",
    "                       getdate())    AS T,\n",
    "              count(distinct(td.av_transaction_id))as order_count,\n",
    "              MIN(\n",
    "                  td.transaction_date)  AS FirstOrderDate,\n",
    "              MAX(\n",
    "                  td.transaction_date)  AS LastOrderDate,\n",
    "              round(SUM((td.gross_line_amount - td.pos_discount_amount)),2) AS total_amount\n",
    "            FROM transaction_detail\n",
    "              as td\n",
    "              INNER JOIN customer_basket_scv_2017 AS cbs  ON\n",
    "                td.av_transaction_id = cbs.transaction_id\n",
    "            WHERE\n",
    "              td.transaction_date >='{}'\n",
    "            AND  \n",
    "                td.transaction_date < '{}'\n",
    "              AND cbs.customer_identifier IS NOT NULL\n",
    "              AND customer_identifier IN {} \n",
    "              AND ( td.sku_id is NOT NULL OR td.line_object_description IN ('OMS Sales Tax',\n",
    "'S6 Special Order T2 Sales Tax',\n",
    "'S6 T2 Sales Tax',\n",
    "'-Order T2 Sales Tax',\n",
    "'OMS T2 Sales Tax',\n",
    "'S6 Sales Tax',\n",
    "'-Order Sales Tax',\n",
    "'S6 Special Order Sales Tax'))\n",
    "            GROUP BY cbs.customer_identifier\n",
    "          ) a\n",
    "      ) b\n",
    "    ORDER BY RFM DESC, AmountPerWeek DESC, total_amount DESC\n",
    "\"\"\".format(dt_start, dt_end,str(CUST_LIST)))\n",
    "    \n",
    "\n",
    "    \n",
    "    start_time = time.time()\n",
    "\n",
    "    trFrame = pd.read_sql_query(query, conn)\n",
    "\n",
    "    conn.close()\n",
    "\n",
    "    end_time = time.time()\n",
    "\n",
    "    run_time = (end_time-start_time)/60\n",
    "\n",
    "    print(run_time)\n",
    "    return(trFrame)"
   ]
  },
  {
   "cell_type": "code",
   "execution_count": 118,
   "metadata": {
    "ExecuteTime": {
     "end_time": "2018-06-20T19:07:39.742084Z",
     "start_time": "2018-06-20T19:07:14.227143Z"
    }
   },
   "outputs": [
    {
     "name": "stdout",
     "output_type": "stream",
     "text": [
      "0.4189467827479045\n"
     ]
    }
   ],
   "source": [
    "CUST_LIST = ('9898420604', '161087221')\n",
    "\n",
    "temp_DF = SQL_Query('2014/07/01','2017/07/26', 'Dhananjay.Kumar','password1!', CUST_LIST)"
   ]
  },
  {
   "cell_type": "code",
   "execution_count": 126,
   "metadata": {
    "ExecuteTime": {
     "end_time": "2018-06-20T19:09:45.917991Z",
     "start_time": "2018-06-20T19:09:45.910785Z"
    }
   },
   "outputs": [
    {
     "data": {
      "text/plain": [
       "0   158 days 03:25:42.857142\n",
       "1    11 days 13:42:51.428571\n",
       "dtype: timedelta64[ns]"
      ]
     },
     "execution_count": 126,
     "metadata": {},
     "output_type": "execute_result"
    }
   ],
   "source": [
    "(temp_DF.LastOrderDate -temp_DF.FirstOrderDate )/7"
   ]
  },
  {
   "cell_type": "code",
   "execution_count": 120,
   "metadata": {
    "ExecuteTime": {
     "end_time": "2018-06-20T19:08:16.235772Z",
     "start_time": "2018-06-20T19:08:16.230447Z"
    }
   },
   "outputs": [
    {
     "data": {
      "text/plain": [
       "customer_id               object\n",
       "RFM                      float64\n",
       "recency                    int64\n",
       "frequency                  int64\n",
       "T                          int64\n",
       "order_count                int64\n",
       "total_amount             float64\n",
       "FirstOrderDate    datetime64[ns]\n",
       "LastOrderDate     datetime64[ns]\n",
       "dtype: object"
      ]
     },
     "execution_count": 120,
     "metadata": {},
     "output_type": "execute_result"
    }
   ],
   "source": [
    "temp_DF.dtypes"
   ]
  },
  {
   "cell_type": "markdown",
   "metadata": {},
   "source": [
    "# Declare our functions"
   ]
  },
  {
   "cell_type": "code",
   "execution_count": 29,
   "metadata": {
    "ExecuteTime": {
     "end_time": "2018-06-20T16:14:58.865305Z",
     "start_time": "2018-06-20T16:14:58.818842Z"
    }
   },
   "outputs": [],
   "source": [
    "def SQL_Query(start_date, end_date, UID, password, CUST_LIST ):\n",
    "\n",
    "    \n",
    "#Format our date inputs  \n",
    "    i = str(start_date)\n",
    "    try:\n",
    "        dt_start = datetime.datetime.strptime(i, '%Y/%m/%d')\n",
    "    except ValueError:\n",
    "        print(\"Incorrect start format\")\n",
    "\n",
    "    i = str(end_date)    \n",
    "    try:\n",
    "        dt_end = datetime.datetime.strptime(i, '%Y/%m/%d')\n",
    "    except ValueError:\n",
    "        print(\"Incorrect start format\")\n",
    "\n",
    "#Formatting the dates for SQL \n",
    "    dt_start = str(dt_start) + str('.000')\n",
    "    dt_end = str(dt_end) + str('.000')\n",
    "    \n",
    "#Establish our connection to the server \n",
    "    conn_string = 'DRIVER=/usr/local/lib/libtdsodbc.so;SERVER=wnj-datasizesql;PORT=1433;DATABASE=Data Analytics;UID={};PWD={}'.format(UID,password)\n",
    "    conn = pyodbc.connect(conn_string)\n",
    "    \n",
    "#Run our sql query\n",
    "\n",
    "    query = (\"\"\"SELECT  Customer_Profile.customerno, c.customer_id,\n",
    "    c.RFM, c.recency, c.frequency,c.order_count, c.T,\n",
    "    c.AmountPerWeek, c.total_amount,\n",
    "    c.FirstOrderDate, c.LastOrderDate\n",
    "    FROM\n",
    "  (SELECT b.customer_id,\n",
    "    round(b.recency + b.frequency/10 + b.AmountPerWeek/100, 2) AS RFM,\n",
    "    b.recency, b.frequency,b.order_count, b.T,\n",
    "    b.AmountPerWeek, b.total_amount,\n",
    "    b.FirstOrderDate, b.LastOrderDate\n",
    "    FROM\n",
    "      (\n",
    "\n",
    "        SELECT\n",
    "          a.customer_id,\n",
    "          a.recency,\n",
    "          a.frequency,\n",
    "          a.order_count,\n",
    "          a.T,\n",
    "          round(a.total_amount / a.frequency, 2) AS AmountPerWeek,\n",
    "          a.total_amount,\n",
    "          a.FirstOrderDate,\n",
    "          a.LastOrderDate\n",
    "        FROM\n",
    "          (\n",
    "            SELECT\n",
    "              customer_id,\n",
    "              count(DISTINCT cast(DATEPART(WK, transaction_date) AS VARCHAR) + cast(year(transaction_date) AS VARCHAR))\n",
    "                AS frequency,\n",
    "              datediff(WEEK, MIN(transaction_date), MAX(\n",
    "                  transaction_date)) AS recency,\n",
    "              datediff(WEEK, MIN(transaction_date),\n",
    "                       '{}')    AS T,\n",
    "              count(distinct(transaction_id)) as order_count,\n",
    "              MIN(\n",
    "                  transaction_date)  AS FirstOrderDate,\n",
    "              MAX(\n",
    "                  transaction_date)  AS LastOrderDate,\n",
    "              round(sum(tender_amount_total),\n",
    "                    2)               AS total_amount\n",
    "            FROM transaction_header\n",
    "            WHERE\n",
    "              transaction_date >= '{}'\n",
    "            AND  \n",
    "              transaction_date < '{}' \n",
    "              AND customer_id IS NOT NULL\n",
    "              AND customer_id IN {} \n",
    "            GROUP BY customer_id\n",
    "          ) a\n",
    "      ) b\n",
    "    ) c\n",
    "    inner join Customer_Profile ON c.customer_id = cast(Customer_Profile.customer_id AS int)\n",
    "ORDER BY RFM DESC, AmountPerWeek DESC, total_amount DESC\n",
    "\n",
    "    \"\"\".format(dt_end, dt_start, dt_end,str(CUST_LIST) ))\n",
    "\n",
    "    start_time = time.time()\n",
    "\n",
    "    trFrame = pd.read_sql_query(query, conn)\n",
    "\n",
    "    conn.close()\n",
    "\n",
    "    end_time = time.time()\n",
    "\n",
    "    run_time = (end_time-start_time)/60\n",
    "\n",
    "    print(run_time)\n",
    "    return(trFrame)"
   ]
  },
  {
   "cell_type": "code",
   "execution_count": 11,
   "metadata": {
    "ExecuteTime": {
     "end_time": "2018-06-20T16:07:39.566808Z",
     "start_time": "2018-06-20T16:07:39.536497Z"
    }
   },
   "outputs": [],
   "source": [
    "def scoring_BG(customer_df, parameter_dictionary, weeks):\n",
    "\n",
    "    start  = time.time()\n",
    "\n",
    "\n",
    "\n",
    "    a = parameter_dictionary['a']\n",
    "    alpha = parameter_dictionary['alpha']\n",
    "    b= parameter_dictionary['b']\n",
    "    r = parameter_dictionary['r']\n",
    "    print(a, alpha, b, r)\n",
    "\n",
    "\n",
    "    customer_df['period'] = str(i)+'_'+str(j)\n",
    "    customer_df['BG_cond_purch_12'] = customer_df.apply(lambda q: clv_scoring_functions.BDF_conditional_expected_number_of_purchases_up_to_time(weeks,a,alpha, b, r, q['frequency'], q['recency'], q['T']), axis=1)\n",
    "    customer_df['BG_prob_alive'] = customer_df.apply(lambda q: clv_scoring_functions.BDF_conditional_probability_alive(a,alpha, b, r, q['frequency'], q['recency'], q['T']), axis=1)\n",
    "    customer_df['BG_prob_alive'] = customer_df.BG_prob_alive.astype(float)\n",
    "    customer_df['BG_pred_spend'] = customer_df.BG_cond_purch_12*customer_df.AmountPerWeek\n",
    "\n",
    "\n",
    "\n",
    "\n",
    "    end = time.time() \n",
    "\n",
    "    print(\"It took {} minutes to score {} customers with the following parameters \\n {}\".format(((end-start)/60),customer_df.shape[0], parameter_dictionary ))\n",
    "    return(customer_df)      "
   ]
  },
  {
   "cell_type": "code",
   "execution_count": 12,
   "metadata": {
    "ExecuteTime": {
     "end_time": "2018-06-20T16:07:40.211172Z",
     "start_time": "2018-06-20T16:07:40.184624Z"
    },
    "scrolled": true
   },
   "outputs": [],
   "source": [
    "#create a dataframe with our accuracy scores for each class of customers and one for the total \n",
    "\n",
    "def accuracy_score(comparison_frame):\n",
    "    \"\"\"\n",
    "    Parameters \n",
    "    -----------\n",
    "    comparison_frame - dataframe \n",
    "        A data frame with the predicted bins and the actual bins\n",
    "    \n",
    "    Returns\n",
    "    --------\n",
    "    data frame \n",
    "        A data frame with the accuracy score for each class along with population size and overall population \n",
    "        accuracy score. \n",
    "    \"\"\"\n",
    "        \n",
    "    temp_df = pd.DataFrame()\n",
    "    i=0\n",
    "    for group in comparison_frame.custora_bins.unique():\n",
    "        i+=1\n",
    "        comparison_frame_sub = comparison_frame[comparison_frame.custora_bins==group]\n",
    "        temp_df.at[i,'class']=group\n",
    "        temp_df.at[i,'size']=comparison_frame_sub.shape[0]\n",
    "\n",
    "        temp_df.at[i,'acc_score']= sklearn.metrics.accuracy_score(comparison_frame_sub.group, comparison_frame_sub.custora_bins)\n",
    "        temp_df.at[i,'f1_score']= sklearn.metrics.f1_score(comparison_frame_sub.group, comparison_frame_sub.custora_bins, average='weighted')\n",
    "\n",
    "\n",
    "\n",
    "    temp_df.at[i+1,'class']='All'\n",
    "    temp_df.at[i+1,'size']=comparison_frame.shape[0]\n",
    "\n",
    "    temp_df.at[i+1,'acc_score']= sklearn.metrics.accuracy_score(comparison_frame.group, comparison_frame.custora_bins)\n",
    "\n",
    "    del comparison_frame_sub\n",
    "\n",
    "    return(temp_df)"
   ]
  },
  {
   "cell_type": "code",
   "execution_count": 13,
   "metadata": {
    "ExecuteTime": {
     "end_time": "2018-06-20T16:07:40.996905Z",
     "start_time": "2018-06-20T16:07:40.958048Z"
    },
    "code_folding": [
     4
    ]
   },
   "outputs": [],
   "source": [
    "def custora_group_scoring(VS_df, VS_score_col):\n",
    "    \"\"\"\n",
    "    Parameters \n",
    "    -----------\n",
    "    VS_df - dataframe \n",
    "        the data frame with our scored customers (should have customer number\n",
    "        or customer id - whatever we are going to use to merge this with the \n",
    "        custora results )\n",
    "    VS_score_col - 'string'\n",
    "        the column which contains our $ predictions for customers, include \n",
    "        quotation marks around the string\n",
    "        \n",
    "    \n",
    "    Returns\n",
    "    --------\n",
    "    data frame \n",
    "        A data frame with a percentile rank, numerical rank and bins for \n",
    "        each customer (the bins are determined by custora's definition of \n",
    "        different customer classes, see their website for any changes)\n",
    "    \n",
    "    \n",
    "    \"\"\"\n",
    "    \n",
    "    VS_df['pred_spend_rank'] = VS_df[VS_score_col].rank()\n",
    "    VS_df['pred_spend_perc'] = VS_df[VS_score_col].rank(pct=True)\n",
    "\n",
    "\n",
    "    #these bins correspond to custoras categories. The dictionary corresponds to the ranges in the bins (in order)\n",
    "    bins = np.array([0.0, 0.50, .75, .90, .95,.99,1.0001])\n",
    "    bins_dict = {1:'low', 2:'medium', 3:'bronze', 4:'silver', 5:'gold', 6: 'platinum'}\n",
    "\n",
    "    #we bin the percentile ranking using the bins articulated and then create a column that translates those \n",
    "    #bins to the custora group name \n",
    "    VS_df['pred_spend_bins'] = np.digitize(VS_df.pred_spend_perc, bins, right=False)\n",
    "    VS_df['custora_bins'] = VS_df['pred_spend_bins'].replace(bins_dict)\n",
    "    \n",
    "    #print a sanity check to make sure the bins are correctly structured\n",
    "    print(\"Please check to make sure that these bins make sense()\\n\",format(VS_df.custora_bins.value_counts()/VS_df.shape[0]))\n",
    "    \n",
    "    del VS_df['pred_spend_rank']\n",
    "    del VS_df['pred_spend_perc']\n",
    "    del VS_df['pred_spend_bins']\n",
    "    \n",
    "    return(VS_df)\n",
    "\n",
    "    "
   ]
  },
  {
   "cell_type": "code",
   "execution_count": 14,
   "metadata": {
    "ExecuteTime": {
     "end_time": "2018-06-20T16:07:41.766250Z",
     "start_time": "2018-06-20T16:07:41.741004Z"
    },
    "code_folding": []
   },
   "outputs": [],
   "source": [
    "global model_results_list\n",
    "    \n",
    "model_results_list = list()\n",
    " \n",
    "\n",
    "def minimizationfunc(params):\n",
    "    \n",
    "    \n",
    "       \n",
    "    params = params\n",
    "    \n",
    "    parameters = {'a':params[0], \"alpha\" : params[1], 'b' :params[2], 'r':params[3]}\n",
    "\n",
    "    \n",
    "    \n",
    "    test_df_scored = scoring_BG(sampled_cumulative_DF, parameters, 104)\n",
    "\n",
    "    \n",
    "    test_df_scored['pred_spend_bins'] = np.digitize(test_df_scored.BG_pred_spend, bin_separators, right=False)\n",
    "\n",
    "    test_df_scored['custora_bins'] = test_df_scored['pred_spend_bins'].replace(bins_dict)\n",
    "\n",
    "    \n",
    "    #compare the bins for the customers on the columns \n",
    "    scored = (1 - sklearn.metrics.accuracy_score(test_df_scored.group, test_df_scored.custora_bins))\n",
    "    print(\"This is your (1- accuracy score) {}\".format(scored))\n",
    "    scored = float(scored)\n",
    "    \n",
    "    model_results_list.append([parameters, scored])\n",
    "\n",
    "    return(scored)\n",
    "    \n",
    "    \n"
   ]
  },
  {
   "cell_type": "code",
   "execution_count": 15,
   "metadata": {
    "ExecuteTime": {
     "end_time": "2018-06-20T16:07:42.467088Z",
     "start_time": "2018-06-20T16:07:42.444899Z"
    }
   },
   "outputs": [],
   "source": [
    "\n",
    "#create a list of pairwise dates to pass onto a SQL query that requires a specific format - ['2016/11/01', '2017/11/01']\n",
    "#\n",
    "def query_date(start_date, end_date, interval_months):\n",
    "\n",
    "\n",
    "\n",
    "    date_list = []\n",
    "\n",
    "    start_date = datetime.datetime.strptime(start_date, '%m/%d/%Y')\n",
    "    end_date = datetime.datetime.strptime(end_date, '%m/%d/%Y')\n",
    "\n",
    "\n",
    "    start_date = datetime.date(start_date.year, start_date.month, start_date.day)\n",
    "    end_Date = datetime.date(end_date.year, end_date.month, end_date.day)\n",
    "\n",
    "    current = start_date\n",
    "    lag_month = start_date\n",
    "    while lag_month < end_Date:\n",
    "        current = lag_month\n",
    "        current += relativedelta(months=interval_months)\n",
    "        date_list.append([(lag_month).strftime('%Y/%m/%d'), (current).strftime('%Y/%m/%d')])\n",
    "        lag_month += relativedelta(months=1)\n",
    "\n",
    "\n",
    "    return(date_list)"
   ]
  },
  {
   "cell_type": "markdown",
   "metadata": {},
   "source": [
    "# Bring In Our Data"
   ]
  },
  {
   "cell_type": "markdown",
   "metadata": {},
   "source": [
    "## Bring in VS Transaction date summarized output -recency, frequency, age and total monetary value "
   ]
  },
  {
   "cell_type": "code",
   "execution_count": 6,
   "metadata": {
    "ExecuteTime": {
     "end_time": "2018-06-20T16:07:10.805224Z",
     "start_time": "2018-06-20T16:07:10.802399Z"
    }
   },
   "outputs": [],
   "source": [
    "date_list= [['2018/01/01', '2018/04/01']]"
   ]
  },
  {
   "cell_type": "code",
   "execution_count": 7,
   "metadata": {
    "ExecuteTime": {
     "end_time": "2018-06-20T16:07:11.218991Z",
     "start_time": "2018-06-20T16:07:11.214480Z"
    }
   },
   "outputs": [
    {
     "data": {
      "text/plain": [
       "[['2018/01/01', '2018/04/01']]"
      ]
     },
     "execution_count": 7,
     "metadata": {},
     "output_type": "execute_result"
    }
   ],
   "source": [
    "date_list"
   ]
  },
  {
   "cell_type": "code",
   "execution_count": 41,
   "metadata": {
    "ExecuteTime": {
     "end_time": "2018-06-20T17:13:10.693438Z",
     "start_time": "2018-06-20T17:13:10.691053Z"
    }
   },
   "outputs": [],
   "source": [
    "temp_DF"
   ]
  },
  {
   "cell_type": "code",
   "execution_count": 10,
   "metadata": {
    "ExecuteTime": {
     "end_time": "2018-06-06T22:54:06.091028Z",
     "start_time": "2018-06-06T22:15:16.687410Z"
    },
    "scrolled": true
   },
   "outputs": [
    {
     "name": "stdout",
     "output_type": "stream",
     "text": [
      "38.80082781712214\n",
      "we have data from 2016-04-01 00:00:00 to 2018-03-31 00:00:00.\n"
     ]
    }
   ],
   "source": [
    "#create a dataframe with all our sql queries appended together with their data\n",
    "\n",
    "#date_list = query_date('11/1/2017', '2/1/2019', 1 )\n",
    "\n",
    "cumulative_DF = pd.DataFrame()\n",
    "\n",
    "for i,j in date_list:\n",
    "    temp_DF = SQL_Query(i,j, 'Dhananjay.Kumar','password1!')\n",
    "    cumulative_DF = cumulative_DF.append(temp_DF)\n",
    "    del temp_DF\n",
    "\n",
    "    \n",
    "#Print information that validates our query - find the first and last transaction for the new dataframe \n",
    "\n",
    "print(\"we have data from {} to {}.\".format(cumulative_DF.FirstOrderDate.min(), cumulative_DF.LastOrderDate.max()))"
   ]
  },
  {
   "cell_type": "code",
   "execution_count": 16,
   "metadata": {
    "ExecuteTime": {
     "end_time": "2018-06-07T14:52:08.351925Z",
     "start_time": "2018-06-07T14:48:25.671246Z"
    }
   },
   "outputs": [],
   "source": [
    "#Optionally, save the dataframe so that we can double check the results later \n",
    "\n",
    "cumulative_DF.to_csv(r'/Users/sanjaygopinath/Documents/Data/cust_scored_2016_April_2018_April.csv', index=None)"
   ]
  },
  {
   "cell_type": "code",
   "execution_count": 17,
   "metadata": {
    "ExecuteTime": {
     "end_time": "2018-06-07T16:37:22.283965Z",
     "start_time": "2018-06-07T16:37:22.237019Z"
    }
   },
   "outputs": [
    {
     "data": {
      "text/html": [
       "<div>\n",
       "<style scoped>\n",
       "    .dataframe tbody tr th:only-of-type {\n",
       "        vertical-align: middle;\n",
       "    }\n",
       "\n",
       "    .dataframe tbody tr th {\n",
       "        vertical-align: top;\n",
       "    }\n",
       "\n",
       "    .dataframe thead th {\n",
       "        text-align: right;\n",
       "    }\n",
       "</style>\n",
       "<table border=\"1\" class=\"dataframe\">\n",
       "  <thead>\n",
       "    <tr style=\"text-align: right;\">\n",
       "      <th></th>\n",
       "      <th>customerno</th>\n",
       "      <th>customer_id</th>\n",
       "      <th>RFM</th>\n",
       "      <th>recency</th>\n",
       "      <th>frequency</th>\n",
       "      <th>order_count</th>\n",
       "      <th>T</th>\n",
       "      <th>AmountPerWeek</th>\n",
       "      <th>total_amount</th>\n",
       "      <th>FirstOrderDate</th>\n",
       "      <th>LastOrderDate</th>\n",
       "      <th>period</th>\n",
       "      <th>BG_cond_purch_12</th>\n",
       "      <th>BG_prob_alive</th>\n",
       "      <th>BG_pred_spend</th>\n",
       "    </tr>\n",
       "  </thead>\n",
       "  <tbody>\n",
       "    <tr>\n",
       "      <th>0</th>\n",
       "      <td>714224203</td>\n",
       "      <td>9034412</td>\n",
       "      <td>122.05</td>\n",
       "      <td>104</td>\n",
       "      <td>13</td>\n",
       "      <td>18</td>\n",
       "      <td>105</td>\n",
       "      <td>1704.63</td>\n",
       "      <td>22160.16</td>\n",
       "      <td>2016-04-01</td>\n",
       "      <td>2018-03-27</td>\n",
       "      <td>2016/04/01_2018/04/01</td>\n",
       "      <td>12.400994</td>\n",
       "      <td>0.969637</td>\n",
       "      <td>21139.106873</td>\n",
       "    </tr>\n",
       "    <tr>\n",
       "      <th>1</th>\n",
       "      <td>9898909543</td>\n",
       "      <td>8197764</td>\n",
       "      <td>118.96</td>\n",
       "      <td>104</td>\n",
       "      <td>105</td>\n",
       "      <td>245</td>\n",
       "      <td>105</td>\n",
       "      <td>496.26</td>\n",
       "      <td>52107.51</td>\n",
       "      <td>2016-04-02</td>\n",
       "      <td>2018-03-29</td>\n",
       "      <td>2016/04/01_2018/04/01</td>\n",
       "      <td>88.641276</td>\n",
       "      <td>0.991413</td>\n",
       "      <td>43989.119748</td>\n",
       "    </tr>\n",
       "    <tr>\n",
       "      <th>2</th>\n",
       "      <td>501491851</td>\n",
       "      <td>18629588</td>\n",
       "      <td>118.77</td>\n",
       "      <td>101</td>\n",
       "      <td>24</td>\n",
       "      <td>126</td>\n",
       "      <td>102</td>\n",
       "      <td>1577.13</td>\n",
       "      <td>37851.11</td>\n",
       "      <td>2016-04-18</td>\n",
       "      <td>2018-03-28</td>\n",
       "      <td>2016/04/01_2018/04/01</td>\n",
       "      <td>22.095937</td>\n",
       "      <td>0.981789</td>\n",
       "      <td>34848.164632</td>\n",
       "    </tr>\n",
       "    <tr>\n",
       "      <th>3</th>\n",
       "      <td>9898528712</td>\n",
       "      <td>4445191</td>\n",
       "      <td>118.44</td>\n",
       "      <td>104</td>\n",
       "      <td>90</td>\n",
       "      <td>222</td>\n",
       "      <td>105</td>\n",
       "      <td>543.97</td>\n",
       "      <td>48957.53</td>\n",
       "      <td>2016-04-02</td>\n",
       "      <td>2018-03-30</td>\n",
       "      <td>2016/04/01_2018/04/01</td>\n",
       "      <td>76.246636</td>\n",
       "      <td>0.991255</td>\n",
       "      <td>41475.882776</td>\n",
       "    </tr>\n",
       "    <tr>\n",
       "      <th>4</th>\n",
       "      <td>9905214575</td>\n",
       "      <td>9609834</td>\n",
       "      <td>118.41</td>\n",
       "      <td>104</td>\n",
       "      <td>106</td>\n",
       "      <td>653</td>\n",
       "      <td>105</td>\n",
       "      <td>440.89</td>\n",
       "      <td>46734.57</td>\n",
       "      <td>2016-04-02</td>\n",
       "      <td>2018-03-30</td>\n",
       "      <td>2016/04/01_2018/04/01</td>\n",
       "      <td>89.467094</td>\n",
       "      <td>0.991417</td>\n",
       "      <td>39445.147114</td>\n",
       "    </tr>\n",
       "  </tbody>\n",
       "</table>\n",
       "</div>"
      ],
      "text/plain": [
       "   customerno  customer_id     RFM  recency  frequency  order_count    T  \\\n",
       "0   714224203      9034412  122.05      104         13           18  105   \n",
       "1  9898909543      8197764  118.96      104        105          245  105   \n",
       "2   501491851     18629588  118.77      101         24          126  102   \n",
       "3  9898528712      4445191  118.44      104         90          222  105   \n",
       "4  9905214575      9609834  118.41      104        106          653  105   \n",
       "\n",
       "   AmountPerWeek  total_amount FirstOrderDate LastOrderDate  \\\n",
       "0        1704.63      22160.16     2016-04-01    2018-03-27   \n",
       "1         496.26      52107.51     2016-04-02    2018-03-29   \n",
       "2        1577.13      37851.11     2016-04-18    2018-03-28   \n",
       "3         543.97      48957.53     2016-04-02    2018-03-30   \n",
       "4         440.89      46734.57     2016-04-02    2018-03-30   \n",
       "\n",
       "                  period  BG_cond_purch_12  BG_prob_alive  BG_pred_spend  \n",
       "0  2016/04/01_2018/04/01         12.400994       0.969637   21139.106873  \n",
       "1  2016/04/01_2018/04/01         88.641276       0.991413   43989.119748  \n",
       "2  2016/04/01_2018/04/01         22.095937       0.981789   34848.164632  \n",
       "3  2016/04/01_2018/04/01         76.246636       0.991255   41475.882776  \n",
       "4  2016/04/01_2018/04/01         89.467094       0.991417   39445.147114  "
      ]
     },
     "execution_count": 17,
     "metadata": {},
     "output_type": "execute_result"
    }
   ],
   "source": [
    "cumulative_DF.head()"
   ]
  },
  {
   "cell_type": "code",
   "execution_count": 13,
   "metadata": {
    "ExecuteTime": {
     "end_time": "2018-06-07T14:10:49.389734Z",
     "start_time": "2018-06-07T14:10:45.056324Z"
    }
   },
   "outputs": [],
   "source": [
    "#Let's remove anyone who has negative or zero value for the amount they spent \n",
    "\n",
    "cumulative_DF = cumulative_DF[cumulative_DF.AmountPerWeek > 0]\n"
   ]
  },
  {
   "cell_type": "markdown",
   "metadata": {},
   "source": [
    "## Bring in Custora data"
   ]
  },
  {
   "cell_type": "code",
   "execution_count": 13,
   "metadata": {
    "ExecuteTime": {
     "end_time": "2018-03-27T16:46:17.979924Z",
     "start_time": "2018-03-27T16:45:59.128077Z"
    }
   },
   "outputs": [
    {
     "name": "stderr",
     "output_type": "stream",
     "text": [
      "/usr/local/lib/python3.6/site-packages/IPython/core/interactiveshell.py:2728: DtypeWarning: Columns (0) have mixed types. Specify dtype option on import or set low_memory=False.\n",
      "  interactivity=interactivity, compiler=compiler, result=result)\n"
     ]
    }
   ],
   "source": [
    "#import all our custora files from a specific file and then append the file name\n",
    "\n",
    "#this is for spending predictions\n",
    "\n",
    "\n",
    "path = r'/Users/sanjaygopinath/Documents/Data/CLV/Custora_Data/Machine_Learning/Spend/Jan_18' # use your path\n",
    "all_files = glob.glob(os.path.join(path, \"*.csv\"))  \n",
    "\n",
    "data = []\n",
    "\n",
    "for csv in all_files:\n",
    "    frame = pd.read_csv(csv)\n",
    "    frame['filename'] = os.path.basename(csv)\n",
    "    data.append(frame)\n",
    "\n",
    "bigframe = pd.concat(data, ignore_index=True)\n",
    "\n",
    "if 'Treatment Name' in bigframe.columns:\n",
    "    del bigframe['Treatment Name']\n",
    "    \n",
    "#this creates a new column with the custora group portion of the file name. It has to be of the following format to \n",
    "# work (this is the format which is automatically downloaded from the custora app/website) - SG_Bronze_users_2018_01_09.csv\n",
    "bigframe['group'] = bigframe['filename'].apply(lambda x: x.partition('_')[-1].partition('_')[0].lower())"
   ]
  },
  {
   "cell_type": "code",
   "execution_count": 14,
   "metadata": {
    "ExecuteTime": {
     "end_time": "2018-03-27T16:46:19.792158Z",
     "start_time": "2018-03-27T16:46:17.982197Z"
    }
   },
   "outputs": [
    {
     "data": {
      "text/plain": [
       "low         6654840\n",
       "medium      3327420\n",
       "bronze      1996452\n",
       "silver       665484\n",
       "gold         531175\n",
       "platinum     132794\n",
       "Name: group, dtype: int64"
      ]
     },
     "execution_count": 14,
     "metadata": {},
     "output_type": "execute_result"
    }
   ],
   "source": [
    "bigframe.group.value_counts()"
   ]
  },
  {
   "cell_type": "markdown",
   "metadata": {},
   "source": [
    "# Score our population"
   ]
  },
  {
   "cell_type": "code",
   "execution_count": 14,
   "metadata": {
    "ExecuteTime": {
     "end_time": "2018-06-07T14:10:52.609003Z",
     "start_time": "2018-06-07T14:10:52.595322Z"
    }
   },
   "outputs": [],
   "source": [
    "#manually input our parameters\n",
    "\n",
    "                \n",
    "#It took 3.3765572985013326 minutes to score 888193 customers with the following parameters \n",
    "#parameters = {'a': 0.06075756, 'alpha': 6.2382612304687521, 'b': 0.70402410888671718, 'r': 2.8112931823730491}\n",
    "#This is your (1- accuracy score) 0.6128161334304594\n",
    "\n",
    "#fourth iteration with 296064 customers\n",
    "#parameters = {'a': 0.025867786259379202, 'alpha': 9.8203401747296937, 'b': 1.5017444877131725, 'r': 1.293332834267968}\n",
    "#This is your (1- accuracy score) 0.46638902399481197\n",
    "\n",
    "#third iteration with 100k sample size \n",
    "#parameters = {'a': 0.047582270378977554, 'alpha': 9.7527545777315225, 'b': 1.2970538830503067, 'r': 0.97965271560800504}\n",
    "#This is your (1- accuracy score) 0.47375\n",
    "\n",
    "#second iteration with 100k sample size \n",
    "#parameters = {'a': 0.060757568359,  'alpha': 6.2382612304687521, 'b': 0.70402410888671718, 'r': 2.8112931823730491}             \n",
    "\n",
    "#first iteration with 10k sample size\n",
    "#parameters = {'a':.060965087890624825, \"alpha\" : 7.2610668945312398, 'b' :0.75478155517578061, 'r':2.7994494934082095}\n",
    "\n",
    "#iteration with sample size of 5507770\n",
    "#parameters = {'a': 0.031435172173152087,'alpha': 6.0207392676930009,'b': 3.560652837671328,'r': 0.76827969369016613}\n",
    "#This is your (1- accuracy score) 0.473750.3624563117196252\n",
    "#parameters = {'a': 0.0314,'alpha': 6.021,'b': 3.56,'r': 0.768}\n",
    "\n",
    "#old\n",
    "parameters = {'a':.34, \"alpha\" : 5.44, 'b' :.52, 'r':2.66}\n",
    "\n",
    "#create a list of our parameters so they can be referenced in our optimization function (it needs to be an array\n",
    "# not a dictionary)\n",
    "\n",
    "params = [(v) for k,v in parameters.items()]\n"
   ]
  },
  {
   "cell_type": "code",
   "execution_count": 15,
   "metadata": {
    "ExecuteTime": {
     "end_time": "2018-06-07T14:44:09.796691Z",
     "start_time": "2018-06-07T14:10:58.543147Z"
    }
   },
   "outputs": [
    {
     "name": "stdout",
     "output_type": "stream",
     "text": [
      "0.34 5.44 0.52 2.66\n",
      "It took 33.18724016745885 minutes to score 8885934 customers with the following parameters \n",
      " {'a': 0.34, 'alpha': 5.44, 'b': 0.52, 'r': 2.66}\n"
     ]
    }
   ],
   "source": [
    "#scoring the whole population \n",
    "\n",
    "cumulative_DF = scoring_BG(cumulative_DF, parameters, 104) "
   ]
  },
  {
   "cell_type": "code",
   "execution_count": 73,
   "metadata": {
    "ExecuteTime": {
     "end_time": "2018-03-29T16:49:45.950135Z",
     "start_time": "2018-03-29T16:49:38.506468Z"
    }
   },
   "outputs": [
    {
     "name": "stdout",
     "output_type": "stream",
     "text": [
      "Please check to make sure that these bins make sense()\n",
      " low         0.50\n",
      "medium      0.25\n",
      "bronze      0.15\n",
      "silver      0.05\n",
      "gold        0.04\n",
      "platinum    0.01\n",
      "Name: custora_bins, dtype: float64\n"
     ]
    }
   ],
   "source": [
    "# Bin our data based on Custora's groupings\n",
    "\n",
    "cumulative_DF = custora_group_scoring(cumulative_DF, 'BG_pred_spend')"
   ]
  },
  {
   "cell_type": "code",
   "execution_count": 74,
   "metadata": {
    "ExecuteTime": {
     "end_time": "2018-03-29T16:53:09.643088Z",
     "start_time": "2018-03-29T16:49:45.951984Z"
    }
   },
   "outputs": [
    {
     "data": {
      "text/plain": [
       "0.72682337860876545"
      ]
     },
     "execution_count": 74,
     "metadata": {},
     "output_type": "execute_result"
    }
   ],
   "source": [
    "#set the indices as your common shared customer id ('User ID'/'customerno'/'customer_ID')\n",
    "\n",
    "#cumulative_DF['customerno'] = cumulative_DF['customerno'].astype(str)\n",
    "#bigframe['User ID'] = bigframe['User ID'].astype(str)\n",
    "\n",
    "\n",
    "#cumulative_DF.set_index(cumulative_DF['customerno'], inplace=True)\n",
    "\n",
    "#bigframe.set_index(bigframe['User ID'], inplace=True)\n",
    "\n",
    "\n",
    "#join the custora dataframe and our scored df  \n",
    "comparison_frame = cumulative_DF.join(bigframe, how='inner')\n",
    "\n",
    "#compare the bins for the customers on the bins \n",
    "sklearn.metrics.accuracy_score(comparison_frame.custora_bins, comparison_frame.group)"
   ]
  },
  {
   "cell_type": "code",
   "execution_count": 76,
   "metadata": {
    "ExecuteTime": {
     "end_time": "2018-03-29T19:45:32.977617Z",
     "start_time": "2018-03-29T19:44:56.486622Z"
    }
   },
   "outputs": [
    {
     "data": {
      "text/plain": [
       "0.72682337860876545"
      ]
     },
     "execution_count": 76,
     "metadata": {},
     "output_type": "execute_result"
    }
   ],
   "source": [
    "sklearn.metrics.accuracy_score(comparison_frame.custora_bins, comparison_frame.group)"
   ]
  },
  {
   "cell_type": "code",
   "execution_count": 81,
   "metadata": {
    "ExecuteTime": {
     "end_time": "2018-03-29T19:57:54.499009Z",
     "start_time": "2018-03-29T19:57:53.260525Z"
    }
   },
   "outputs": [
    {
     "data": {
      "text/plain": [
       "array(['bronze', 'low', 'platinum', 'medium', 'silver', 'gold'], dtype=object)"
      ]
     },
     "execution_count": 81,
     "metadata": {},
     "output_type": "execute_result"
    }
   ],
   "source": [
    "bigframe.group.unique()"
   ]
  },
  {
   "cell_type": "code",
   "execution_count": 86,
   "metadata": {
    "ExecuteTime": {
     "end_time": "2018-03-29T19:58:55.198783Z",
     "start_time": "2018-03-29T19:58:54.821028Z"
    }
   },
   "outputs": [],
   "source": [
    "top_10_custora = bigframe[bigframe['group'].isin(['platinum', 'silver', 'gold'])]"
   ]
  },
  {
   "cell_type": "code",
   "execution_count": 87,
   "metadata": {
    "ExecuteTime": {
     "end_time": "2018-03-29T19:58:55.204559Z",
     "start_time": "2018-03-29T19:58:55.200412Z"
    }
   },
   "outputs": [
    {
     "data": {
      "text/plain": [
       "0.09989754410168494"
      ]
     },
     "execution_count": 87,
     "metadata": {},
     "output_type": "execute_result"
    }
   ],
   "source": [
    "top_10_custora.shape[0]/bigframe.shape[0]"
   ]
  },
  {
   "cell_type": "code",
   "execution_count": 123,
   "metadata": {
    "ExecuteTime": {
     "end_time": "2018-03-29T20:11:19.346754Z",
     "start_time": "2018-03-29T20:11:19.342396Z"
    }
   },
   "outputs": [
    {
     "data": {
      "text/plain": [
       "1996224.75"
      ]
     },
     "execution_count": 123,
     "metadata": {},
     "output_type": "execute_result"
    }
   ],
   "source": [
    "bigframe.shape[0]*.15"
   ]
  },
  {
   "cell_type": "code",
   "execution_count": 113,
   "metadata": {
    "ExecuteTime": {
     "end_time": "2018-03-29T20:09:08.263115Z",
     "start_time": "2018-03-29T20:09:08.259271Z"
    }
   },
   "outputs": [
    {
     "data": {
      "text/plain": [
       "-1363.5"
      ]
     },
     "execution_count": 113,
     "metadata": {},
     "output_type": "execute_result"
    }
   ],
   "source": [
    "1329453-1330816.5"
   ]
  },
  {
   "cell_type": "code",
   "execution_count": 94,
   "metadata": {
    "ExecuteTime": {
     "end_time": "2018-03-29T20:01:07.383067Z",
     "start_time": "2018-03-29T20:01:07.339250Z"
    }
   },
   "outputs": [],
   "source": [
    "top_10_custora_list = list(top_10_custora.index)"
   ]
  },
  {
   "cell_type": "code",
   "execution_count": 110,
   "metadata": {
    "ExecuteTime": {
     "end_time": "2018-03-29T20:08:38.826136Z",
     "start_time": "2018-03-29T20:08:38.822040Z"
    }
   },
   "outputs": [
    {
     "data": {
      "text/plain": [
       "(1329453, 5)"
      ]
     },
     "execution_count": 110,
     "metadata": {},
     "output_type": "execute_result"
    }
   ],
   "source": [
    "top_10_custora.shape"
   ]
  },
  {
   "cell_type": "code",
   "execution_count": 100,
   "metadata": {
    "ExecuteTime": {
     "end_time": "2018-03-29T20:02:40.556736Z",
     "start_time": "2018-03-29T20:02:40.552782Z"
    }
   },
   "outputs": [
    {
     "data": {
      "text/plain": [
       "1329453"
      ]
     },
     "execution_count": 100,
     "metadata": {},
     "output_type": "execute_result"
    }
   ],
   "source": [
    "len(top_10_custora_list)"
   ]
  },
  {
   "cell_type": "code",
   "execution_count": 124,
   "metadata": {
    "ExecuteTime": {
     "end_time": "2018-03-29T20:11:38.249288Z",
     "start_time": "2018-03-29T20:11:32.175910Z"
    }
   },
   "outputs": [
    {
     "data": {
      "text/plain": [
       "0.96090647807782603"
      ]
     },
     "execution_count": 124,
     "metadata": {},
     "output_type": "execute_result"
    }
   ],
   "source": [
    "temp_DF = cumulative_DF.head(1996224)\n",
    "#VS_top_10_list = list(temp_DF.index)\n",
    "sum(temp_DF.index.isin(top_10_custora_list))/len(top_10_custora_list)"
   ]
  },
  {
   "cell_type": "code",
   "execution_count": 106,
   "metadata": {
    "ExecuteTime": {
     "end_time": "2018-03-29T20:05:42.488191Z",
     "start_time": "2018-03-29T20:05:38.423947Z"
    }
   },
   "outputs": [
    {
     "data": {
      "text/plain": [
       "1130903"
      ]
     },
     "execution_count": 106,
     "metadata": {},
     "output_type": "execute_result"
    }
   ],
   "source": [
    "sum(temp_DF.index.isin(top_10_custora_list))"
   ]
  },
  {
   "cell_type": "code",
   "execution_count": 107,
   "metadata": {
    "ExecuteTime": {
     "end_time": "2018-03-29T20:05:50.543298Z",
     "start_time": "2018-03-29T20:05:50.539685Z"
    }
   },
   "outputs": [
    {
     "data": {
      "text/plain": [
       "0.8506528624930705"
      ]
     },
     "execution_count": 107,
     "metadata": {},
     "output_type": "execute_result"
    }
   ],
   "source": [
    "1130903/1329453"
   ]
  },
  {
   "cell_type": "code",
   "execution_count": 89,
   "metadata": {
    "ExecuteTime": {
     "end_time": "2018-03-29T19:59:25.861111Z",
     "start_time": "2018-03-29T19:59:25.854145Z"
    }
   },
   "outputs": [
    {
     "data": {
      "text/plain": [
       "Index(['customerno', 'customer_id', 'RFM', 'recency', 'frequency',\n",
       "       'order_count', 'T', 'AmountPerWeek', 'total_amount', 'FirstOrderDate',\n",
       "       'LastOrderDate', 'period', 'BG_cond_purch_12', 'BG_prob_alive',\n",
       "       'BG_pred_spend', 'custora_bins'],\n",
       "      dtype='object')"
      ]
     },
     "execution_count": 89,
     "metadata": {},
     "output_type": "execute_result"
    }
   ],
   "source": [
    "cumulative_DF.columns"
   ]
  },
  {
   "cell_type": "code",
   "execution_count": 90,
   "metadata": {
    "ExecuteTime": {
     "end_time": "2018-03-29T20:00:12.257920Z",
     "start_time": "2018-03-29T19:59:53.128581Z"
    }
   },
   "outputs": [],
   "source": [
    "cumulative_DF.sort_values('BG_pred_spend', ascending=False, inplace=True)"
   ]
  },
  {
   "cell_type": "code",
   "execution_count": 37,
   "metadata": {
    "ExecuteTime": {
     "end_time": "2018-03-27T19:34:44.172423Z",
     "start_time": "2018-03-27T19:34:44.142426Z"
    }
   },
   "outputs": [
    {
     "data": {
      "text/html": [
       "<div>\n",
       "<style scoped>\n",
       "    .dataframe tbody tr th:only-of-type {\n",
       "        vertical-align: middle;\n",
       "    }\n",
       "\n",
       "    .dataframe tbody tr th {\n",
       "        vertical-align: top;\n",
       "    }\n",
       "\n",
       "    .dataframe thead th {\n",
       "        text-align: right;\n",
       "    }\n",
       "</style>\n",
       "<table border=\"1\" class=\"dataframe\">\n",
       "  <thead>\n",
       "    <tr style=\"text-align: right;\">\n",
       "      <th></th>\n",
       "      <th>customerno</th>\n",
       "      <th>customer_id</th>\n",
       "      <th>RFM</th>\n",
       "      <th>recency</th>\n",
       "      <th>frequency</th>\n",
       "      <th>order_count</th>\n",
       "      <th>T</th>\n",
       "      <th>AmountPerWeek</th>\n",
       "      <th>total_amount</th>\n",
       "      <th>FirstOrderDate</th>\n",
       "      <th>...</th>\n",
       "      <th>period</th>\n",
       "      <th>BG_cond_purch_12</th>\n",
       "      <th>BG_prob_alive</th>\n",
       "      <th>BG_pred_spend</th>\n",
       "      <th>custora_bins</th>\n",
       "      <th>User ID</th>\n",
       "      <th>Email</th>\n",
       "      <th>Channels</th>\n",
       "      <th>filename</th>\n",
       "      <th>group</th>\n",
       "    </tr>\n",
       "  </thead>\n",
       "  <tbody>\n",
       "    <tr>\n",
       "      <th>1000006</th>\n",
       "      <td>1000006</td>\n",
       "      <td>1898985</td>\n",
       "      <td>0.42</td>\n",
       "      <td>0</td>\n",
       "      <td>1</td>\n",
       "      <td>1</td>\n",
       "      <td>129</td>\n",
       "      <td>41.56</td>\n",
       "      <td>41.56</td>\n",
       "      <td>2015-07-31</td>\n",
       "      <td>...</td>\n",
       "      <td>2015/01/01_2018/01/17</td>\n",
       "      <td>0.200469</td>\n",
       "      <td>0.117842</td>\n",
       "      <td>8.331511</td>\n",
       "      <td>low</td>\n",
       "      <td>1000006</td>\n",
       "      <td>NaN</td>\n",
       "      <td>NaN</td>\n",
       "      <td>SG_Low_users_2018_01_09.csv</td>\n",
       "      <td>low</td>\n",
       "    </tr>\n",
       "    <tr>\n",
       "      <th>1000009</th>\n",
       "      <td>1000009</td>\n",
       "      <td>1921283</td>\n",
       "      <td>130.53</td>\n",
       "      <td>129</td>\n",
       "      <td>13</td>\n",
       "      <td>16</td>\n",
       "      <td>158</td>\n",
       "      <td>53.04</td>\n",
       "      <td>689.55</td>\n",
       "      <td>2015-01-05</td>\n",
       "      <td>...</td>\n",
       "      <td>2015/01/01_2018/01/17</td>\n",
       "      <td>8.549080</td>\n",
       "      <td>0.971967</td>\n",
       "      <td>453.443224</td>\n",
       "      <td>bronze</td>\n",
       "      <td>1000009</td>\n",
       "      <td>NaN</td>\n",
       "      <td>NaN</td>\n",
       "      <td>SG_Silver_users_2018_01_09.csv</td>\n",
       "      <td>silver</td>\n",
       "    </tr>\n",
       "    <tr>\n",
       "      <th>1000023</th>\n",
       "      <td>1000023</td>\n",
       "      <td>1516319</td>\n",
       "      <td>0.14</td>\n",
       "      <td>0</td>\n",
       "      <td>1</td>\n",
       "      <td>1</td>\n",
       "      <td>64</td>\n",
       "      <td>14.49</td>\n",
       "      <td>14.49</td>\n",
       "      <td>2016-10-28</td>\n",
       "      <td>...</td>\n",
       "      <td>2015/01/01_2018/01/17</td>\n",
       "      <td>1.152520</td>\n",
       "      <td>0.362466</td>\n",
       "      <td>16.700018</td>\n",
       "      <td>low</td>\n",
       "      <td>1000023</td>\n",
       "      <td>NaN</td>\n",
       "      <td>NaN</td>\n",
       "      <td>SG_Low_users_2018_01_09.csv</td>\n",
       "      <td>low</td>\n",
       "    </tr>\n",
       "    <tr>\n",
       "      <th>10000350601</th>\n",
       "      <td>10000350601</td>\n",
       "      <td>25651748</td>\n",
       "      <td>104.25</td>\n",
       "      <td>104</td>\n",
       "      <td>3</td>\n",
       "      <td>3</td>\n",
       "      <td>125</td>\n",
       "      <td>25.07</td>\n",
       "      <td>75.22</td>\n",
       "      <td>2015-08-24</td>\n",
       "      <td>...</td>\n",
       "      <td>2015/01/01_2018/01/17</td>\n",
       "      <td>3.232057</td>\n",
       "      <td>0.984948</td>\n",
       "      <td>81.027660</td>\n",
       "      <td>low</td>\n",
       "      <td>10000350601</td>\n",
       "      <td>marycoco777@gmail.com</td>\n",
       "      <td>NaN</td>\n",
       "      <td>SG_Medium_users_2018_01_09.csv</td>\n",
       "      <td>medium</td>\n",
       "    </tr>\n",
       "    <tr>\n",
       "      <th>1000066</th>\n",
       "      <td>1000066</td>\n",
       "      <td>2102293</td>\n",
       "      <td>0.27</td>\n",
       "      <td>0</td>\n",
       "      <td>1</td>\n",
       "      <td>1</td>\n",
       "      <td>24</td>\n",
       "      <td>26.98</td>\n",
       "      <td>26.98</td>\n",
       "      <td>2017-07-31</td>\n",
       "      <td>...</td>\n",
       "      <td>2015/01/01_2018/01/17</td>\n",
       "      <td>5.308388</td>\n",
       "      <td>0.773018</td>\n",
       "      <td>143.220320</td>\n",
       "      <td>medium</td>\n",
       "      <td>1000066</td>\n",
       "      <td>hornbird@optonline.net</td>\n",
       "      <td>NaN</td>\n",
       "      <td>SG_Medium_users_2018_01_09.csv</td>\n",
       "      <td>medium</td>\n",
       "    </tr>\n",
       "  </tbody>\n",
       "</table>\n",
       "<p>5 rows × 21 columns</p>\n",
       "</div>"
      ],
      "text/plain": [
       "              customerno  customer_id     RFM  recency  frequency  \\\n",
       "1000006          1000006      1898985    0.42        0          1   \n",
       "1000009          1000009      1921283  130.53      129         13   \n",
       "1000023          1000023      1516319    0.14        0          1   \n",
       "10000350601  10000350601     25651748  104.25      104          3   \n",
       "1000066          1000066      2102293    0.27        0          1   \n",
       "\n",
       "             order_count    T  AmountPerWeek  total_amount FirstOrderDate  \\\n",
       "1000006                1  129          41.56         41.56     2015-07-31   \n",
       "1000009               16  158          53.04        689.55     2015-01-05   \n",
       "1000023                1   64          14.49         14.49     2016-10-28   \n",
       "10000350601            3  125          25.07         75.22     2015-08-24   \n",
       "1000066                1   24          26.98         26.98     2017-07-31   \n",
       "\n",
       "              ...                   period BG_cond_purch_12  BG_prob_alive  \\\n",
       "1000006       ...    2015/01/01_2018/01/17         0.200469       0.117842   \n",
       "1000009       ...    2015/01/01_2018/01/17         8.549080       0.971967   \n",
       "1000023       ...    2015/01/01_2018/01/17         1.152520       0.362466   \n",
       "10000350601   ...    2015/01/01_2018/01/17         3.232057       0.984948   \n",
       "1000066       ...    2015/01/01_2018/01/17         5.308388       0.773018   \n",
       "\n",
       "             BG_pred_spend  custora_bins      User ID                   Email  \\\n",
       "1000006           8.331511           low      1000006                     NaN   \n",
       "1000009         453.443224        bronze      1000009                     NaN   \n",
       "1000023          16.700018           low      1000023                     NaN   \n",
       "10000350601      81.027660           low  10000350601   marycoco777@gmail.com   \n",
       "1000066         143.220320        medium      1000066  hornbird@optonline.net   \n",
       "\n",
       "            Channels                        filename   group  \n",
       "1000006          NaN     SG_Low_users_2018_01_09.csv     low  \n",
       "1000009          NaN  SG_Silver_users_2018_01_09.csv  silver  \n",
       "1000023          NaN     SG_Low_users_2018_01_09.csv     low  \n",
       "10000350601      NaN  SG_Medium_users_2018_01_09.csv  medium  \n",
       "1000066          NaN  SG_Medium_users_2018_01_09.csv  medium  \n",
       "\n",
       "[5 rows x 21 columns]"
      ]
     },
     "execution_count": 37,
     "metadata": {},
     "output_type": "execute_result"
    }
   ],
   "source": [
    "comparison_frame.head()"
   ]
  },
  {
   "cell_type": "code",
   "execution_count": 48,
   "metadata": {
    "ExecuteTime": {
     "end_time": "2018-03-27T20:48:06.435398Z",
     "start_time": "2018-03-27T20:48:02.817132Z"
    }
   },
   "outputs": [],
   "source": [
    "comparison_frame = comparison_frame[comparison_frame.frequency >1]"
   ]
  },
  {
   "cell_type": "code",
   "execution_count": 78,
   "metadata": {
    "ExecuteTime": {
     "end_time": "2018-03-29T19:52:44.582240Z",
     "start_time": "2018-03-29T19:52:44.441006Z"
    }
   },
   "outputs": [
    {
     "data": {
      "text/html": [
       "<div>\n",
       "<style scoped>\n",
       "    .dataframe tbody tr th:only-of-type {\n",
       "        vertical-align: middle;\n",
       "    }\n",
       "\n",
       "    .dataframe tbody tr th {\n",
       "        vertical-align: top;\n",
       "    }\n",
       "\n",
       "    .dataframe thead th {\n",
       "        text-align: right;\n",
       "    }\n",
       "</style>\n",
       "<table border=\"1\" class=\"dataframe\">\n",
       "  <thead>\n",
       "    <tr style=\"text-align: right;\">\n",
       "      <th></th>\n",
       "      <th>customerno</th>\n",
       "      <th>customer_id</th>\n",
       "      <th>RFM</th>\n",
       "      <th>recency</th>\n",
       "      <th>frequency</th>\n",
       "      <th>order_count</th>\n",
       "      <th>T</th>\n",
       "      <th>AmountPerWeek</th>\n",
       "      <th>total_amount</th>\n",
       "      <th>FirstOrderDate</th>\n",
       "      <th>...</th>\n",
       "      <th>period</th>\n",
       "      <th>BG_cond_purch_12</th>\n",
       "      <th>BG_prob_alive</th>\n",
       "      <th>BG_pred_spend</th>\n",
       "      <th>custora_bins</th>\n",
       "      <th>User ID</th>\n",
       "      <th>Email</th>\n",
       "      <th>Channels</th>\n",
       "      <th>filename</th>\n",
       "      <th>group</th>\n",
       "    </tr>\n",
       "  </thead>\n",
       "  <tbody>\n",
       "    <tr>\n",
       "      <th>1000006</th>\n",
       "      <td>1000006</td>\n",
       "      <td>1898985</td>\n",
       "      <td>0.42</td>\n",
       "      <td>0</td>\n",
       "      <td>1</td>\n",
       "      <td>1</td>\n",
       "      <td>129</td>\n",
       "      <td>41.56</td>\n",
       "      <td>41.56</td>\n",
       "      <td>2015-07-31</td>\n",
       "      <td>...</td>\n",
       "      <td>2015/01/01_2018/01/17</td>\n",
       "      <td>0.000028</td>\n",
       "      <td>0.000012</td>\n",
       "      <td>0.001146</td>\n",
       "      <td>low</td>\n",
       "      <td>1000006</td>\n",
       "      <td>NaN</td>\n",
       "      <td>NaN</td>\n",
       "      <td>SG_Low_users_2018_01_09.csv</td>\n",
       "      <td>low</td>\n",
       "    </tr>\n",
       "    <tr>\n",
       "      <th>1000009</th>\n",
       "      <td>1000009</td>\n",
       "      <td>1921283</td>\n",
       "      <td>130.53</td>\n",
       "      <td>129</td>\n",
       "      <td>13</td>\n",
       "      <td>16</td>\n",
       "      <td>158</td>\n",
       "      <td>53.04</td>\n",
       "      <td>689.55</td>\n",
       "      <td>2015-01-05</td>\n",
       "      <td>...</td>\n",
       "      <td>2015/01/01_2018/01/17</td>\n",
       "      <td>5.687281</td>\n",
       "      <td>0.633509</td>\n",
       "      <td>301.653389</td>\n",
       "      <td>bronze</td>\n",
       "      <td>1000009</td>\n",
       "      <td>NaN</td>\n",
       "      <td>NaN</td>\n",
       "      <td>SG_Silver_users_2018_01_09.csv</td>\n",
       "      <td>silver</td>\n",
       "    </tr>\n",
       "    <tr>\n",
       "      <th>1000023</th>\n",
       "      <td>1000023</td>\n",
       "      <td>1516319</td>\n",
       "      <td>0.14</td>\n",
       "      <td>0</td>\n",
       "      <td>1</td>\n",
       "      <td>1</td>\n",
       "      <td>64</td>\n",
       "      <td>14.49</td>\n",
       "      <td>14.49</td>\n",
       "      <td>2016-10-28</td>\n",
       "      <td>...</td>\n",
       "      <td>2015/01/01_2018/01/17</td>\n",
       "      <td>0.000530</td>\n",
       "      <td>0.000137</td>\n",
       "      <td>0.007684</td>\n",
       "      <td>low</td>\n",
       "      <td>1000023</td>\n",
       "      <td>NaN</td>\n",
       "      <td>NaN</td>\n",
       "      <td>SG_Low_users_2018_01_09.csv</td>\n",
       "      <td>low</td>\n",
       "    </tr>\n",
       "    <tr>\n",
       "      <th>10000350601</th>\n",
       "      <td>10000350601</td>\n",
       "      <td>25651748</td>\n",
       "      <td>104.25</td>\n",
       "      <td>104</td>\n",
       "      <td>3</td>\n",
       "      <td>3</td>\n",
       "      <td>125</td>\n",
       "      <td>25.07</td>\n",
       "      <td>75.22</td>\n",
       "      <td>2015-08-24</td>\n",
       "      <td>...</td>\n",
       "      <td>2015/01/01_2018/01/17</td>\n",
       "      <td>2.795534</td>\n",
       "      <td>0.732928</td>\n",
       "      <td>70.084030</td>\n",
       "      <td>medium</td>\n",
       "      <td>10000350601</td>\n",
       "      <td>marycoco777@gmail.com</td>\n",
       "      <td>NaN</td>\n",
       "      <td>SG_Medium_users_2018_01_09.csv</td>\n",
       "      <td>medium</td>\n",
       "    </tr>\n",
       "    <tr>\n",
       "      <th>1000066</th>\n",
       "      <td>1000066</td>\n",
       "      <td>2102293</td>\n",
       "      <td>0.27</td>\n",
       "      <td>0</td>\n",
       "      <td>1</td>\n",
       "      <td>1</td>\n",
       "      <td>24</td>\n",
       "      <td>26.98</td>\n",
       "      <td>26.98</td>\n",
       "      <td>2017-07-31</td>\n",
       "      <td>...</td>\n",
       "      <td>2015/01/01_2018/01/17</td>\n",
       "      <td>0.023556</td>\n",
       "      <td>0.003156</td>\n",
       "      <td>0.635554</td>\n",
       "      <td>low</td>\n",
       "      <td>1000066</td>\n",
       "      <td>hornbird@optonline.net</td>\n",
       "      <td>NaN</td>\n",
       "      <td>SG_Medium_users_2018_01_09.csv</td>\n",
       "      <td>medium</td>\n",
       "    </tr>\n",
       "  </tbody>\n",
       "</table>\n",
       "<p>5 rows × 21 columns</p>\n",
       "</div>"
      ],
      "text/plain": [
       "              customerno  customer_id     RFM  recency  frequency  \\\n",
       "1000006          1000006      1898985    0.42        0          1   \n",
       "1000009          1000009      1921283  130.53      129         13   \n",
       "1000023          1000023      1516319    0.14        0          1   \n",
       "10000350601  10000350601     25651748  104.25      104          3   \n",
       "1000066          1000066      2102293    0.27        0          1   \n",
       "\n",
       "             order_count    T  AmountPerWeek  total_amount FirstOrderDate  \\\n",
       "1000006                1  129          41.56         41.56     2015-07-31   \n",
       "1000009               16  158          53.04        689.55     2015-01-05   \n",
       "1000023                1   64          14.49         14.49     2016-10-28   \n",
       "10000350601            3  125          25.07         75.22     2015-08-24   \n",
       "1000066                1   24          26.98         26.98     2017-07-31   \n",
       "\n",
       "              ...                   period BG_cond_purch_12  BG_prob_alive  \\\n",
       "1000006       ...    2015/01/01_2018/01/17         0.000028       0.000012   \n",
       "1000009       ...    2015/01/01_2018/01/17         5.687281       0.633509   \n",
       "1000023       ...    2015/01/01_2018/01/17         0.000530       0.000137   \n",
       "10000350601   ...    2015/01/01_2018/01/17         2.795534       0.732928   \n",
       "1000066       ...    2015/01/01_2018/01/17         0.023556       0.003156   \n",
       "\n",
       "             BG_pred_spend  custora_bins      User ID                   Email  \\\n",
       "1000006           0.001146           low      1000006                     NaN   \n",
       "1000009         301.653389        bronze      1000009                     NaN   \n",
       "1000023           0.007684           low      1000023                     NaN   \n",
       "10000350601      70.084030        medium  10000350601   marycoco777@gmail.com   \n",
       "1000066           0.635554           low      1000066  hornbird@optonline.net   \n",
       "\n",
       "            Channels                        filename   group  \n",
       "1000006          NaN     SG_Low_users_2018_01_09.csv     low  \n",
       "1000009          NaN  SG_Silver_users_2018_01_09.csv  silver  \n",
       "1000023          NaN     SG_Low_users_2018_01_09.csv     low  \n",
       "10000350601      NaN  SG_Medium_users_2018_01_09.csv  medium  \n",
       "1000066          NaN  SG_Medium_users_2018_01_09.csv  medium  \n",
       "\n",
       "[5 rows x 21 columns]"
      ]
     },
     "execution_count": 78,
     "metadata": {},
     "output_type": "execute_result"
    }
   ],
   "source": [
    "comparison_frame.head()"
   ]
  },
  {
   "cell_type": "code",
   "execution_count": 80,
   "metadata": {
    "ExecuteTime": {
     "end_time": "2018-03-29T19:54:01.617585Z",
     "start_time": "2018-03-29T19:54:01.612597Z"
    }
   },
   "outputs": [
    {
     "data": {
      "text/plain": [
       "Index(['User ID', 'Email', 'Channels', 'filename', 'group'], dtype='object')"
      ]
     },
     "execution_count": 80,
     "metadata": {},
     "output_type": "execute_result"
    }
   ],
   "source": [
    "bigframe.columns"
   ]
  },
  {
   "cell_type": "code",
   "execution_count": null,
   "metadata": {},
   "outputs": [],
   "source": [
    "custora_top_10 = bigframe['customera']"
   ]
  },
  {
   "cell_type": "code",
   "execution_count": 26,
   "metadata": {
    "ExecuteTime": {
     "end_time": "2018-03-27T18:20:55.242210Z",
     "start_time": "2018-03-27T18:20:54.081744Z"
    }
   },
   "outputs": [
    {
     "data": {
      "text/plain": [
       "low         5547002\n",
       "medium      2760398\n",
       "bronze      1638384\n",
       "silver       537528\n",
       "gold         425103\n",
       "platinum     107125\n",
       "Name: custora_bins, dtype: int64"
      ]
     },
     "execution_count": 26,
     "metadata": {},
     "output_type": "execute_result"
    }
   ],
   "source": [
    "comparison_frame.custora_bins.value_counts()"
   ]
  },
  {
   "cell_type": "code",
   "execution_count": 27,
   "metadata": {
    "ExecuteTime": {
     "end_time": "2018-03-27T18:21:03.658833Z",
     "start_time": "2018-03-27T18:20:59.131755Z"
    }
   },
   "outputs": [
    {
     "data": {
      "text/plain": [
       "low         4380954\n",
       "medium      3312101\n",
       "bronze      1993564\n",
       "silver       665099\n",
       "gold         531037\n",
       "platinum     132785\n",
       "Name: group, dtype: int64"
      ]
     },
     "execution_count": 27,
     "metadata": {},
     "output_type": "execute_result"
    }
   ],
   "source": [
    "comparison_frame.group.value_counts()"
   ]
  },
  {
   "cell_type": "code",
   "execution_count": 65,
   "metadata": {
    "ExecuteTime": {
     "end_time": "2018-03-28T21:18:08.002039Z",
     "start_time": "2018-03-28T21:14:26.413320Z"
    }
   },
   "outputs": [
    {
     "name": "stderr",
     "output_type": "stream",
     "text": [
      "/usr/local/lib/python3.6/site-packages/sklearn/metrics/classification.py:1135: UndefinedMetricWarning: F-score is ill-defined and being set to 0.0 in labels with no predicted samples.\n",
      "  'precision', 'predicted', average, warn_for)\n"
     ]
    }
   ],
   "source": [
    "score_frame4 = accuracy_score(comparison_frame)"
   ]
  },
  {
   "cell_type": "code",
   "execution_count": 70,
   "metadata": {
    "ExecuteTime": {
     "end_time": "2018-03-28T22:44:00.177530Z",
     "start_time": "2018-03-28T22:44:00.167420Z"
    }
   },
   "outputs": [
    {
     "data": {
      "text/html": [
       "<div>\n",
       "<style scoped>\n",
       "    .dataframe tbody tr th:only-of-type {\n",
       "        vertical-align: middle;\n",
       "    }\n",
       "\n",
       "    .dataframe tbody tr th {\n",
       "        vertical-align: top;\n",
       "    }\n",
       "\n",
       "    .dataframe thead th {\n",
       "        text-align: right;\n",
       "    }\n",
       "</style>\n",
       "<table border=\"1\" class=\"dataframe\">\n",
       "  <thead>\n",
       "    <tr style=\"text-align: right;\">\n",
       "      <th></th>\n",
       "      <th>class</th>\n",
       "      <th>size</th>\n",
       "      <th>acc_score</th>\n",
       "      <th>f1_score</th>\n",
       "    </tr>\n",
       "  </thead>\n",
       "  <tbody>\n",
       "    <tr>\n",
       "      <th>1</th>\n",
       "      <td>low</td>\n",
       "      <td>5547237.0</td>\n",
       "      <td>0.732257</td>\n",
       "      <td>0.619078</td>\n",
       "    </tr>\n",
       "    <tr>\n",
       "      <th>2</th>\n",
       "      <td>bronze</td>\n",
       "      <td>1642255.0</td>\n",
       "      <td>0.521144</td>\n",
       "      <td>0.357088</td>\n",
       "    </tr>\n",
       "    <tr>\n",
       "      <th>3</th>\n",
       "      <td>medium</td>\n",
       "      <td>2763574.0</td>\n",
       "      <td>0.549484</td>\n",
       "      <td>0.389720</td>\n",
       "    </tr>\n",
       "    <tr>\n",
       "      <th>4</th>\n",
       "      <td>gold</td>\n",
       "      <td>420794.0</td>\n",
       "      <td>0.673455</td>\n",
       "      <td>0.542043</td>\n",
       "    </tr>\n",
       "    <tr>\n",
       "      <th>5</th>\n",
       "      <td>silver</td>\n",
       "      <td>536813.0</td>\n",
       "      <td>0.341113</td>\n",
       "      <td>0.173525</td>\n",
       "    </tr>\n",
       "    <tr>\n",
       "      <th>6</th>\n",
       "      <td>platinum</td>\n",
       "      <td>104867.0</td>\n",
       "      <td>0.847102</td>\n",
       "      <td>0.776981</td>\n",
       "    </tr>\n",
       "    <tr>\n",
       "      <th>7</th>\n",
       "      <td>All</td>\n",
       "      <td>11015540.0</td>\n",
       "      <td>0.634715</td>\n",
       "      <td>NaN</td>\n",
       "    </tr>\n",
       "  </tbody>\n",
       "</table>\n",
       "</div>"
      ],
      "text/plain": [
       "      class        size  acc_score  f1_score\n",
       "1       low   5547237.0   0.732257  0.619078\n",
       "2    bronze   1642255.0   0.521144  0.357088\n",
       "3    medium   2763574.0   0.549484  0.389720\n",
       "4      gold    420794.0   0.673455  0.542043\n",
       "5    silver    536813.0   0.341113  0.173525\n",
       "6  platinum    104867.0   0.847102  0.776981\n",
       "7       All  11015540.0   0.634715       NaN"
      ]
     },
     "execution_count": 70,
     "metadata": {},
     "output_type": "execute_result"
    }
   ],
   "source": [
    "score_frame4"
   ]
  },
  {
   "cell_type": "code",
   "execution_count": 53,
   "metadata": {
    "ExecuteTime": {
     "end_time": "2018-03-27T21:17:27.439687Z",
     "start_time": "2018-03-27T21:17:27.430567Z"
    }
   },
   "outputs": [
    {
     "data": {
      "text/html": [
       "<div>\n",
       "<style scoped>\n",
       "    .dataframe tbody tr th:only-of-type {\n",
       "        vertical-align: middle;\n",
       "    }\n",
       "\n",
       "    .dataframe tbody tr th {\n",
       "        vertical-align: top;\n",
       "    }\n",
       "\n",
       "    .dataframe thead th {\n",
       "        text-align: right;\n",
       "    }\n",
       "</style>\n",
       "<table border=\"1\" class=\"dataframe\">\n",
       "  <thead>\n",
       "    <tr style=\"text-align: right;\">\n",
       "      <th></th>\n",
       "      <th>class</th>\n",
       "      <th>size</th>\n",
       "      <th>acc_score</th>\n",
       "      <th>f1_score</th>\n",
       "    </tr>\n",
       "  </thead>\n",
       "  <tbody>\n",
       "    <tr>\n",
       "      <th>1</th>\n",
       "      <td>bronze</td>\n",
       "      <td>1590995.0</td>\n",
       "      <td>0.733862</td>\n",
       "      <td>0.621219</td>\n",
       "    </tr>\n",
       "    <tr>\n",
       "      <th>2</th>\n",
       "      <td>medium</td>\n",
       "      <td>2394528.0</td>\n",
       "      <td>0.679025</td>\n",
       "      <td>0.549218</td>\n",
       "    </tr>\n",
       "    <tr>\n",
       "      <th>3</th>\n",
       "      <td>low</td>\n",
       "      <td>1633467.0</td>\n",
       "      <td>0.755637</td>\n",
       "      <td>0.650462</td>\n",
       "    </tr>\n",
       "    <tr>\n",
       "      <th>4</th>\n",
       "      <td>silver</td>\n",
       "      <td>538358.0</td>\n",
       "      <td>0.596196</td>\n",
       "      <td>0.445371</td>\n",
       "    </tr>\n",
       "    <tr>\n",
       "      <th>5</th>\n",
       "      <td>platinum</td>\n",
       "      <td>109739.0</td>\n",
       "      <td>0.915718</td>\n",
       "      <td>0.875431</td>\n",
       "    </tr>\n",
       "    <tr>\n",
       "      <th>6</th>\n",
       "      <td>gold</td>\n",
       "      <td>429322.0</td>\n",
       "      <td>0.825495</td>\n",
       "      <td>0.746583</td>\n",
       "    </tr>\n",
       "    <tr>\n",
       "      <th>7</th>\n",
       "      <td>All</td>\n",
       "      <td>6696409.0</td>\n",
       "      <td>0.717352</td>\n",
       "      <td>NaN</td>\n",
       "    </tr>\n",
       "  </tbody>\n",
       "</table>\n",
       "</div>"
      ],
      "text/plain": [
       "      class       size  acc_score  f1_score\n",
       "1    bronze  1590995.0   0.733862  0.621219\n",
       "2    medium  2394528.0   0.679025  0.549218\n",
       "3       low  1633467.0   0.755637  0.650462\n",
       "4    silver   538358.0   0.596196  0.445371\n",
       "5  platinum   109739.0   0.915718  0.875431\n",
       "6      gold   429322.0   0.825495  0.746583\n",
       "7       All  6696409.0   0.717352       NaN"
      ]
     },
     "execution_count": 53,
     "metadata": {},
     "output_type": "execute_result"
    }
   ],
   "source": [
    "score_frame2"
   ]
  },
  {
   "cell_type": "code",
   "execution_count": 67,
   "metadata": {
    "ExecuteTime": {
     "end_time": "2018-03-28T22:42:35.453023Z",
     "start_time": "2018-03-28T22:42:35.439971Z"
    }
   },
   "outputs": [
    {
     "data": {
      "text/html": [
       "<div>\n",
       "<style scoped>\n",
       "    .dataframe tbody tr th:only-of-type {\n",
       "        vertical-align: middle;\n",
       "    }\n",
       "\n",
       "    .dataframe tbody tr th {\n",
       "        vertical-align: top;\n",
       "    }\n",
       "\n",
       "    .dataframe thead th {\n",
       "        text-align: right;\n",
       "    }\n",
       "</style>\n",
       "<table border=\"1\" class=\"dataframe\">\n",
       "  <thead>\n",
       "    <tr style=\"text-align: right;\">\n",
       "      <th></th>\n",
       "      <th>class</th>\n",
       "      <th>size</th>\n",
       "      <th>acc_score</th>\n",
       "      <th>f1_score</th>\n",
       "    </tr>\n",
       "  </thead>\n",
       "  <tbody>\n",
       "    <tr>\n",
       "      <th>1</th>\n",
       "      <td>low</td>\n",
       "      <td>5547486.0</td>\n",
       "      <td>0.754505</td>\n",
       "      <td>0.648933</td>\n",
       "    </tr>\n",
       "    <tr>\n",
       "      <th>2</th>\n",
       "      <td>bronze</td>\n",
       "      <td>1630230.0</td>\n",
       "      <td>0.730832</td>\n",
       "      <td>0.617178</td>\n",
       "    </tr>\n",
       "    <tr>\n",
       "      <th>3</th>\n",
       "      <td>medium</td>\n",
       "      <td>2754962.0</td>\n",
       "      <td>0.672330</td>\n",
       "      <td>0.540596</td>\n",
       "    </tr>\n",
       "    <tr>\n",
       "      <th>4</th>\n",
       "      <td>silver</td>\n",
       "      <td>542537.0</td>\n",
       "      <td>0.593812</td>\n",
       "      <td>0.442477</td>\n",
       "    </tr>\n",
       "    <tr>\n",
       "      <th>5</th>\n",
       "      <td>platinum</td>\n",
       "      <td>109809.0</td>\n",
       "      <td>0.915144</td>\n",
       "      <td>0.874595</td>\n",
       "    </tr>\n",
       "    <tr>\n",
       "      <th>6</th>\n",
       "      <td>gold</td>\n",
       "      <td>430516.0</td>\n",
       "      <td>0.823242</td>\n",
       "      <td>0.743432</td>\n",
       "    </tr>\n",
       "    <tr>\n",
       "      <th>7</th>\n",
       "      <td>All</td>\n",
       "      <td>11015540.0</td>\n",
       "      <td>0.726823</td>\n",
       "      <td>NaN</td>\n",
       "    </tr>\n",
       "  </tbody>\n",
       "</table>\n",
       "</div>"
      ],
      "text/plain": [
       "      class        size  acc_score  f1_score\n",
       "1       low   5547486.0   0.754505  0.648933\n",
       "2    bronze   1630230.0   0.730832  0.617178\n",
       "3    medium   2754962.0   0.672330  0.540596\n",
       "4    silver    542537.0   0.593812  0.442477\n",
       "5  platinum    109809.0   0.915144  0.874595\n",
       "6      gold    430516.0   0.823242  0.743432\n",
       "7       All  11015540.0   0.726823       NaN"
      ]
     },
     "execution_count": 67,
     "metadata": {},
     "output_type": "execute_result"
    }
   ],
   "source": [
    "score_frame"
   ]
  },
  {
   "cell_type": "code",
   "execution_count": 32,
   "metadata": {
    "ExecuteTime": {
     "end_time": "2018-03-27T18:57:10.844572Z",
     "start_time": "2018-03-27T18:57:06.244772Z"
    }
   },
   "outputs": [],
   "source": [
    "comparison_frame['custora_bins'].groupby(comparison_frame['group']).value_counts().to_frame().to_csv('bins.csv')"
   ]
  },
  {
   "cell_type": "code",
   "execution_count": null,
   "metadata": {},
   "outputs": [],
   "source": [
    "sampled_cumulative_DF"
   ]
  },
  {
   "cell_type": "code",
   "execution_count": null,
   "metadata": {},
   "outputs": [],
   "source": [
    "#this establishes the size of our sample data frame which we use for our optimization function \n",
    "#Check the minimization function, it references our sampled_cumulative_DF\n",
    "\n",
    "sampled_cumulative_DF = comparison_frame.sample(frac=.5)\n",
    "sampled_cumulative_DF.shape"
   ]
  },
  {
   "cell_type": "code",
   "execution_count": null,
   "metadata": {},
   "outputs": [],
   "source": [
    "bins = np.array([0.0, 0.50, .75, .90, .95,.99,1.0001])\n",
    "bins_dict = {1:'low', 2:'medium', 3:'bronze', 4:'silver', 5:'gold', 6: 'platinum'}\n",
    "\n",
    "\n",
    "#use this on the fully scored data set and then use it for bins on the samples \n",
    "bin_separators = [(np.percentile(cumulative_DF.BG_pred_spend, int(x*100))) for x in bins]\n",
    "\n",
    "#we reset the top and bottom of the bins so that they encompass all values (think about the percentiles, it is \n",
    "# easier to do this than to hope that there aren't any rounding issues)\n",
    "bin_separators[0]= 0\n",
    "bin_separators[6] = cumulative_DF.BG_pred_spend.max()+1\n",
    "\n",
    "#use this if you are using a sample because otherwise the demarcation of bins, in absolute $ value, won't make sense \n",
    "#VS_df['pred_spend_bins'] = np.digitize(VS_df.pred_spend_perc, bins, right=False)\n",
    "\n",
    "#the above changes to this - \n",
    "#VS_df['pred_spend_bins'] = np.digitize(VS_df.BG_cond_purch_12, bins, right=False)\n",
    "\n"
   ]
  },
  {
   "cell_type": "code",
   "execution_count": null,
   "metadata": {},
   "outputs": [],
   "source": [
    "#run our minimization function\n",
    "\n",
    "res = minimize(minimizationfunc, params, method='Nelder-Mead')"
   ]
  },
  {
   "cell_type": "code",
   "execution_count": null,
   "metadata": {},
   "outputs": [],
   "source": [
    "\n",
    "#Sort our model results and then take the first one. Since we are minimzing and we are sorting in ascending order\n",
    "# we will have the smallest (most accurate) score first and we want to take the parameters from that)\n",
    "model_results_list = sorted(model_results_list, key=operator.itemgetter(1))   # Ascending order\n",
    "parameters = model_results_list[0][0]\n",
    "params = [(v) for k,v in parameters.items()]"
   ]
  },
  {
   "cell_type": "code",
   "execution_count": null,
   "metadata": {},
   "outputs": [],
   "source": [
    "params"
   ]
  },
  {
   "cell_type": "code",
   "execution_count": null,
   "metadata": {},
   "outputs": [],
   "source": [
    "model_results_list"
   ]
  },
  {
   "cell_type": "code",
   "execution_count": null,
   "metadata": {},
   "outputs": [],
   "source": [
    "sampled_cumulative_DF"
   ]
  },
  {
   "cell_type": "code",
   "execution_count": null,
   "metadata": {},
   "outputs": [],
   "source": [
    "params"
   ]
  },
  {
   "cell_type": "code",
   "execution_count": null,
   "metadata": {},
   "outputs": [],
   "source": []
  }
 ],
 "metadata": {
  "kernelspec": {
   "display_name": "Python 3",
   "language": "python",
   "name": "python3"
  },
  "language_info": {
   "codemirror_mode": {
    "name": "ipython",
    "version": 3
   },
   "file_extension": ".py",
   "mimetype": "text/x-python",
   "name": "python",
   "nbconvert_exporter": "python",
   "pygments_lexer": "ipython3",
   "version": "3.6.3"
  }
 },
 "nbformat": 4,
 "nbformat_minor": 2
}
