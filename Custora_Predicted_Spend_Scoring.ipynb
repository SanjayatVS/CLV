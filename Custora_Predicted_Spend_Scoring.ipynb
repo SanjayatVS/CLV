{
 "cells": [
  {
   "cell_type": "code",
   "execution_count": 1,
   "metadata": {
    "ExecuteTime": {
     "end_time": "2019-03-08T13:35:54.636109Z",
     "start_time": "2019-03-08T13:35:53.680199Z"
    }
   },
   "outputs": [],
   "source": [
    "import os\n",
    "import sys\n",
    "import pyodbc\n",
    "import numpy as np\n",
    "import operator\n",
    "import pandas as pd\n",
    "import time\n",
    "import datetime\n",
    "import clv_scoring_functions\n",
    "##(make sure our CLV scoring functions script is accessible)\n",
    "import glob\n",
    "from dateutil.relativedelta import relativedelta\n",
    "import sklearn as sklearn\n",
    "from sklearn import metrics\n",
    "from scipy.optimize import minimize, rosen, rosen_der\n"
   ]
  },
  {
   "cell_type": "markdown",
   "metadata": {},
   "source": [
    "# Declare our functions"
   ]
  },
  {
   "cell_type": "code",
   "execution_count": 2,
   "metadata": {
    "ExecuteTime": {
     "end_time": "2019-03-08T13:35:56.313773Z",
     "start_time": "2019-03-08T13:35:56.307980Z"
    }
   },
   "outputs": [],
   "source": [
    "def cleanCustomers(df, customer_columnname = 'customer_identifier'):\n",
    "   \n",
    "    \"\"\"\n",
    "    removes rows with blanks, zeroes, alpha-numeric characters and weird longer numbers\n",
    "    identified as customer numbers. Finally, restores the datatype to 'int64'\n",
    "    \n",
    "    Parameters\n",
    "    ----------\n",
    "    score_pool : data frame\n",
    "        Data frame with customer numbers\n",
    "   \n",
    "    customer_columnname : string\n",
    "        Customer number column name from the data frame\n",
    "        (customerno/customer_identifier/customer_no/customer_id… etc)\n",
    "   \n",
    "    Returns\n",
    "    -------\n",
    "    dataframe\n",
    "        A data frame of cleaned customer numbers\n",
    "    \"\"\"\n",
    "   \n",
    "    df[customer_columnname] = df[customer_columnname].astype(str)\n",
    "   \n",
    "    # remove rows with customer number having zeroes and blanks\n",
    "    shit_long_ints = df[customer_columnname].loc[df[customer_columnname].apply(lambda x: len(str(x)) > 19)].tolist()\n",
    "    df = df.loc[~df[customer_columnname].isin(shit_long_ints)]\n",
    "    # remove rows with customer number having zeroes and blanks\n",
    "    shit_alphanums = df[customer_columnname].loc[df[customer_columnname].str.contains('[a-zA-Z]', regex=True)].tolist()\n",
    "    df = df.loc[~df[customer_columnname].isin(shit_alphanums)]\n",
    "    # remove rows with customer number having zeroes and blanks\n",
    "    df = df.loc[~df[customer_columnname].isin(['', '0'])]\n",
    "   \n",
    "    df[customer_columnname] = df[customer_columnname].astype('float64')\n",
    "    df[customer_columnname] = df[customer_columnname].astype('int64')\n",
    "   \n",
    "    return df"
   ]
  },
  {
   "cell_type": "code",
   "execution_count": 3,
   "metadata": {
    "ExecuteTime": {
     "end_time": "2019-03-08T13:36:02.217797Z",
     "start_time": "2019-03-08T13:36:02.206932Z"
    }
   },
   "outputs": [],
   "source": [
    "def SQL_Query(start_date, end_date, UID, password ):\n",
    "\n",
    "    \n",
    "#Format our date inputs  \n",
    "    i = str(start_date)\n",
    "    try:\n",
    "        dt_start = datetime.datetime.strptime(i, '%Y/%m/%d')\n",
    "    except ValueError:\n",
    "        print(\"Incorrect start format\")\n",
    "\n",
    "    i = str(end_date)    \n",
    "    try:\n",
    "        dt_end = datetime.datetime.strptime(i, '%Y/%m/%d')\n",
    "    except ValueError:\n",
    "        print(\"Incorrect start format\")\n",
    "\n",
    "#Formatting the dates for SQL \n",
    "    dt_start = str(dt_start) + str('.000')\n",
    "    dt_end = str(dt_end) + str('.000')\n",
    "    \n",
    "#Establish our connection to the server \n",
    "    conn_string = 'DRIVER=/usr/local/lib/libtdsodbc.so;SERVER=wnj-datasizesql;PORT=1433;DATABASE=Data Analytics;UID={};PWD={}'.format(UID,password)\n",
    "    conn = pyodbc.connect(conn_string)\n",
    "    \n",
    "#Run our sql query\n",
    "\n",
    "    query = (\"\"\"SELECT  Customer_Profile.customerno, c.customer_id,\n",
    "    c.RFM, c.recency, c.frequency,c.order_count, c.T,\n",
    "    c.AmountPerWeek, c.total_amount,\n",
    "    c.FirstOrderDate, c.LastOrderDate\n",
    "    FROM\n",
    "  (SELECT b.customer_id,\n",
    "    round(b.recency + b.frequency/10 + b.AmountPerWeek/100, 2) AS RFM,\n",
    "    b.recency, b.frequency,b.order_count, b.T,\n",
    "    b.AmountPerWeek, b.total_amount,\n",
    "    b.FirstOrderDate, b.LastOrderDate\n",
    "    FROM\n",
    "      (\n",
    "\n",
    "        SELECT\n",
    "          a.customer_id,\n",
    "          a.recency,\n",
    "          a.frequency,\n",
    "          a.order_count,\n",
    "          a.T,\n",
    "          round(a.total_amount / a.frequency, 2) AS AmountPerWeek,\n",
    "          a.total_amount,\n",
    "          a.FirstOrderDate,\n",
    "          a.LastOrderDate\n",
    "        FROM\n",
    "          (\n",
    "            SELECT\n",
    "              customer_id,\n",
    "              count(DISTINCT cast(DATEPART(WK, transaction_date) AS VARCHAR) + cast(year(transaction_date) AS VARCHAR))\n",
    "                AS frequency,\n",
    "              datediff(WEEK, MIN(transaction_date), MAX(\n",
    "                  transaction_date)) AS recency,\n",
    "              datediff(WEEK, MIN(transaction_date),\n",
    "                       '{}')    AS T,\n",
    "              count(distinct(transaction_id)) as order_count,\n",
    "              MIN(\n",
    "                  transaction_date)  AS FirstOrderDate,\n",
    "              MAX(\n",
    "                  transaction_date)  AS LastOrderDate,\n",
    "              round(sum(tender_amount_total),\n",
    "                    2)               AS total_amount\n",
    "            FROM transaction_header\n",
    "            WHERE\n",
    "              transaction_date >= '{}'\n",
    "            AND  \n",
    "              transaction_date < '{}' \n",
    "              AND customer_id IS NOT NULL\n",
    "            GROUP BY customer_id\n",
    "          ) a\n",
    "      ) b\n",
    "    ) c\n",
    "    inner join Customer_Profile ON c.customer_id = cast(Customer_Profile.customer_id AS int)\n",
    "ORDER BY RFM DESC, AmountPerWeek DESC, total_amount DESC\n",
    "\n",
    "    \"\"\".format(dt_end, dt_start, dt_end, ))\n",
    "\n",
    "    start_time = time.time()\n",
    "\n",
    "    trFrame = pd.read_sql_query(query, conn)\n",
    "\n",
    "    conn.close()\n",
    "\n",
    "    end_time = time.time()\n",
    "\n",
    "    run_time = (end_time-start_time)/60\n",
    "\n",
    "    print(run_time)\n",
    "    return(trFrame)"
   ]
  },
  {
   "cell_type": "code",
   "execution_count": 4,
   "metadata": {
    "ExecuteTime": {
     "end_time": "2019-03-08T13:36:02.612547Z",
     "start_time": "2019-03-08T13:36:02.608644Z"
    }
   },
   "outputs": [],
   "source": [
    "def Generic_QL_Query(query, UID, password ):\n",
    "\n",
    "#Establish our connection to the server \n",
    "    conn_string = 'DRIVER=/usr/local/lib/libtdsodbc.so;SERVER=wnj-datasizesql;PORT=1433;DATABASE=Data Analytics;UID={};PWD={}'.format(UID,password)\n",
    "    conn = pyodbc.connect(conn_string)\n",
    "    \n",
    "#Run our sql query\n",
    "\n",
    "    \n",
    "    start_time = time.time()\n",
    "\n",
    "    trFrame = pd.read_sql_query(query, conn)\n",
    "\n",
    "    conn.close()\n",
    "\n",
    "    end_time = time.time()\n",
    "\n",
    "    run_time = (end_time-start_time)/60\n",
    "\n",
    "    print(run_time)\n",
    "    return(trFrame)"
   ]
  },
  {
   "cell_type": "code",
   "execution_count": 5,
   "metadata": {
    "ExecuteTime": {
     "end_time": "2019-03-08T13:36:03.842471Z",
     "start_time": "2019-03-08T13:36:03.839765Z"
    }
   },
   "outputs": [],
   "source": [
    "query = \"\"\"SELECT  customerno, customer_id\n",
    "    FROM Customer_Profile\n",
    "    WHERE postal_preference = 'Opted-In' AND postal_validation = 'Deliverable'\"\"\"\n",
    "\n"
   ]
  },
  {
   "cell_type": "code",
   "execution_count": null,
   "metadata": {
    "ExecuteTime": {
     "start_time": "2019-03-08T13:34:21.999Z"
    }
   },
   "outputs": [],
   "source": [
    "mailableFrame = Generic_QL_Query(query,'Dhananjay.Kumar','password1!')"
   ]
  },
  {
   "cell_type": "code",
   "execution_count": null,
   "metadata": {
    "ExecuteTime": {
     "end_time": "2019-02-05T19:38:23.336999Z",
     "start_time": "2019-02-05T19:38:22.738774Z"
    }
   },
   "outputs": [],
   "source": [
    "mailableFrame.customer_id.nunique()"
   ]
  },
  {
   "cell_type": "code",
   "execution_count": null,
   "metadata": {
    "ExecuteTime": {
     "end_time": "2019-02-05T19:38:32.868385Z",
     "start_time": "2019-02-05T19:38:32.226931Z"
    }
   },
   "outputs": [],
   "source": [
    "mailableFrame.customerno.nunique()"
   ]
  },
  {
   "cell_type": "code",
   "execution_count": null,
   "metadata": {
    "ExecuteTime": {
     "end_time": "2019-02-05T19:38:55.058927Z",
     "start_time": "2019-02-05T19:38:54.139873Z"
    }
   },
   "outputs": [],
   "source": [
    "frame.customer_id.nunique()"
   ]
  },
  {
   "cell_type": "code",
   "execution_count": null,
   "metadata": {
    "ExecuteTime": {
     "end_time": "2019-02-05T19:39:03.909213Z",
     "start_time": "2019-02-05T19:39:03.893415Z"
    }
   },
   "outputs": [],
   "source": [
    "frame.head()"
   ]
  },
  {
   "cell_type": "code",
   "execution_count": null,
   "metadata": {
    "ExecuteTime": {
     "end_time": "2019-02-05T19:00:15.096977Z",
     "start_time": "2019-02-05T19:00:14.976007Z"
    },
    "scrolled": true
   },
   "outputs": [],
   "source": [
    "for i in list(mailableFrame.columns):\n",
    "    mailableFrame[i] = mailableFrame[i].astype(int)"
   ]
  },
  {
   "cell_type": "code",
   "execution_count": 6,
   "metadata": {
    "ExecuteTime": {
     "end_time": "2019-03-08T13:36:17.166924Z",
     "start_time": "2019-03-08T13:36:09.056556Z"
    }
   },
   "outputs": [
    {
     "name": "stderr",
     "output_type": "stream",
     "text": [
      "/anaconda3/lib/python3.6/site-packages/IPython/core/interactiveshell.py:2785: DtypeWarning: Columns (1) have mixed types. Specify dtype option on import or set low_memory=False.\n",
      "  interactivity=interactivity, compiler=compiler, result=result)\n"
     ]
    }
   ],
   "source": [
    "frame = pd.read_csv(r'/Users/sanjaygopinath/Documents/Data/Churn_Analysis/2018_01_01_2019_02_28.csv')"
   ]
  },
  {
   "cell_type": "code",
   "execution_count": 10,
   "metadata": {
    "ExecuteTime": {
     "end_time": "2019-03-08T13:37:28.011020Z",
     "start_time": "2019-03-08T13:37:27.980868Z"
    },
    "scrolled": true
   },
   "outputs": [
    {
     "data": {
      "text/html": [
       "<div>\n",
       "<style scoped>\n",
       "    .dataframe tbody tr th:only-of-type {\n",
       "        vertical-align: middle;\n",
       "    }\n",
       "\n",
       "    .dataframe tbody tr th {\n",
       "        vertical-align: top;\n",
       "    }\n",
       "\n",
       "    .dataframe thead th {\n",
       "        text-align: right;\n",
       "    }\n",
       "</style>\n",
       "<table border=\"1\" class=\"dataframe\">\n",
       "  <thead>\n",
       "    <tr style=\"text-align: right;\">\n",
       "      <th></th>\n",
       "      <th>customer_id</th>\n",
       "      <th>RFM</th>\n",
       "      <th>recency</th>\n",
       "      <th>frequency</th>\n",
       "      <th>T</th>\n",
       "      <th>order_count</th>\n",
       "      <th>total_amount</th>\n",
       "      <th>FirstOrderDate</th>\n",
       "      <th>LastOrderDate</th>\n",
       "      <th>period</th>\n",
       "    </tr>\n",
       "  </thead>\n",
       "  <tbody>\n",
       "    <tr>\n",
       "      <th>0</th>\n",
       "      <td>113610147855738448</td>\n",
       "      <td>202.00</td>\n",
       "      <td>2</td>\n",
       "      <td>1</td>\n",
       "      <td>33</td>\n",
       "      <td>2</td>\n",
       "      <td>20000.00</td>\n",
       "      <td>2018-07-17</td>\n",
       "      <td>2018-07-30</td>\n",
       "      <td>2018_01_01_2019_02_28</td>\n",
       "    </tr>\n",
       "    <tr>\n",
       "      <th>1</th>\n",
       "      <td>804070975</td>\n",
       "      <td>116.83</td>\n",
       "      <td>14</td>\n",
       "      <td>5</td>\n",
       "      <td>32</td>\n",
       "      <td>469</td>\n",
       "      <td>51416.44</td>\n",
       "      <td>2018-07-25</td>\n",
       "      <td>2018-11-02</td>\n",
       "      <td>2018_01_01_2019_02_28</td>\n",
       "    </tr>\n",
       "    <tr>\n",
       "      <th>2</th>\n",
       "      <td>25200300512</td>\n",
       "      <td>94.62</td>\n",
       "      <td>2</td>\n",
       "      <td>1</td>\n",
       "      <td>13</td>\n",
       "      <td>9</td>\n",
       "      <td>9262.08</td>\n",
       "      <td>2018-12-07</td>\n",
       "      <td>2018-12-20</td>\n",
       "      <td>2018_01_01_2019_02_28</td>\n",
       "    </tr>\n",
       "    <tr>\n",
       "      <th>3</th>\n",
       "      <td>9900560504</td>\n",
       "      <td>92.27</td>\n",
       "      <td>56</td>\n",
       "      <td>16</td>\n",
       "      <td>61</td>\n",
       "      <td>35</td>\n",
       "      <td>56426.00</td>\n",
       "      <td>2018-01-03</td>\n",
       "      <td>2019-01-30</td>\n",
       "      <td>2018_01_01_2019_02_28</td>\n",
       "    </tr>\n",
       "    <tr>\n",
       "      <th>4</th>\n",
       "      <td>9907212197</td>\n",
       "      <td>80.43</td>\n",
       "      <td>42</td>\n",
       "      <td>5</td>\n",
       "      <td>54</td>\n",
       "      <td>11</td>\n",
       "      <td>19216.66</td>\n",
       "      <td>2018-02-21</td>\n",
       "      <td>2018-12-09</td>\n",
       "      <td>2018_01_01_2019_02_28</td>\n",
       "    </tr>\n",
       "    <tr>\n",
       "      <th>5</th>\n",
       "      <td>501491851</td>\n",
       "      <td>80.19</td>\n",
       "      <td>14</td>\n",
       "      <td>2</td>\n",
       "      <td>56</td>\n",
       "      <td>168</td>\n",
       "      <td>13237.86</td>\n",
       "      <td>2018-02-09</td>\n",
       "      <td>2018-05-18</td>\n",
       "      <td>2018_01_01_2019_02_28</td>\n",
       "    </tr>\n",
       "    <tr>\n",
       "      <th>6</th>\n",
       "      <td>129209134</td>\n",
       "      <td>76.46</td>\n",
       "      <td>51</td>\n",
       "      <td>1</td>\n",
       "      <td>58</td>\n",
       "      <td>11</td>\n",
       "      <td>2545.96</td>\n",
       "      <td>2018-01-22</td>\n",
       "      <td>2019-01-19</td>\n",
       "      <td>2018_01_01_2019_02_28</td>\n",
       "    </tr>\n",
       "    <tr>\n",
       "      <th>7</th>\n",
       "      <td>501760943</td>\n",
       "      <td>70.66</td>\n",
       "      <td>14</td>\n",
       "      <td>4</td>\n",
       "      <td>57</td>\n",
       "      <td>8</td>\n",
       "      <td>22662.51</td>\n",
       "      <td>2018-01-31</td>\n",
       "      <td>2018-05-09</td>\n",
       "      <td>2018_01_01_2019_02_28</td>\n",
       "    </tr>\n",
       "    <tr>\n",
       "      <th>8</th>\n",
       "      <td>200385324</td>\n",
       "      <td>69.58</td>\n",
       "      <td>56</td>\n",
       "      <td>34</td>\n",
       "      <td>61</td>\n",
       "      <td>236</td>\n",
       "      <td>35961.47</td>\n",
       "      <td>2018-01-06</td>\n",
       "      <td>2019-02-01</td>\n",
       "      <td>2018_01_01_2019_02_28</td>\n",
       "    </tr>\n",
       "    <tr>\n",
       "      <th>9</th>\n",
       "      <td>9908596220</td>\n",
       "      <td>68.20</td>\n",
       "      <td>55</td>\n",
       "      <td>33</td>\n",
       "      <td>61</td>\n",
       "      <td>1000</td>\n",
       "      <td>33654.89</td>\n",
       "      <td>2018-01-06</td>\n",
       "      <td>2019-01-22</td>\n",
       "      <td>2018_01_01_2019_02_28</td>\n",
       "    </tr>\n",
       "    <tr>\n",
       "      <th>10</th>\n",
       "      <td>803598302</td>\n",
       "      <td>67.28</td>\n",
       "      <td>51</td>\n",
       "      <td>1</td>\n",
       "      <td>58</td>\n",
       "      <td>5</td>\n",
       "      <td>1628.07</td>\n",
       "      <td>2018-01-23</td>\n",
       "      <td>2019-01-15</td>\n",
       "      <td>2018_01_01_2019_02_28</td>\n",
       "    </tr>\n",
       "    <tr>\n",
       "      <th>11</th>\n",
       "      <td>717091524</td>\n",
       "      <td>67.26</td>\n",
       "      <td>49</td>\n",
       "      <td>1</td>\n",
       "      <td>59</td>\n",
       "      <td>2</td>\n",
       "      <td>1825.99</td>\n",
       "      <td>2018-01-18</td>\n",
       "      <td>2018-12-24</td>\n",
       "      <td>2018_01_01_2019_02_28</td>\n",
       "    </tr>\n",
       "    <tr>\n",
       "      <th>12</th>\n",
       "      <td>9905214575</td>\n",
       "      <td>67.22</td>\n",
       "      <td>56</td>\n",
       "      <td>56</td>\n",
       "      <td>61</td>\n",
       "      <td>329</td>\n",
       "      <td>34840.98</td>\n",
       "      <td>2018-01-01</td>\n",
       "      <td>2019-02-01</td>\n",
       "      <td>2018_01_01_2019_02_28</td>\n",
       "    </tr>\n",
       "    <tr>\n",
       "      <th>13</th>\n",
       "      <td>201035070</td>\n",
       "      <td>67.01</td>\n",
       "      <td>51</td>\n",
       "      <td>23</td>\n",
       "      <td>60</td>\n",
       "      <td>75</td>\n",
       "      <td>32227.51</td>\n",
       "      <td>2018-01-07</td>\n",
       "      <td>2019-01-04</td>\n",
       "      <td>2018_01_01_2019_02_28</td>\n",
       "    </tr>\n",
       "    <tr>\n",
       "      <th>14</th>\n",
       "      <td>9902779357</td>\n",
       "      <td>66.78</td>\n",
       "      <td>56</td>\n",
       "      <td>4</td>\n",
       "      <td>61</td>\n",
       "      <td>5</td>\n",
       "      <td>4313.56</td>\n",
       "      <td>2018-01-03</td>\n",
       "      <td>2019-01-27</td>\n",
       "      <td>2018_01_01_2019_02_28</td>\n",
       "    </tr>\n",
       "    <tr>\n",
       "      <th>15</th>\n",
       "      <td>9893479341</td>\n",
       "      <td>66.77</td>\n",
       "      <td>41</td>\n",
       "      <td>41</td>\n",
       "      <td>46</td>\n",
       "      <td>245</td>\n",
       "      <td>89240.37</td>\n",
       "      <td>2018-04-21</td>\n",
       "      <td>2019-02-02</td>\n",
       "      <td>2018_01_01_2019_02_28</td>\n",
       "    </tr>\n",
       "    <tr>\n",
       "      <th>16</th>\n",
       "      <td>801729566</td>\n",
       "      <td>66.46</td>\n",
       "      <td>36</td>\n",
       "      <td>2</td>\n",
       "      <td>51</td>\n",
       "      <td>3</td>\n",
       "      <td>6091.72</td>\n",
       "      <td>2018-03-12</td>\n",
       "      <td>2018-11-18</td>\n",
       "      <td>2018_01_01_2019_02_28</td>\n",
       "    </tr>\n",
       "    <tr>\n",
       "      <th>17</th>\n",
       "      <td>9902242438</td>\n",
       "      <td>66.33</td>\n",
       "      <td>51</td>\n",
       "      <td>2</td>\n",
       "      <td>60</td>\n",
       "      <td>3</td>\n",
       "      <td>3066.93</td>\n",
       "      <td>2018-01-10</td>\n",
       "      <td>2018-12-31</td>\n",
       "      <td>2018_01_01_2019_02_28</td>\n",
       "    </tr>\n",
       "    <tr>\n",
       "      <th>18</th>\n",
       "      <td>60089279</td>\n",
       "      <td>66.23</td>\n",
       "      <td>56</td>\n",
       "      <td>30</td>\n",
       "      <td>61</td>\n",
       "      <td>39</td>\n",
       "      <td>21679.74</td>\n",
       "      <td>2018-01-06</td>\n",
       "      <td>2019-02-01</td>\n",
       "      <td>2018_01_01_2019_02_28</td>\n",
       "    </tr>\n",
       "    <tr>\n",
       "      <th>19</th>\n",
       "      <td>500388595</td>\n",
       "      <td>66.14</td>\n",
       "      <td>56</td>\n",
       "      <td>20</td>\n",
       "      <td>61</td>\n",
       "      <td>40</td>\n",
       "      <td>16281.01</td>\n",
       "      <td>2018-01-05</td>\n",
       "      <td>2019-01-27</td>\n",
       "      <td>2018_01_01_2019_02_28</td>\n",
       "    </tr>\n",
       "    <tr>\n",
       "      <th>20</th>\n",
       "      <td>9900468688</td>\n",
       "      <td>65.94</td>\n",
       "      <td>56</td>\n",
       "      <td>51</td>\n",
       "      <td>61</td>\n",
       "      <td>85</td>\n",
       "      <td>25201.92</td>\n",
       "      <td>2018-01-05</td>\n",
       "      <td>2019-02-01</td>\n",
       "      <td>2018_01_01_2019_02_28</td>\n",
       "    </tr>\n",
       "    <tr>\n",
       "      <th>21</th>\n",
       "      <td>9895550568</td>\n",
       "      <td>65.68</td>\n",
       "      <td>56</td>\n",
       "      <td>7</td>\n",
       "      <td>61</td>\n",
       "      <td>41</td>\n",
       "      <td>6778.18</td>\n",
       "      <td>2018-01-05</td>\n",
       "      <td>2019-01-30</td>\n",
       "      <td>2018_01_01_2019_02_28</td>\n",
       "    </tr>\n",
       "    <tr>\n",
       "      <th>22</th>\n",
       "      <td>716283844</td>\n",
       "      <td>65.52</td>\n",
       "      <td>56</td>\n",
       "      <td>56</td>\n",
       "      <td>61</td>\n",
       "      <td>758</td>\n",
       "      <td>25333.15</td>\n",
       "      <td>2018-01-04</td>\n",
       "      <td>2019-02-02</td>\n",
       "      <td>2018_01_01_2019_02_28</td>\n",
       "    </tr>\n",
       "    <tr>\n",
       "      <th>23</th>\n",
       "      <td>9898909543</td>\n",
       "      <td>65.48</td>\n",
       "      <td>55</td>\n",
       "      <td>55</td>\n",
       "      <td>61</td>\n",
       "      <td>191</td>\n",
       "      <td>30131.39</td>\n",
       "      <td>2018-01-02</td>\n",
       "      <td>2019-01-26</td>\n",
       "      <td>2018_01_01_2019_02_28</td>\n",
       "    </tr>\n",
       "    <tr>\n",
       "      <th>24</th>\n",
       "      <td>9909565308</td>\n",
       "      <td>65.38</td>\n",
       "      <td>44</td>\n",
       "      <td>1</td>\n",
       "      <td>61</td>\n",
       "      <td>4</td>\n",
       "      <td>2138.35</td>\n",
       "      <td>2018-01-01</td>\n",
       "      <td>2018-11-04</td>\n",
       "      <td>2018_01_01_2019_02_28</td>\n",
       "    </tr>\n",
       "    <tr>\n",
       "      <th>25</th>\n",
       "      <td>9892648252</td>\n",
       "      <td>65.30</td>\n",
       "      <td>56</td>\n",
       "      <td>41</td>\n",
       "      <td>61</td>\n",
       "      <td>65</td>\n",
       "      <td>21729.15</td>\n",
       "      <td>2018-01-04</td>\n",
       "      <td>2019-02-02</td>\n",
       "      <td>2018_01_01_2019_02_28</td>\n",
       "    </tr>\n",
       "    <tr>\n",
       "      <th>26</th>\n",
       "      <td>9900137880</td>\n",
       "      <td>65.30</td>\n",
       "      <td>56</td>\n",
       "      <td>57</td>\n",
       "      <td>61</td>\n",
       "      <td>256</td>\n",
       "      <td>24508.24</td>\n",
       "      <td>2018-01-04</td>\n",
       "      <td>2019-01-31</td>\n",
       "      <td>2018_01_01_2019_02_28</td>\n",
       "    </tr>\n",
       "    <tr>\n",
       "      <th>27</th>\n",
       "      <td>128800340</td>\n",
       "      <td>65.12</td>\n",
       "      <td>55</td>\n",
       "      <td>30</td>\n",
       "      <td>61</td>\n",
       "      <td>229</td>\n",
       "      <td>21359.81</td>\n",
       "      <td>2018-01-03</td>\n",
       "      <td>2019-01-25</td>\n",
       "      <td>2018_01_01_2019_02_28</td>\n",
       "    </tr>\n",
       "    <tr>\n",
       "      <th>28</th>\n",
       "      <td>200210427</td>\n",
       "      <td>64.72</td>\n",
       "      <td>55</td>\n",
       "      <td>13</td>\n",
       "      <td>61</td>\n",
       "      <td>33</td>\n",
       "      <td>11332.47</td>\n",
       "      <td>2018-01-06</td>\n",
       "      <td>2019-01-26</td>\n",
       "      <td>2018_01_01_2019_02_28</td>\n",
       "    </tr>\n",
       "    <tr>\n",
       "      <th>29</th>\n",
       "      <td>160208504</td>\n",
       "      <td>64.67</td>\n",
       "      <td>54</td>\n",
       "      <td>1</td>\n",
       "      <td>59</td>\n",
       "      <td>2</td>\n",
       "      <td>1067.01</td>\n",
       "      <td>2018-01-15</td>\n",
       "      <td>2019-02-01</td>\n",
       "      <td>2018_01_01_2019_02_28</td>\n",
       "    </tr>\n",
       "    <tr>\n",
       "      <th>...</th>\n",
       "      <td>...</td>\n",
       "      <td>...</td>\n",
       "      <td>...</td>\n",
       "      <td>...</td>\n",
       "      <td>...</td>\n",
       "      <td>...</td>\n",
       "      <td>...</td>\n",
       "      <td>...</td>\n",
       "      <td>...</td>\n",
       "      <td>...</td>\n",
       "    </tr>\n",
       "    <tr>\n",
       "      <th>6827337</th>\n",
       "      <td>202383050</td>\n",
       "      <td>0.00</td>\n",
       "      <td>0</td>\n",
       "      <td>0</td>\n",
       "      <td>59</td>\n",
       "      <td>1</td>\n",
       "      <td>0.00</td>\n",
       "      <td>2018-01-19</td>\n",
       "      <td>2018-01-19</td>\n",
       "      <td>2018_01_01_2019_02_28</td>\n",
       "    </tr>\n",
       "    <tr>\n",
       "      <th>6827338</th>\n",
       "      <td>8891209416</td>\n",
       "      <td>0.00</td>\n",
       "      <td>0</td>\n",
       "      <td>0</td>\n",
       "      <td>53</td>\n",
       "      <td>1</td>\n",
       "      <td>0.00</td>\n",
       "      <td>2018-03-03</td>\n",
       "      <td>2018-03-03</td>\n",
       "      <td>2018_01_01_2019_02_28</td>\n",
       "    </tr>\n",
       "    <tr>\n",
       "      <th>6827339</th>\n",
       "      <td>200240269</td>\n",
       "      <td>0.00</td>\n",
       "      <td>0</td>\n",
       "      <td>0</td>\n",
       "      <td>60</td>\n",
       "      <td>1</td>\n",
       "      <td>0.00</td>\n",
       "      <td>2018-01-08</td>\n",
       "      <td>2018-01-08</td>\n",
       "      <td>2018_01_01_2019_02_28</td>\n",
       "    </tr>\n",
       "    <tr>\n",
       "      <th>6827340</th>\n",
       "      <td>201991009</td>\n",
       "      <td>0.00</td>\n",
       "      <td>0</td>\n",
       "      <td>0</td>\n",
       "      <td>58</td>\n",
       "      <td>1</td>\n",
       "      <td>0.00</td>\n",
       "      <td>2018-01-25</td>\n",
       "      <td>2018-01-25</td>\n",
       "      <td>2018_01_01_2019_02_28</td>\n",
       "    </tr>\n",
       "    <tr>\n",
       "      <th>6827341</th>\n",
       "      <td>804267789</td>\n",
       "      <td>0.0"
      ],
      "text/plain": [
       "                customer_id     RFM  recency  frequency   T  order_count  \\\n",
       "0        113610147855738448  202.00        2          1  33            2   \n",
       "1                 804070975  116.83       14          5  32          469   \n",
       "2               25200300512   94.62        2          1  13            9   \n",
       "3                9900560504   92.27       56         16  61           35   \n",
       "4                9907212197   80.43       42          5  54           11   \n",
       "5                 501491851   80.19       14          2  56          168   \n",
       "6                 129209134   76.46       51          1  58           11   \n",
       "7                 501760943   70.66       14          4  57            8   \n",
       "8                 200385324   69.58       56         34  61          236   \n",
       "9                9908596220   68.20       55         33  61         1000   \n",
       "10                803598302   67.28       51          1  58            5   \n",
       "11                717091524   67.26       49          1  59            2   \n",
       "12               9905214575   67.22       56         56  61          329   \n",
       "13                201035070   67.01       51         23  60           75   \n",
       "14               9902779357   66.78       56          4  61            5   \n",
       "15               9893479341   66.77       41         41  46          245   \n",
       "16                801729566   66.46       36          2  51            3   \n",
       "17               9902242438   66.33       51          2  60            3   \n",
       "18                 60089279   66.23       56         30  61           39   \n",
       "19                500388595   66.14       56         20  61           40   \n",
       "20               9900468688   65.94       56         51  61           85   \n",
       "21               9895550568   65.68       56          7  61           41   \n",
       "22                716283844   65.52       56         56  61          758   \n",
       "23               9898909543   65.48       55         55  61          191   \n",
       "24               9909565308   65.38       44          1  61            4   \n",
       "25               9892648252   65.30       56         41  61           65   \n",
       "26               9900137880   65.30       56         57  61          256   \n",
       "27                128800340   65.12       55         30  61          229   \n",
       "28                200210427   64.72       55         13  61           33   \n",
       "29                160208504   64.67       54          1  59            2   \n",
       "...                     ...     ...      ...        ...  ..          ...   \n",
       "6827337           202383050    0.00        0          0  59            1   \n",
       "6827338          8891209416    0.00        0          0  53            1   \n",
       "6827339           200240269    0.00        0          0  60            1   \n",
       "6827340           201991009    0.00        0          0  58            1   \n",
       "6827341           804267789    0.00        0          0  20            1   \n",
       "6827342           803485449    0.00        0          0  61            1   \n",
       "6827343           202099922    0.00        0          0  59            1   \n",
       "6827344          8890662960    0.00        0          0  33            1   \n",
       "6827345           802445073    0.00        0          0  61            1   \n",
       "6827346           716560946    0.00        0          0  60            1   \n",
       "6827347           715603901    0.00        0          0  20            1   \n",
       "6827348           160464678    0.00        0          0  26            1   \n",
       "6827349           824263893    0.00        0          0  42            1   \n",
       "6827350           501756810    0.00        0          0  59            1   \n",
       "6827351           802690473    0.00        0          0  60            1   \n",
       "6827352          9899706774    0.00        0          0   6            1   \n",
       "6827353           804263810    0.00        0          0  19            1   \n",
       "6827354          1971001680    0.00        0          0   6            1   \n",
       "6827355           804425940    0.00        0          0  11            1   \n",
       "6827356           804473973    0.00        0          0   8            1   \n",
       "6827357           202163143    0.00        0          0  60            2   \n",
       "6827358           804489139    0.00        0          0   7            1   \n",
       "6827359           715311694    0.00        0          0  24            1   \n",
       "6827360          9907643004   -0.03        0          0  37            6   \n",
       "6827361          9991936599   -0.06        0          0  27            3   \n",
       "6827362          9992406704   -0.06        0          0  13            3   \n",
       "6827363          9897494184   -0.08        0          0  50            1   \n",
       "6827364          9907676045   -0.10        0          0  40            1   \n",
       "6827365          9898597377   -0.17        0          0  56            1   \n",
       "6827366          9905082497   -0.45        0          0  30            3   \n",
       "\n",
       "         total_amount FirstOrderDate LastOrderDate                 period  \n",
       "0            20000.00     2018-07-17    2018-07-30  2018_01_01_2019_02_28  \n",
       "1            51416.44     2018-07-25    2018-11-02  2018_01_01_2019_02_28  \n",
       "2             9262.08     2018-12-07    2018-12-20  2018_01_01_2019_02_28  \n",
       "3            56426.00     2018-01-03    2019-01-30  2018_01_01_2019_02_28  \n",
       "4            19216.66     2018-02-21    2018-12-09  2018_01_01_2019_02_28  \n",
       "5            13237.86     2018-02-09    2018-05-18  2018_01_01_2019_02_28  \n",
       "6             2545.96     2018-01-22    2019-01-19  2018_01_01_2019_02_28  \n",
       "7            22662.51     2018-01-31    2018-05-09  2018_01_01_2019_02_28  \n",
       "8            35961.47     2018-01-06    2019-02-01  2018_01_01_2019_02_28  \n",
       "9            33654.89     2018-01-06    2019-01-22  2018_01_01_2019_02_28  \n",
       "10            1628.07     2018-01-23    2019-01-15  2018_01_01_2019_02_28  \n",
       "11            1825.99     2018-01-18    2018-12-24  2018_01_01_2019_02_28  \n",
       "12           34840.98     2018-01-01    2019-02-01  2018_01_01_2019_02_28  \n",
       "13           32227.51     2018-01-07    2019-01-04  2018_01_01_2019_02_28  \n",
       "14            4313.56     2018-01-03    2019-01-27  2018_01_01_2019_02_28  \n",
       "15           89240.37     2018-04-21    2019-02-02  2018_01_01_2019_02_28  \n",
       "16            6091.72     2018-03-12    2018-11-18  2018_01_01_2019_02_28  \n",
       "17            3066.93     2018-01-10    2018-12-31  2018_01_01_2019_02_28  \n",
       "18           21679.74     2018-01-06    2019-02-01  2018_01_01_2019_02_28  \n",
       "19           16281.01     2018-01-05    2019-01-27  2018_01_01_2019_02_28  \n",
       "20           25201.92     2018-01-05    2019-02-01  2018_01_01_2019_02_28  \n",
       "21            6778.18     2018-01-05    2019-01-30  2018_01_01_2019_02_28  \n",
       "22           25333.15     2018-01-04    2019-02-02  2018_01_01_2019_02_28  \n",
       "23           30131.39     2018-01-02    2019-01-26  2018_01_01_2019_02_28  \n",
       "24            2138.35     2018-01-01    2018-11-04  2018_01_01_2019_02_28  \n",
       "25           21729.15     2018-01-04    2019-02-02  2018_01_01_2019_02_28  \n",
       "26           24508.24     2018-01-04    2019-01-31  2018_01_01_2019_02_28  \n",
       "27           21359.81     2018-01-03    2019-01-25  2018_01_01_2019_02_28  \n",
       "28           11332.47     2018-01-06    2019-01-26  2018_01_01_2019_02_28  \n",
       "29            1067.01     2018-01-15    2019-02-01  2018_01_01_2019_02_28  \n",
       "...               ...            ...           ...                    ...  \n",
       "6827337          0.00     2018-01-19    2018-01-19  2018_01_01_2019_02_28  \n",
       "6827338          0.00     2018-03-03    2018-03-03  2018_01_01_2019_02_28  \n",
       "6827339          0.00     2018-01-08    2018-01-08  2018_01_01_2019_02_28  \n",
       "6827340          0.00     2018-01-25    2018-01-25  2018_01_01_2019_02_28  \n",
       "6827341          0.00     2018-10-19    2018-10-19  2018_01_01_2019_02_28  \n",
       "6827342          0.00     2018-01-06    2018-01-06  2018_01_01_2019_02_28  \n",
       "6827343          0.00     2018-01-16    2018-01-16  2018_01_01_2019_02_28  \n",
       "6827344          0.00     2018-07-18    2018-07-18  2018_01_01_2019_02_28  \n",
       "6827345          0.00     2018-01-04    2018-01-04  2018_01_01_2019_02_28  \n",
       "6827346          0.00     2018-01-09    2018-01-09  2018_01_01_2019_02_28  \n",
       "6827347          0.00     2018-10-16    2018-10-16  2018_01_01_2019_02_28  \n",
       "6827348          0.00     2018-09-02    2018-09-02  2018_01_01_2019_02_28  \n",
       "6827349          0.00     2018-05-19    2018-05-19  2018_01_01_2019_02_28  \n",
       "6827350          0.00     2018-01-18    2018-01-18  2018_01_01_2019_02_28  \n",
       "6827351          0.00     2018-01-12    2018-01-12  2018_01_01_2019_02_28  \n",
       "6827352          0.00     2019-01-26    2019-01-26  2018_01_01_2019_02_28  \n",
       "6827353          0.00     2018-10-22    2018-10-22  2018_01_01_2019_02_28  \n",
       "6827354          0.00     2019-01-24    2019-01-24  2018_01_01_2019_02_28  \n",
       "6827355          0.00     2018-12-20    2018-12-20  2018_01_01_2019_02_28  \n",
       "6827356          0.00     2019-01-09    2019-01-09  2018_01_01_2019_02_28  \n",
       "6827357          0.00     2018-01-12    2018-01-12  2018_01_01_2019_02_28  \n",
       "6827358          0.00     2019-01-15    2019-01-15  2018_01_01_2019_02_28  \n",
       "6827359          0.00     2018-09-20    2018-09-20  2018_01_01_2019_02_28  \n",
       "6827360         -3.01     2018-06-19    2018-06-22  2018_01_01_2019_02_28  \n",
       "6827361         -5.98     2018-08-26    2018-08-31  2018_01_01_2019_02_28  \n",
       "6827362         -6.44     2018-12-02    2018-12-07  2018_01_01_2019_02_28  \n",
       "6827363         -7.69     2018-03-21    2018-03-21  2018_01_01_2019_02_28  \n",
       "6827364         -9.96     2018-05-31    2018-05-31  2018_01_01_2019_02_28  \n",
       "6827365        -16.51     2018-02-09    2018-02-09  2018_01_01_2019_02_28  \n",
       "6827366        -44.96     2018-08-05    2018-08-05  2018_01_01_2019_02_28  \n",
       "\n",
       "[6827363 rows x 10 columns]"
      ]
     },
     "execution_count": 10,
     "metadata": {},
     "output_type": "execute_result"
    },
    {
     "data": {
      "text/html": [
       "<b>limit_output extension: Maximum message size of 10000 exceeded with 16901 characters</b>"
      ]
     },
     "metadata": {},
     "output_type": "display_data"
    }
   ],
   "source": [
    "frame"
   ]
  },
  {
   "cell_type": "code",
   "execution_count": 8,
   "metadata": {
    "ExecuteTime": {
     "end_time": "2019-03-08T13:36:17.357085Z",
     "start_time": "2019-03-08T13:36:17.217542Z"
    }
   },
   "outputs": [],
   "source": [
    "del frame['Unnamed: 0']"
   ]
  },
  {
   "cell_type": "code",
   "execution_count": 12,
   "metadata": {
    "ExecuteTime": {
     "end_time": "2019-03-08T13:37:55.145537Z",
     "start_time": "2019-03-08T13:37:41.511230Z"
    }
   },
   "outputs": [],
   "source": [
    "frame = cleanCustomers(customer_columnname='customer_id', df=frame)"
   ]
  },
  {
   "cell_type": "code",
   "execution_count": 24,
   "metadata": {
    "ExecuteTime": {
     "end_time": "2019-03-08T13:59:52.542061Z",
     "start_time": "2019-03-08T13:59:51.651927Z"
    }
   },
   "outputs": [
    {
     "name": "stderr",
     "output_type": "stream",
     "text": [
      "/anaconda3/lib/python3.6/site-packages/IPython/core/interactiveshell.py:2785: DtypeWarning: Columns (0) have mixed types. Specify dtype option on import or set low_memory=False.\n",
      "  interactivity=interactivity, compiler=compiler, result=result)\n"
     ]
    }
   ],
   "source": [
    "mailableFrame = pd.read_csv('/Users/sanjaygopinath/Documents/Data/Churn_DM/March/DM Customers.csv', header=None)"
   ]
  },
  {
   "cell_type": "code",
   "execution_count": 30,
   "metadata": {
    "ExecuteTime": {
     "end_time": "2019-03-08T14:00:44.210110Z",
     "start_time": "2019-03-08T14:00:44.130319Z"
    }
   },
   "outputs": [],
   "source": [
    "mailableFrame.rename(columns={0: 'customer_no'}, inplace=True)"
   ]
  },
  {
   "cell_type": "code",
   "execution_count": 33,
   "metadata": {
    "ExecuteTime": {
     "end_time": "2019-03-08T14:00:54.106791Z",
     "start_time": "2019-03-08T14:00:54.095831Z"
    },
    "scrolled": true
   },
   "outputs": [
    {
     "data": {
      "text/html": [
       "<div>\n",
       "<style scoped>\n",
       "    .dataframe tbody tr th:only-of-type {\n",
       "        vertical-align: middle;\n",
       "    }\n",
       "\n",
       "    .dataframe tbody tr th {\n",
       "        vertical-align: top;\n",
       "    }\n",
       "\n",
       "    .dataframe thead th {\n",
       "        text-align: right;\n",
       "    }\n",
       "</style>\n",
       "<table border=\"1\" class=\"dataframe\">\n",
       "  <thead>\n",
       "    <tr style=\"text-align: right;\">\n",
       "      <th></th>\n",
       "      <th>customer_no</th>\n",
       "    </tr>\n",
       "  </thead>\n",
       "  <tbody>\n",
       "    <tr>\n",
       "      <th>0</th>\n",
       "      <td>21001055</td>\n",
       "    </tr>\n",
       "    <tr>\n",
       "      <th>1</th>\n",
       "      <td>21002751</td>\n",
       "    </tr>\n",
       "    <tr>\n",
       "      <th>2</th>\n",
       "      <td>21003063</td>\n",
       "    </tr>\n",
       "    <tr>\n",
       "      <th>3</th>\n",
       "      <td>21003152</td>\n",
       "    </tr>\n",
       "    <tr>\n",
       "      <th>4</th>\n",
       "      <td>21003558</td>\n",
       "    </tr>\n",
       "    <tr>\n",
       "      <th>5</th>\n",
       "      <td>21003607</td>\n",
       "    </tr>\n",
       "    <tr>\n",
       "      <th>6</th>\n",
       "      <td>21003901</td>\n",
       "    </tr>\n",
       "    <tr>\n",
       "      <th>7</th>\n",
       "      <td>21004454</td>\n",
       "    </tr>\n",
       "    <tr>\n",
       "      <th>8</th>\n",
       "      <td>21004708</td>\n",
       "    </tr>\n",
       "    <tr>\n",
       "      <th>9</th>\n",
       "      <td>25757355</td>\n",
       "    </tr>\n",
       "    <tr>\n",
       "      <th>10</th>\n",
       "      <td>25889654</td>\n",
       "    </tr>\n",
       "    <tr>\n",
       "      <th>11</th>\n",
       "      <td>27597339</td>\n",
       "    </tr>\n",
       "    <tr>\n",
       "      <th>12</th>\n",
       "      <td>28289755</td>\n",
       "    </tr>\n",
       "    <tr>\n",
       "      <th>13</th>\n",
       "      <td>31000036</td>\n",
       "    </tr>\n",
       "    <tr>\n",
       "      <th>14</th>\n",
       "      <td>31000381</td>\n",
       "    </tr>\n",
       "    <tr>\n",
       "      <th>15</th>\n",
       "      <td>31001004</td>\n",
       "    </tr>\n",
       "    <tr>\n",
       "      <th>16</th>\n",
       "      <td>31001030</td>\n",
       "    </tr>\n",
       "    <tr>\n",
       "      <th>17</th>\n",
       "      <td>31002260</td>\n",
       "    </tr>\n",
       "    <tr>\n",
       "      <th>18</th>\n",
       "      <td>38801651</td>\n",
       "    </tr>\n",
       "    <tr>\n",
       "      <th>19</th>\n",
       "      <td>41000005</td>\n",
       "    </tr>\n",
       "    <tr>\n",
       "      <th>20</th>\n",
       "      <td>41000174</td>\n",
       "    </tr>\n",
       "    <tr>\n",
       "      <th>21</th>\n",
       "      <td>41000302</td>\n",
       "    </tr>\n",
       "    <tr>\n",
       "      <th>22</th>\n",
       "      <td>41000324</td>\n",
       "    </tr>\n",
       "    <tr>\n",
       "      <th>23</th>\n",
       "      <td>41000589</td>\n",
       "    </tr>\n",
       "    <tr>\n",
       "      <th>24</th>\n",
       "      <td>41001059</td>\n",
       "    </tr>\n",
       "    <tr>\n",
       "      <th>25</th>\n",
       "      <td>41001175</td>\n",
       "    </tr>\n",
       "    <tr>\n",
       "      <th>26</th>\n",
       "      <td>41001303</td>\n",
       "    </tr>\n",
       "    <tr>\n",
       "      <th>27</th>\n",
       "      <td>41001704</td>\n",
       "    </tr>\n",
       "    <tr>\n",
       "      <th>28</th>\n",
       "      <td>41003037</td>\n",
       "    </tr>\n",
       "    <tr>\n",
       "      <th>29</th>\n",
       "      <td>41003547</td>\n",
       "    </tr>\n",
       "    <tr>\n",
       "      <th>...</th>\n",
       "      <td>...</td>\n",
       "    </tr>\n",
       "    <tr>\n",
       "      <th>4127935</th>\n",
       "      <td>9904661152</td>\n",
       "    </tr>\n",
       "    <tr>\n",
       "      <th>4127936</th>\n",
       "      <td>9904661519</td>\n",
       "    </tr>\n",
       "    <tr>\n",
       "      <th>4127937</th>\n",
       "      <td>9904661550</td>\n",
       "    </tr>\n",
       "    <tr>\n",
       "      <th>4127938</th>\n",
       "      <td>9904661565</td>\n",
       "    </tr>\n",
       "    <tr>\n",
       "      <th>4127939</th>\n",
       "      <td>9904661637</td>\n",
       "    </tr>\n",
       "    <tr>\n",
       "      <th>4127940</th>\n",
       "      <td>9904661808</td>\n",
       "    </tr>\n",
       "    <tr>\n",
       "      <th>4127941</th>\n",
       "      <td>9904662014</td>\n",
       "    </tr>\n",
       "    <tr>\n",
       "      <th>4127942</th>\n",
       "      <td>9904662063</td>\n",
       "    </tr>\n",
       "    <tr>\n",
       "      <th>4127943</th>\n",
       "      <td>9904662094</td>\n",
       "    </tr>\n",
       "    <tr>\n",
       "      <th>4127944</th>\n",
       "      <td>9904662122</td>\n",
       "    </tr>\n",
       "    <tr>\n",
       "      <th>4127945</th>\n",
       "      <td>9904662126</td>\n",
       "    </tr>\n",
       "    <tr>\n",
       "      <th>4127946</th>\n",
       "      <td>9904662152</td>\n",
       "    </tr>\n",
       "    <tr>\n",
       "      <th>4127947</th>\n",
       "      <td>9904662191</td>\n",
       "    </tr>\n",
       "    <tr>\n",
       "      <th>4127948</th>\n",
       "      <td>9904662199</td>\n",
       "    </tr>\n",
       "    <tr>\n",
       "      <th>4127949</th>\n",
       "      <td>9904662243</td>\n",
       "    </tr>\n",
       "    <tr>\n",
       "      <th>4127950</th>\n",
       "      <td>9904662275</td>\n",
       "    </tr>\n",
       "    <tr>\n",
       "      <th>4127951</th>\n",
       "      <td>9904662436</td>\n",
       "    </tr>\n",
       "    <tr>\n",
       "      <th>4127952</th>\n",
       "      <td>9904662456</td>\n",
       "    </tr>\n",
       "    <tr>\n",
       "      <th>4127953</th>\n",
       "      <td>9904662524</td>\n",
       "    </tr>\n",
       "    <tr>\n",
       "      <th>4127954</th>\n",
       "      <td>9904662637</td>\n",
       "    </tr>\n",
       "    <tr>\n",
       "      <th>4127955</th>\n",
       "      <td>9904662664</td>\n",
       "    </tr>\n",
       "    <tr>\n",
       "      <th>4127956</th>\n",
       "      <td>9904662721</td>\n",
       "    </tr>\n",
       "    <tr>\n",
       "      <th>4127957</th>\n",
       "      <td>9904662723</td>\n",
       "    </tr>\n",
       "    <tr>\n",
       "      <th>4127958</th>\n",
       "      <td>9904662725</td>\n",
       "    </tr>\n",
       "    <tr>\n",
       "      <th>4127959</th>\n",
       "      <td>9904662729</td>\n",
       "    </tr>\n",
       "    <tr>\n",
       "      <th>4127960</th>\n",
       "      <td>9904662745</td>\n",
       "    </tr>\n",
       "    <tr>\n",
       "      <th>4127961</th>\n",
       "      <td>9904662803</td>\n",
       "    </tr>\n",
       "    <tr>\n",
       "      <th>4127962</th>\n",
       "      <td>9904662846</td>\n",
       "    </tr>\n",
       "    <tr>\n",
       "      <th>4127963</th>\n",
       "      <td>9904662862</td>\n",
       "    </tr>\n",
       "    <tr>\n",
       "      <th>4127964</th>\n",
       "      <td>9904662883</td>\n",
       "    </tr>\n",
       "  </tbody>\n",
       "</table>\n",
       "<p>4127965 rows × 1 columns</p>\n",
       "</div>"
      ],
      "text/plain": [
       "        customer_no\n",
       "0          21001055\n",
       "1          21002751\n",
       "2          21003063\n",
       "3          21003152\n",
       "4          21003558\n",
       "5          21003607\n",
       "6          21003901\n",
       "7          21004454\n",
       "8          21004708\n",
       "9          25757355\n",
       "10         25889654\n",
       "11         27597339\n",
       "12         28289755\n",
       "13         31000036\n",
       "14         31000381\n",
       "15         31001004\n",
       "16         31001030\n",
       "17         31002260\n",
       "18         38801651\n",
       "19         41000005\n",
       "20         41000174\n",
       "21         41000302\n",
       "22         41000324\n",
       "23         41000589\n",
       "24         41001059\n",
       "25         41001175\n",
       "26         41001303\n",
       "27         41001704\n",
       "28         41003037\n",
       "29         41003547\n",
       "...             ...\n",
       "4127935  9904661152\n",
       "4127936  9904661519\n",
       "4127937  9904661550\n",
       "4127938  9904661565\n",
       "4127939  9904661637\n",
       "4127940  9904661808\n",
       "4127941  9904662014\n",
       "4127942  9904662063\n",
       "4127943  9904662094\n",
       "4127944  9904662122\n",
       "4127945  9904662126\n",
       "4127946  9904662152\n",
       "4127947  9904662191\n",
       "4127948  9904662199\n",
       "4127949  9904662243\n",
       "4127950  9904662275\n",
       "4127951  9904662436\n",
       "4127952  9904662456\n",
       "4127953  9904662524\n",
       "4127954  9904662637\n",
       "4127955  9904662664\n",
       "4127956  9904662721\n",
       "4127957  9904662723\n",
       "4127958  9904662725\n",
       "4127959  9904662729\n",
       "4127960  9904662745\n",
       "4127961  9904662803\n",
       "4127962  9904662846\n",
       "4127963  9904662862\n",
       "4127964  9904662883\n",
       "\n",
       "[4127965 rows x 1 columns]"
      ]
     },
     "execution_count": 33,
     "metadata": {},
     "output_type": "execute_result"
    }
   ],
   "source": [
    "mailableFrame"
   ]
  },
  {
   "cell_type": "code",
   "execution_count": 21,
   "metadata": {
    "ExecuteTime": {
     "end_time": "2019-03-08T13:59:19.487853Z",
     "start_time": "2019-03-08T13:59:19.431441Z"
    },
    "scrolled": true
   },
   "outputs": [
    {
     "ename": "KeyError",
     "evalue": "'customer_id'",
     "output_type": "error",
     "traceback": [
      "\u001b[0;31m---------------------------------------------------------------------------\u001b[0m",
      "\u001b[0;31mKeyError\u001b[0m                                  Traceback (most recent call last)",
      "\u001b[0;32m/anaconda3/lib/python3.6/site-packages/pandas/core/indexes/base.py\u001b[0m in \u001b[0;36mget_loc\u001b[0;34m(self, key, method, tolerance)\u001b[0m\n\u001b[1;32m   3062\u001b[0m             \u001b[0;32mtry\u001b[0m\u001b[0;34m:\u001b[0m\u001b[0;34m\u001b[0m\u001b[0m\n\u001b[0;32m-> 3063\u001b[0;31m                 \u001b[0;32mreturn\u001b[0m \u001b[0mself\u001b[0m\u001b[0;34m.\u001b[0m\u001b[0m_engine\u001b[0m\u001b[0;34m.\u001b[0m\u001b[0mget_loc\u001b[0m\u001b[0;34m(\u001b[0m\u001b[0mkey\u001b[0m\u001b[0;34m)\u001b[0m\u001b[0;34m\u001b[0m\u001b[0m\n\u001b[0m\u001b[1;32m   3064\u001b[0m             \u001b[0;32mexcept\u001b[0m \u001b[0mKeyError\u001b[0m\u001b[0;34m:\u001b[0m\u001b[0;34m\u001b[0m\u001b[0m\n",
      "\u001b[0;32mpandas/_libs/index.pyx\u001b[0m in \u001b[0;36mpandas._libs.index.IndexEngine.get_loc\u001b[0;34m()\u001b[0m\n",
      "\u001b[0;32mpandas/_libs/index.pyx\u001b[0m in \u001b[0;36mpandas._libs.index.IndexEngine.get_loc\u001b[0;34m()\u001b[0m\n",
      "\u001b[0;32mpandas/_libs/hashtable_class_helper.pxi\u001b[0m in \u001b[0;36mpandas._libs.hashtable.PyObjectHashTable.get_item\u001b[0;34m()\u001b[0m\n",
      "\u001b[0;32mpandas/_libs/hashtable_class_helper.pxi\u001b[0m in \u001b[0;36mpandas._libs.hashtable.PyObjectHashTable.get_item\u001b[0;34m()\u001b[0m\n",
      "\u001b[0;31mKeyError\u001b[0m: 'customer_id'",
      "\nDuring handling of the above exception, another exception occurred:\n",
      "\u001b[0;31mKeyError\u001b[0m                                  Traceback (most recent call last)",
      "\u001b[0;32m<ipython-input-21-e5fc19c1ffa4>\u001b[0m in \u001b[0;36m<module>\u001b[0;34m()\u001b[0m\n\u001b[0;32m----> 1\u001b[0;31m \u001b[0mmailableFrame\u001b[0m \u001b[0;34m=\u001b[0m \u001b[0mcleanCustomers\u001b[0m\u001b[0;34m(\u001b[0m\u001b[0mcustomer_columnname\u001b[0m\u001b[0;34m=\u001b[0m\u001b[0;34m'customer_id'\u001b[0m\u001b[0;34m,\u001b[0m \u001b[0mdf\u001b[0m\u001b[0;34m=\u001b[0m\u001b[0mmailableFrame\u001b[0m\u001b[0;34m)\u001b[0m\u001b[0;34m\u001b[0m\u001b[0m\n\u001b[0m",
      "\u001b[0;32m<ipython-input-11-d484b1527c29>\u001b[0m in \u001b[0;36mcleanCustomers\u001b[0;34m(df, customer_columnname)\u001b[0m\n\u001b[1;32m     20\u001b[0m     \"\"\"\n\u001b[1;32m     21\u001b[0m \u001b[0;34m\u001b[0m\u001b[0m\n\u001b[0;32m---> 22\u001b[0;31m     \u001b[0mdf\u001b[0m\u001b[0;34m[\u001b[0m\u001b[0mcustomer_columnname\u001b[0m\u001b[0;34m]\u001b[0m \u001b[0;34m=\u001b[0m \u001b[0mdf\u001b[0m\u001b[0;34m[\u001b[0m\u001b[0mcustomer_columnname\u001b[0m\u001b[0;34m]\u001b[0m\u001b[0;34m.\u001b[0m\u001b[0mastype\u001b[0m\u001b[0;34m(\u001b[0m\u001b[0mstr\u001b[0m\u001b[0;34m)\u001b[0m\u001b[0;34m\u001b[0m\u001b[0m\n\u001b[0m\u001b[1;32m     23\u001b[0m \u001b[0;34m\u001b[0m\u001b[0m\n\u001b[1;32m     24\u001b[0m     \u001b[0;31m# remove rows with customer number having zeroes and blanks\u001b[0m\u001b[0;34m\u001b[0m\u001b[0;34m\u001b[0m\u001b[0m\n",
      "\u001b[0;32m/anaconda3/lib/python3.6/site-packages/pandas/core/frame.py\u001b[0m in \u001b[0;36m__getitem__\u001b[0;34m(self, key)\u001b[0m\n\u001b[1;32m   2683\u001b[0m             \u001b[0;32mreturn\u001b[0m \u001b[0mself\u001b[0m\u001b[0;34m.\u001b[0m\u001b[0m_getitem_multilevel\u001b[0m\u001b[0;34m(\u001b[0m\u001b[0mkey\u001b[0m\u001b[0;34m)\u001b[0m\u001b[0;34m\u001b[0m\u001b[0m\n\u001b[1;32m   2684\u001b[0m         \u001b[0;32melse\u001b[0m\u001b[0;34m:\u001b[0m\u001b[0;34m\u001b[0m\u001b[0m\n\u001b[0;32m-> 2685\u001b[0;31m             \u001b[0;32mreturn\u001b[0m \u001b[0mself\u001b[0m\u001b[0;34m.\u001b[0m\u001b[0m_getitem_column\u001b[0m\u001b[0;34m(\u001b[0m\u001b[0mkey\u001b[0m\u001b[0;34m)\u001b[0m\u001b[0;34m\u001b[0m\u001b[0m\n\u001b[0m\u001b[1;32m   2686\u001b[0m \u001b[0;34m\u001b[0m\u001b[0m\n\u001b[1;32m   2687\u001b[0m     \u001b[0;32mdef\u001b[0m \u001b[0m_getitem_column\u001b[0m\u001b[0;34m(\u001b[0m\u001b[0mself\u001b[0m\u001b[0;34m,\u001b[0m \u001b[0mkey\u001b[0m\u001b[0;34m)\u001b[0m\u001b[0;34m:\u001b[0m\u001b[0;34m\u001b[0m\u001b[0m\n",
      "\u001b[0;32m/anaconda3/lib/python3.6/site-packages/pandas/core/frame.py\u001b[0m in \u001b[0;36m_getitem_column\u001b[0;34m(self, key)\u001b[0m\n\u001b[1;32m   2690\u001b[0m         \u001b[0;31m# get column\u001b[0m\u001b[0;34m\u001b[0m\u001b[0;34m\u001b[0m\u001b[0m\n\u001b[1;32m   2691\u001b[0m         \u001b[0;32mif\u001b[0m \u001b[0mself\u001b[0m\u001b[0;34m.\u001b[0m\u001b[0mcolumns\u001b[0m\u001b[0;34m.\u001b[0m\u001b[0mis_unique\u001b[0m\u001b[0;34m:\u001b[0m\u001b[0;34m\u001b[0m\u001b[0m\n\u001b[0;32m-> 2692\u001b[0;31m             \u001b[0;32mreturn\u001b[0m \u001b[0mself\u001b[0m\u001b[0;34m.\u001b[0m\u001b[0m_get_item_cache\u001b[0m\u001b[0;34m(\u001b[0m\u001b[0mkey\u001b[0m\u001b[0;34m)\u001b[0m\u001b[0;34m\u001b[0m\u001b[0m\n\u001b[0m\u001b[1;32m   2693\u001b[0m \u001b[0;34m\u001b[0m\u001b[0m\n\u001b[1;32m   2694\u001b[0m         \u001b[0;31m# duplicate columns & possible reduce dimensionality\u001b[0m\u001b[0;34m\u001b[0m\u001b[0;34m\u001b[0m\u001b[0m\n",
      "\u001b[0;32m/anaconda3/lib/python3.6/site-packages/pandas/core/generic.py\u001b[0m in \u001b[0;36m_get_item_cache\u001b[0;34m(self, item)\u001b[0m\n\u001b[1;32m   2484\u001b[0m         \u001b[0mres\u001b[0m \u001b[0;34m=\u001b[0m \u001b[0mcache\u001b[0m\u001b[0;34m.\u001b[0m\u001b[0mget\u001b[0m\u001b[0;34m(\u001b[0m\u001b[0mitem\u001b[0m\u001b[0;34m)\u001b[0m\u001b[0;34m\u001b[0m\u001b[0m\n\u001b[1;32m   2485\u001b[0m         \u001b[0;32mif\u001b[0m \u001b[0mres\u001b[0m \u001b[0;32mis\u001b[0m \u001b[0;32mNone\u001b[0m\u001b[0;34m:\u001b[0m\u001b[0;34m\u001b[0m\u001b[0m\n\u001b[0;32m-> 2486\u001b[0;31m             \u001b[0mvalues\u001b[0m \u001b[0;34m=\u001b[0m \u001b[0mself\u001b[0m\u001b[0;34m.\u001b[0m\u001b[0m_data\u001b[0m\u001b[0;34m.\u001b[0m\u001b[0mget\u001b[0m\u001b[0;34m(\u001b[0m\u001b[0mitem\u001b[0m\u001b[0;34m)\u001b[0m\u001b[0;34m\u001b[0m\u001b[0m\n\u001b[0m\u001b[1;32m   2487\u001b[0m             \u001b[0mres\u001b[0m \u001b[0;34m=\u001b[0m \u001b[0mself\u001b[0m\u001b[0;34m.\u001b[0m\u001b[0m_box_item_values\u001b[0m\u001b[0;34m(\u001b[0m\u001b[0mitem\u001b[0m\u001b[0;34m,\u001b[0m \u001b[0mvalues\u001b[0m\u001b[0;34m)\u001b[0m\u001b[0;34m\u001b[0m\u001b[0m\n\u001b[1;32m   2488\u001b[0m             \u001b[0mcache\u001b[0m\u001b[0;34m[\u001b[0m\u001b[0mitem\u001b[0m\u001b[0;34m]\u001b[0m \u001b[0;34m=\u001b[0m \u001b[0mres\u001b[0m\u001b[0;34m\u001b[0m\u001b[0m\n",
      "\u001b[0;32m/anaconda3/lib/python3.6/site-packages/pandas/core/internals.py\u001b[0m in \u001b[0;36mget\u001b[0;34m(self, item, fastpath)\u001b[0m\n\u001b[1;32m   4113\u001b[0m \u001b[0;34m\u001b[0m\u001b[0m\n\u001b[1;32m   4114\u001b[0m             \u001b[0;32mif\u001b[0m \u001b[0;32mnot\u001b[0m \u001b[0misna\u001b[0m\u001b[0;34m(\u001b[0m\u001b[0mitem\u001b[0m\u001b[0;34m)\u001b[0m\u001b[0;34m:\u001b[0m\u001b[0;34m\u001b[0m\u001b[0m\n\u001b[0;32m-> 4115\u001b[0;31m                 \u001b[0mloc\u001b[0m \u001b[0;34m=\u001b[0m \u001b[0mself\u001b[0m\u001b[0;34m.\u001b[0m\u001b[0mitems\u001b[0m\u001b[0;34m.\u001b[0m\u001b[0mget_loc\u001b[0m\u001b[0;34m(\u001b[0m\u001b[0mitem\u001b[0m\u001b[0;34m)\u001b[0m\u001b[0;34m\u001b[0m\u001b[0m\n\u001b[0m\u001b[1;32m   4116\u001b[0m             \u001b[0;32melse\u001b[0m\u001b[0;34m:\u001b[0m\u001b[0;34m\u001b[0m\u001b[0m\n\u001b[1;32m   4117\u001b[0m                 \u001b[0mindexer\u001b[0m \u001b[0;34m=\u001b[0m \u001b[0mnp\u001b[0m\u001b[0;34m.\u001b[0m\u001b[0marange\u001b[0m\u001b[0;34m(\u001b[0m\u001b[0mlen\u001b[0m\u001b[0;34m(\u001b[0m\u001b[0mself\u001b[0m\u001b[0;34m.\u001b[0m\u001b[0mitems\u001b[0m\u001b[0;34m)\u001b[0m\u001b[0;34m)\u001b[0m\u001b[0;34m[\u001b[0m\u001b[0misna\u001b[0m\u001b[0;34m(\u001b[0m\u001b[0mself\u001b[0m\u001b[0;34m.\u001b[0m\u001b[0mitems\u001b[0m\u001b[0;34m)\u001b[0m\u001b[0;34m]\u001b[0m\u001b[0;34m\u001b[0m\u001b[0m\n",
      "\u001b[0;32m/anaconda3/lib/python3.6/site-packages/pandas/core/indexes/base.py\u001b[0m in \u001b[0;36mget_loc\u001b[0;34m(self, key, method, tolerance)\u001b[0m\n\u001b[1;32m   3063\u001b[0m                 \u001b[0;32mreturn\u001b[0m \u001b[0mself\u001b[0m\u001b[0;34m.\u001b[0m\u001b[0m_engine\u001b[0m\u001b[0;34m.\u001b[0m\u001b[0mget_loc\u001b[0m\u001b[0;34m(\u001b[0m\u001b[0mkey\u001b[0m\u001b[0;34m)\u001b[0m\u001b[0;34m\u001b[0m\u001b[0m\n\u001b[1;32m   3064\u001b[0m             \u001b[0;32mexcept\u001b[0m \u001b[0mKeyError\u001b[0m\u001b[0;34m:\u001b[0m\u001b[0;34m\u001b[0m\u001b[0m\n\u001b[0;32m-> 3065\u001b[0;31m                 \u001b[0;32mreturn\u001b[0m \u001b[0mself\u001b[0m\u001b[0;34m.\u001b[0m\u001b[0m_engine\u001b[0m\u001b[0;34m.\u001b[0m\u001b[0mget_loc\u001b[0m\u001b[0;34m(\u001b[0m\u001b[0mself\u001b[0m\u001b[0;34m.\u001b[0m\u001b[0m_maybe_cast_indexer\u001b[0m\u001b[0;34m(\u001b[0m\u001b[0mkey\u001b[0m\u001b[0;34m)\u001b[0m\u001b[0;34m)\u001b[0m\u001b[0;34m\u001b[0m\u001b[0m\n\u001b[0m\u001b[1;32m   3066\u001b[0m \u001b[0;34m\u001b[0m\u001b[0m\n\u001b[1;32m   3067\u001b[0m         \u001b[0mindexer\u001b[0m \u001b[0;34m=\u001b[0m \u001b[0mself\u001b[0m\u001b[0;34m.\u001b[0m\u001b[0mget_indexer\u001b[0m\u001b[0;34m(\u001b[0m\u001b[0;34m[\u001b[0m\u001b[0mkey\u001b[0m\u001b[0;34m]\u001b[0m\u001b[0;34m,\u001b[0m \u001b[0mmethod\u001b[0m\u001b[0;34m=\u001b[0m\u001b[0mmethod\u001b[0m\u001b[0;34m,\u001b[0m \u001b[0mtolerance\u001b[0m\u001b[0;34m=\u001b[0m\u001b[0mtolerance\u001b[0m\u001b[0;34m)\u001b[0m\u001b[0;34m\u001b[0m\u001b[0m\n",
      "\u001b[0;32mpandas/_libs/index.pyx\u001b[0m in \u001b[0;36mpandas._libs.index.IndexEngine.get_loc\u001b[0;34m()\u001b[0m\n",
      "\u001b[0;32mpandas/_libs/index.pyx\u001b[0m in \u001b[0;36mpandas._libs.index.IndexEngine.get_loc\u001b[0;34m()\u001b[0m\n",
      "\u001b[0;32mpandas/_libs/hashtable_class_helper.pxi\u001b[0m in \u001b[0;36mpandas._libs.hashtable.PyObjectHashTable.get_item\u001b[0;34m()\u001b[0m\n",
      "\u001b[0;32mpandas/_libs/hashtable_class_helper.pxi\u001b[0m in \u001b[0;36mpandas._libs.hashtable.PyObjectHashTable.get_item\u001b[0;34m()\u001b[0m\n",
      "\u001b[0;31mKeyError\u001b[0m: 'customer_id'"
     ]
    }
   ],
   "source": [
    "mailableFrame = cleanCustomers(customer_columnname='customer_id', df=mailableFrame)"
   ]
  },
  {
   "cell_type": "code",
   "execution_count": 34,
   "metadata": {
    "ExecuteTime": {
     "end_time": "2019-03-08T14:01:06.989609Z",
     "start_time": "2019-03-08T14:01:02.204252Z"
    },
    "scrolled": false
   },
   "outputs": [],
   "source": [
    "mailableFrame = cleanCustomers(customer_columnname='customer_no', df=mailableFrame)"
   ]
  },
  {
   "cell_type": "code",
   "execution_count": null,
   "metadata": {
    "ExecuteTime": {
     "end_time": "2019-02-05T19:20:40.320390Z",
     "start_time": "2019-02-05T19:20:16.355436Z"
    }
   },
   "outputs": [],
   "source": [
    "mailableFrame.to_csv('/Users/sanjaygopinath/Documents/Churn_DM/scored_customer_list.csv')"
   ]
  },
  {
   "cell_type": "code",
   "execution_count": null,
   "metadata": {
    "ExecuteTime": {
     "end_time": "2019-02-05T19:07:47.178137Z",
     "start_time": "2019-02-05T19:07:46.336108Z"
    }
   },
   "outputs": [],
   "source": [
    "frame.customer_id.nunique()"
   ]
  },
  {
   "cell_type": "code",
   "execution_count": null,
   "metadata": {
    "ExecuteTime": {
     "end_time": "2019-02-05T19:09:55.364080Z",
     "start_time": "2019-02-05T19:09:55.333953Z"
    }
   },
   "outputs": [],
   "source": [
    "frame['customer_id'] = frame['customer_id'].astype('int64')"
   ]
  },
  {
   "cell_type": "code",
   "execution_count": 39,
   "metadata": {
    "ExecuteTime": {
     "end_time": "2019-03-08T14:07:09.739866Z",
     "start_time": "2019-03-08T14:07:07.935527Z"
    }
   },
   "outputs": [],
   "source": [
    "scoredCustomer['DM_in'] = scoredCustomer.customer_id.isin(mailableFrame.customer_no)"
   ]
  },
  {
   "cell_type": "code",
   "execution_count": 38,
   "metadata": {
    "ExecuteTime": {
     "end_time": "2019-03-08T14:07:05.240197Z",
     "start_time": "2019-03-08T14:07:01.917996Z"
    }
   },
   "outputs": [
    {
     "data": {
      "text/plain": [
       "3926984"
      ]
     },
     "execution_count": 38,
     "metadata": {},
     "output_type": "execute_result"
    }
   ],
   "source": [
    "len(set(scoredCustomer.customer_id).intersection(mailableFrame.customer_no))"
   ]
  },
  {
   "cell_type": "code",
   "execution_count": null,
   "metadata": {
    "ExecuteTime": {
     "end_time": "2019-02-05T19:19:09.402939Z",
     "start_time": "2019-02-05T19:19:06.747808Z"
    }
   },
   "outputs": [],
   "source": [
    "len(set(frame.customer_id).intersection(mailableFrame.customer_id))"
   ]
  },
  {
   "cell_type": "code",
   "execution_count": null,
   "metadata": {
    "ExecuteTime": {
     "end_time": "2019-02-05T18:58:14.133715Z",
     "start_time": "2019-02-05T18:58:11.538296Z"
    }
   },
   "outputs": [],
   "source": [
    "mailableFrame.customerno.nunique()"
   ]
  },
  {
   "cell_type": "code",
   "execution_count": null,
   "metadata": {
    "ExecuteTime": {
     "end_time": "2019-02-05T18:58:29.234391Z",
     "start_time": "2019-02-05T18:58:22.987387Z"
    }
   },
   "outputs": [],
   "source": [
    "frame.customer_id.nunique()"
   ]
  },
  {
   "cell_type": "code",
   "execution_count": null,
   "metadata": {
    "ExecuteTime": {
     "end_time": "2019-02-05T19:00:21.469047Z",
     "start_time": "2019-02-05T19:00:18.959249Z"
    }
   },
   "outputs": [],
   "source": [
    "len(set(frame.customer_id).intersection(mailableFrame.customerno))"
   ]
  },
  {
   "cell_type": "code",
   "execution_count": null,
   "metadata": {
    "ExecuteTime": {
     "end_time": "2019-02-05T19:01:12.959420Z",
     "start_time": "2019-02-05T19:01:10.247060Z"
    }
   },
   "outputs": [],
   "source": [
    "len(set(mailableFrame.customerno).intersection(frame.customer_id))"
   ]
  },
  {
   "cell_type": "code",
   "execution_count": 11,
   "metadata": {
    "ExecuteTime": {
     "end_time": "2019-03-08T13:37:36.873613Z",
     "start_time": "2019-03-08T13:37:36.867909Z"
    }
   },
   "outputs": [],
   "source": [
    "def cleanCustomers(df, customer_columnname = 'customer_identifier'):\n",
    "   \n",
    "    \"\"\"\n",
    "    removes rows with blanks, zeroes, alpha-numeric characters and weird longer numbers\n",
    "    identified as customer numbers. Finally, restores the datatype to 'int64'\n",
    "    \n",
    "    Parameters\n",
    "    ----------\n",
    "    score_pool : data frame\n",
    "        Data frame with customer numbers\n",
    "   \n",
    "    customer_columnname : string\n",
    "        Customer number column name from the data frame\n",
    "        (customerno/customer_identifier/customer_no/customer_id… etc)\n",
    "   \n",
    "    Returns\n",
    "    -------\n",
    "    dataframe\n",
    "        A data frame of cleaned customer numbers\n",
    "    \"\"\"\n",
    "   \n",
    "    df[customer_columnname] = df[customer_columnname].astype(str)\n",
    "   \n",
    "    # remove rows with customer number having zeroes and blanks\n",
    "    shit_long_ints = df[customer_columnname].loc[df[customer_columnname].apply(lambda x: len(str(x)) > 19)].tolist()\n",
    "    df = df.loc[~df[customer_columnname].isin(shit_long_ints)]\n",
    "    # remove rows with customer number having zeroes and blanks\n",
    "    shit_alphanums = df[customer_columnname].loc[df[customer_columnname].str.contains('[a-zA-Z]', regex=True)].tolist()\n",
    "    df = df.loc[~df[customer_columnname].isin(shit_alphanums)]\n",
    "    # remove rows with customer number having zeroes and blanks\n",
    "    df = df.loc[~df[customer_columnname].isin(['', '0'])]\n",
    "   \n",
    "    df[customer_columnname] = df[customer_columnname].astype('float64')\n",
    "    df[customer_columnname] = df[customer_columnname].astype('int64')\n",
    "   \n",
    "    return df"
   ]
  },
  {
   "cell_type": "code",
   "execution_count": null,
   "metadata": {
    "ExecuteTime": {
     "end_time": "2019-02-05T19:01:24.600589Z",
     "start_time": "2019-02-05T19:01:24.591700Z"
    }
   },
   "outputs": [],
   "source": [
    "mailableFrame.head()"
   ]
  },
  {
   "cell_type": "code",
   "execution_count": 13,
   "metadata": {
    "ExecuteTime": {
     "end_time": "2019-03-08T13:37:57.868093Z",
     "start_time": "2019-03-08T13:37:57.862321Z"
    }
   },
   "outputs": [],
   "source": [
    "def scoring_BG(customer_df, parameter_dictionary, weeks):\n",
    "\n",
    "    start  = time.time()\n",
    "\n",
    "\n",
    "\n",
    "    a = parameter_dictionary['a']\n",
    "    alpha = parameter_dictionary['alpha']\n",
    "    b= parameter_dictionary['b']\n",
    "    r = parameter_dictionary['r']\n",
    "    print(a, alpha, b, r)\n",
    "\n",
    "\n",
    "    #customer_df['period'] = str(i)+'_'+str(j)\n",
    "    customer_df['BG_cond_purch_12'] = customer_df.apply(lambda q: clv_scoring_functions.BDF_conditional_expected_number_of_purchases_up_to_time(weeks,a,alpha, b, r, q['frequency'], q['recency'], q['T']), axis=1)\n",
    "    customer_df['BG_prob_alive'] = customer_df.apply(lambda q: clv_scoring_functions.BDF_conditional_probability_alive(a,alpha, b, r, q['frequency'], q['recency'], q['T']), axis=1)\n",
    "    customer_df['BG_prob_alive'] = customer_df.BG_prob_alive.astype(float)\n",
    "    customer_df['BG_pred_spend'] = customer_df.BG_cond_purch_12*customer_df.AmountPerWeek\n",
    "\n",
    "\n",
    "\n",
    "\n",
    "    end = time.time() \n",
    "\n",
    "    print(\"It took {} minutes to score {} customers with the following parameters \\n {}\".format(((end-start)/60),customer_df.shape[0], parameter_dictionary ))\n",
    "    return(customer_df)      "
   ]
  },
  {
   "cell_type": "code",
   "execution_count": null,
   "metadata": {
    "ExecuteTime": {
     "start_time": "2019-03-08T13:32:26.740Z"
    },
    "scrolled": true
   },
   "outputs": [],
   "source": [
    "#create a dataframe with our accuracy scores for each class of customers and one for the total \n",
    "\n",
    "def accuracy_score(comparison_frame):\n",
    "    \"\"\"\n",
    "    Parameters \n",
    "    -----------\n",
    "    comparison_frame - dataframe \n",
    "        A data frame with the predicted bins and the actual bins\n",
    "    \n",
    "    Returns\n",
    "    --------\n",
    "    data frame \n",
    "        A data frame with the accuracy score for each class along with population size and overall population \n",
    "        accuracy score. \n",
    "    \"\"\"\n",
    "        \n",
    "    temp_df = pd.DataFrame()\n",
    "    i=0\n",
    "    for group in comparison_frame.custora_bins.unique():\n",
    "        i+=1\n",
    "        comparison_frame_sub = comparison_frame[comparison_frame.custora_bins==group]\n",
    "        temp_df.at[i,'class']=group\n",
    "        temp_df.at[i,'size']=comparison_frame_sub.shape[0]\n",
    "\n",
    "        temp_df.at[i,'acc_score']= sklearn.metrics.accuracy_score(comparison_frame_sub.group, comparison_frame_sub.custora_bins)\n",
    "        temp_df.at[i,'f1_score']= sklearn.metrics.f1_score(comparison_frame_sub.group, comparison_frame_sub.custora_bins, average='weighted')\n",
    "\n",
    "\n",
    "\n",
    "    temp_df.at[i+1,'class']='All'\n",
    "    temp_df.at[i+1,'size']=comparison_frame.shape[0]\n",
    "\n",
    "    temp_df.at[i+1,'acc_score']= sklearn.metrics.accuracy_score(comparison_frame.group, comparison_frame.custora_bins)\n",
    "\n",
    "    del comparison_frame_sub\n",
    "\n",
    "    return(temp_df)"
   ]
  },
  {
   "cell_type": "code",
   "execution_count": null,
   "metadata": {
    "ExecuteTime": {
     "start_time": "2019-03-08T13:32:27.465Z"
    },
    "code_folding": [
     4
    ]
   },
   "outputs": [],
   "source": [
    "def custora_group_scoring(VS_df, VS_score_col):\n",
    "    \"\"\"\n",
    "    Parameters \n",
    "    -----------\n",
    "    VS_df - dataframe \n",
    "        the data frame with our scored customers (should have customer number\n",
    "        or customer id - whatever we are going to use to merge this with the \n",
    "        custora results )\n",
    "    VS_score_col - 'string'\n",
    "        the column which contains our $ predictions for customers, include \n",
    "        quotation marks around the string\n",
    "        \n",
    "    \n",
    "    Returns\n",
    "    --------\n",
    "    data frame \n",
    "        A data frame with a percentile rank, numerical rank and bins for \n",
    "        each customer (the bins are determined by custora's definition of \n",
    "        different customer classes, see their website for any changes)\n",
    "    \n",
    "    \n",
    "    \"\"\"\n",
    "    \n",
    "    VS_df['pred_spend_rank'] = VS_df[VS_score_col].rank()\n",
    "    VS_df['pred_spend_perc'] = VS_df[VS_score_col].rank(pct=True)\n",
    "\n",
    "\n",
    "    #these bins correspond to custoras categories. The dictionary corresponds to the ranges in the bins (in order)\n",
    "    bins = np.array([0.0, 0.50, .75, .90, .95,.99,1.0001])\n",
    "    bins_dict = {1:'low', 2:'medium', 3:'bronze', 4:'silver', 5:'gold', 6: 'platinum'}\n",
    "\n",
    "    #we bin the percentile ranking using the bins articulated and then create a column that translates those \n",
    "    #bins to the custora group name \n",
    "    VS_df['pred_spend_bins'] = np.digitize(VS_df.pred_spend_perc, bins, right=True)\n",
    "    VS_df['custora_bins'] = VS_df['pred_spend_bins'].replace(bins_dict)\n",
    "    \n",
    "    #print a sanity check to make sure the bins are correctly structured\n",
    "    print(\"Please check to make sure that these bins make sense()\\n\",format(VS_df.custora_bins.value_counts()/VS_df.shape[0]))\n",
    "    \n",
    "    del VS_df['pred_spend_rank']\n",
    "    del VS_df['pred_spend_perc']\n",
    "    del VS_df['pred_spend_bins']\n",
    "    \n",
    "    return(VS_df)\n",
    "\n",
    "    "
   ]
  },
  {
   "cell_type": "code",
   "execution_count": null,
   "metadata": {
    "ExecuteTime": {
     "start_time": "2019-03-08T13:32:28.579Z"
    },
    "code_folding": []
   },
   "outputs": [],
   "source": [
    "global model_results_list\n",
    "    \n",
    "model_results_list = list()\n",
    " \n",
    "\n",
    "def minimizationfunc(params):\n",
    "    \n",
    "    \n",
    "       \n",
    "    params = params\n",
    "    \n",
    "    parameters = {'a':params[0], \"alpha\" : params[1], 'b' :params[2], 'r':params[3]}\n",
    "\n",
    "    \n",
    "    \n",
    "    test_df_scored = scoring_BG(sampled_cumulative_DF, parameters, 104)\n",
    "\n",
    "    \n",
    "    test_df_scored['pred_spend_bins'] = np.digitize(test_df_scored.BG_pred_spend, bin_separators, right=False)\n",
    "\n",
    "    test_df_scored['custora_bins'] = test_df_scored['pred_spend_bins'].replace(bins_dict)\n",
    "\n",
    "    \n",
    "    #compare the bins for the customers on the columns \n",
    "    scored = (1 - sklearn.metrics.accuracy_score(test_df_scored.group, test_df_scored.custora_bins))\n",
    "    print(\"This is your (1- accuracy score) {}\".format(scored))\n",
    "    scored = float(scored)\n",
    "    \n",
    "    model_results_list.append([parameters, scored])\n",
    "\n",
    "    return(scored)\n",
    "    \n",
    "    \n"
   ]
  },
  {
   "cell_type": "code",
   "execution_count": null,
   "metadata": {
    "ExecuteTime": {
     "start_time": "2019-03-08T13:32:30.054Z"
    }
   },
   "outputs": [],
   "source": [
    "\n",
    "#create a list of pairwise dates to pass onto a SQL query that requires a specific format - ['2016/11/01', '2017/11/01']\n",
    "#\n",
    "def query_date(start_date, end_date, interval_months):\n",
    "\n",
    "\n",
    "\n",
    "    date_list = []\n",
    "\n",
    "    start_date = datetime.datetime.strptime(start_date, '%m/%d/%Y')\n",
    "    end_date = datetime.datetime.strptime(end_date, '%m/%d/%Y')\n",
    "\n",
    "\n",
    "    start_date = datetime.date(start_date.year, start_date.month, start_date.day)\n",
    "    end_Date = datetime.date(end_date.year, end_date.month, end_date.day)\n",
    "\n",
    "    current = start_date\n",
    "    lag_month = start_date\n",
    "    while lag_month < end_Date:\n",
    "        current = lag_month\n",
    "        current += relativedelta(months=interval_months)\n",
    "        date_list.append([(lag_month).strftime('%Y/%m/%d'), (current).strftime('%Y/%m/%d')])\n",
    "        lag_month += relativedelta(months=1)\n",
    "\n",
    "\n",
    "    return(date_list)"
   ]
  },
  {
   "cell_type": "markdown",
   "metadata": {},
   "source": [
    "# Bring In Our Data"
   ]
  },
  {
   "cell_type": "markdown",
   "metadata": {},
   "source": [
    "## Bring in VS Transaction date summarized output -recency, frequency, age and total monetary value "
   ]
  },
  {
   "cell_type": "code",
   "execution_count": null,
   "metadata": {
    "ExecuteTime": {
     "end_time": "2019-01-10T15:32:28.209875Z",
     "start_time": "2019-01-10T15:32:28.204623Z"
    }
   },
   "outputs": [],
   "source": [
    "date_list= [['2018/01/01', '2018/12/31']]"
   ]
  },
  {
   "cell_type": "code",
   "execution_count": null,
   "metadata": {
    "ExecuteTime": {
     "end_time": "2019-01-10T15:32:28.542143Z",
     "start_time": "2019-01-10T15:32:28.532111Z"
    }
   },
   "outputs": [],
   "source": [
    "date_list"
   ]
  },
  {
   "cell_type": "code",
   "execution_count": null,
   "metadata": {
    "ExecuteTime": {
     "end_time": "2019-01-10T15:39:50.974264Z",
     "start_time": "2019-01-10T15:32:29.555357Z"
    },
    "scrolled": true
   },
   "outputs": [],
   "source": [
    "#create a dataframe with all our sql queries appended together with their data\n",
    "\n",
    "#date_list = query_date('11/1/2017', '2/1/2019', 1 )\n",
    "\n",
    "cumulative_DF = pd.DataFrame()\n",
    "\n",
    "for i,j in date_list:\n",
    "    temp_DF = SQL_Query(i,j, 'Dhananjay.Kumar','password1!')\n",
    "    cumulative_DF = cumulative_DF.append(temp_DF)\n",
    "    del temp_DF\n",
    "\n",
    "    \n",
    "#Print information that validates our query - find the first and last transaction for the new dataframe \n",
    "\n",
    "print(\"we have data from {} to {}.\".format(cumulative_DF.FirstOrderDate.min(), cumulative_DF.LastOrderDate.max()))"
   ]
  },
  {
   "cell_type": "code",
   "execution_count": null,
   "metadata": {
    "ExecuteTime": {
     "start_time": "2019-03-08T13:32:54.364Z"
    }
   },
   "outputs": [],
   "source": [
    "help(pd.Dataframe)"
   ]
  },
  {
   "cell_type": "code",
   "execution_count": null,
   "metadata": {},
   "outputs": [],
   "source": [
    "/Users/sanjaygopinath/Documents/Data/Churn_Analysis/2018_01_01_2019_02_28.csv"
   ]
  },
  {
   "cell_type": "code",
   "execution_count": null,
   "metadata": {
    "ExecuteTime": {
     "end_time": "2019-01-10T16:06:53.852771Z",
     "start_time": "2019-01-10T15:53:39.203112Z"
    },
    "scrolled": true
   },
   "outputs": [],
   "source": [
    "#scoring the whole population \n",
    "\n",
    "scoredCustomer = scoring_BG(cumulative_DF, parameters, 52) "
   ]
  },
  {
   "cell_type": "code",
   "execution_count": null,
   "metadata": {
    "ExecuteTime": {
     "end_time": "2019-01-10T16:08:42.635612Z",
     "start_time": "2019-01-10T16:06:53.854662Z"
    }
   },
   "outputs": [],
   "source": [
    "scoredCustomer.to_csv('/Users/sanjaygopinath/Documents/Data/Email_Holdout_Analysis/2018_CLV_Scored.csv')"
   ]
  },
  {
   "cell_type": "code",
   "execution_count": null,
   "metadata": {
    "ExecuteTime": {
     "end_time": "2018-12-10T16:02:23.448615Z",
     "start_time": "2018-12-10T16:02:23.430590Z"
    },
    "scrolled": true
   },
   "outputs": [],
   "source": [
    "cumulative_DF['total_amount'].sum()"
   ]
  },
  {
   "cell_type": "code",
   "execution_count": null,
   "metadata": {
    "ExecuteTime": {
     "end_time": "2018-12-05T22:10:10.685729Z",
     "start_time": "2018-12-05T22:09:23.769451Z"
    }
   },
   "outputs": [],
   "source": [
    "cumulative_DF.to_csv('Q2_Sales.csv')"
   ]
  },
  {
   "cell_type": "code",
   "execution_count": null,
   "metadata": {
    "ExecuteTime": {
     "end_time": "2018-12-05T22:09:15.665800Z",
     "start_time": "2018-12-05T22:09:15.602278Z"
    }
   },
   "outputs": [],
   "source": [
    "cumulative_DF.total_amount.sum()"
   ]
  },
  {
   "cell_type": "code",
   "execution_count": null,
   "metadata": {
    "ExecuteTime": {
     "end_time": "2018-11-07T16:41:55.399215Z",
     "start_time": "2018-11-07T16:41:55.375534Z"
    }
   },
   "outputs": [],
   "source": [
    "cumulative_DF[cumulative_DF.total_amount == 700]"
   ]
  },
  {
   "cell_type": "code",
   "execution_count": null,
   "metadata": {
    "ExecuteTime": {
     "end_time": "2018-12-05T18:41:19.514452Z",
     "start_time": "2018-12-05T18:41:19.284986Z"
    }
   },
   "outputs": [],
   "source": [
    "#Applying new loyalty tiers on customer spend so that we can categorize everyone \n",
    "# See here for the logic \n",
    "# In the calendar year you are either \n",
    "# bronze 0-$200\n",
    "# silver $200-$700\n",
    "#gold $700+\n",
    "\n",
    "cumulative_DF['loyalty_tiers'] = pd.cut(cumulative_DF.total_amount, [0, 200, 700, np.inf], labels=['bronze','silver','gold'])"
   ]
  },
  {
   "cell_type": "code",
   "execution_count": null,
   "metadata": {
    "ExecuteTime": {
     "end_time": "2018-11-07T16:47:33.294561Z",
     "start_time": "2018-11-07T16:47:18.683292Z"
    }
   },
   "outputs": [],
   "source": [
    "#Optionally, save the dataframe so that we can double check the results later \n",
    "\n",
    "cumulative_DF[['customerno', 'customer_id', 'total_amount', 'loyalty_tiers']].to_csv(r'/Users/sanjaygopinath/Documents/Data/Responsys/2017_Loyalty_tiers.csv', index=None)"
   ]
  },
  {
   "cell_type": "code",
   "execution_count": null,
   "metadata": {
    "ExecuteTime": {
     "end_time": "2018-11-07T16:46:29.163566Z",
     "start_time": "2018-11-07T16:46:28.914267Z"
    }
   },
   "outputs": [],
   "source": [
    "cumulative_DF.sample(10)"
   ]
  },
  {
   "cell_type": "code",
   "execution_count": null,
   "metadata": {
    "ExecuteTime": {
     "end_time": "2018-07-17T17:03:26.128006Z",
     "start_time": "2018-07-17T17:03:24.798207Z"
    }
   },
   "outputs": [],
   "source": [
    "#Let's remove anyone who has negative or zero value for the amount they spent \n",
    "\n",
    "cumulative_DF = cumulative_DF[cumulative_DF.AmountPerWeek > 0]\n"
   ]
  },
  {
   "cell_type": "markdown",
   "metadata": {},
   "source": [
    "## Bring in Custora data"
   ]
  },
  {
   "cell_type": "code",
   "execution_count": null,
   "metadata": {
    "ExecuteTime": {
     "end_time": "2018-03-27T16:46:17.979924Z",
     "start_time": "2018-03-27T16:45:59.128077Z"
    }
   },
   "outputs": [],
   "source": [
    "#import all our custora files from a specific file and then append the file name\n",
    "\n",
    "#this is for spending predictions\n",
    "\n",
    "\n",
    "path = r'/Users/sanjaygopinath/Documents/Data/CLV/Custora_Data/Machine_Learning/Spend/Jan_18' # use your path\n",
    "all_files = glob.glob(os.path.join(path, \"*.csv\"))  \n",
    "\n",
    "data = []\n",
    "\n",
    "for csv in all_files:\n",
    "    frame = pd.read_csv(csv)\n",
    "    frame['filename'] = os.path.basename(csv)\n",
    "    data.append(frame)\n",
    "\n",
    "bigframe = pd.concat(data, ignore_index=True)\n",
    "\n",
    "if 'Treatment Name' in bigframe.columns:\n",
    "    del bigframe['Treatment Name']\n",
    "    \n",
    "#this creates a new column with the custora group portion of the file name. It has to be of the following format to \n",
    "# work (this is the format which is automatically downloaded from the custora app/website) - SG_Bronze_users_2018_01_09.csv\n",
    "bigframe['group'] = bigframe['filename'].apply(lambda x: x.partition('_')[-1].partition('_')[0].lower())"
   ]
  },
  {
   "cell_type": "code",
   "execution_count": null,
   "metadata": {
    "ExecuteTime": {
     "end_time": "2018-03-27T16:46:19.792158Z",
     "start_time": "2018-03-27T16:46:17.982197Z"
    }
   },
   "outputs": [],
   "source": [
    "bigframe.group.value_counts()"
   ]
  },
  {
   "cell_type": "markdown",
   "metadata": {},
   "source": [
    "# Score our population"
   ]
  },
  {
   "cell_type": "code",
   "execution_count": 14,
   "metadata": {
    "ExecuteTime": {
     "end_time": "2019-03-08T13:38:16.864293Z",
     "start_time": "2019-03-08T13:38:16.858396Z"
    }
   },
   "outputs": [],
   "source": [
    "#manually input our parameters\n",
    "\n",
    "                \n",
    "#It took 3.3765572985013326 minutes to score 888193 customers with the following parameters \n",
    "#parameters = {'a': 0.06075756, 'alpha': 6.2382612304687521, 'b': 0.70402410888671718, 'r': 2.8112931823730491}\n",
    "#This is your (1- accuracy score) 0.6128161334304594\n",
    "\n",
    "#fourth iteration with 296064 customers\n",
    "#parameters = {'a': 0.025867786259379202, 'alpha': 9.8203401747296937, 'b': 1.5017444877131725, 'r': 1.293332834267968}\n",
    "#This is your (1- accuracy score) 0.46638902399481197\n",
    "\n",
    "#third iteration with 100k sample size \n",
    "#parameters = {'a': 0.047582270378977554, 'alpha': 9.7527545777315225, 'b': 1.2970538830503067, 'r': 0.97965271560800504}\n",
    "#This is your (1- accuracy score) 0.47375\n",
    "\n",
    "#second iteration with 100k sample size \n",
    "#parameters = {'a': 0.060757568359,  'alpha': 6.2382612304687521, 'b': 0.70402410888671718, 'r': 2.8112931823730491}             \n",
    "\n",
    "#first iteration with 10k sample size\n",
    "#parameters = {'a':.060965087890624825, \"alpha\" : 7.2610668945312398, 'b' :0.75478155517578061, 'r':2.7994494934082095}\n",
    "\n",
    "#iteration with sample size of 5507770\n",
    "#parameters = {'a': 0.031435172173152087,'alpha': 6.0207392676930009,'b': 3.560652837671328,'r': 0.76827969369016613}\n",
    "#This is your (1- accuracy score) 0.473750.3624563117196252\n",
    "#parameters = {'a': 0.0314,'alpha': 6.021,'b': 3.56,'r': 0.768}\n",
    "\n",
    "#old\n",
    "parameters = {'a':.34, \"alpha\" : 5.44, 'b' :.52, 'r':2.66}\n",
    "\n",
    "#create a list of our parameters so they can be referenced in our optimization function (it needs to be an array\n",
    "# not a dictionary)\n",
    "\n",
    "params = [(v) for k,v in parameters.items()]\n"
   ]
  },
  {
   "cell_type": "code",
   "execution_count": null,
   "metadata": {
    "ExecuteTime": {
     "end_time": "2019-02-05T15:44:14.189616Z",
     "start_time": "2019-02-05T15:44:01.581752Z"
    }
   },
   "outputs": [],
   "source": [
    "path =r'/Users/sanjaygopinath/Documents/Churn_DM/' # use your path\n",
    "allFiles = glob.glob(os.path.join(path, \"*.csv\"))\n",
    "frame = pd.DataFrame()\n",
    "list_ = []\n",
    "for file_ in allFiles:\n",
    "    tempDF = pd.read_csv(file_, header=0)\n",
    "    #tempDF.rename(columns={'customer_id':'CUSTOMER_ID'}, inplace=True)\n",
    "    #tempDF = tempDF[['CUSTOMER_ID', 'order_count', 'total_amount', 'period']]\n",
    "    #tempDF = tempDF[tempDF['CUSTOMER_ID'].isin(customerList)]                 \n",
    "    \n",
    "    list_.append(tempDF)\n",
    "\n",
    "\n",
    "frame = pd.concat(list_)\n",
    "frame = frame[frame['period']!='2016-11-01']\n",
    "\n",
    "#del frame['Unnamed: 0']"
   ]
  },
  {
   "cell_type": "code",
   "execution_count": null,
   "metadata": {},
   "outputs": [],
   "source": []
  },
  {
   "cell_type": "code",
   "execution_count": 15,
   "metadata": {
    "ExecuteTime": {
     "end_time": "2019-03-08T13:38:22.254721Z",
     "start_time": "2019-03-08T13:38:21.970445Z"
    }
   },
   "outputs": [],
   "source": [
    "frame['AmountPerWeek'] = frame.total_amount/frame.frequency"
   ]
  },
  {
   "cell_type": "code",
   "execution_count": null,
   "metadata": {
    "ExecuteTime": {
     "end_time": "2018-10-31T17:14:26.619344Z",
     "start_time": "2018-10-31T17:14:16.283318Z"
    },
    "scrolled": true
   },
   "outputs": [],
   "source": [
    "scoredCustomerDF = pd.read_csv(r'/Users/sanjaygopinath/Documents/Data/BlackFriday_Analysis/summary2016-11-01.csv', header=0)\n",
    "del scoredCustomerDF['Unnamed: 0']\n",
    "scoredCustomerDF['frequency'] = scoredCustomerDF['frequency'].map({0: 1})\n",
    "scoredCustomerDF['AmountPerWeek'] = scoredCustomerDF.total_amount/scoredCustomerDF.frequency\n",
    "scoredCustomerDF = scoredCustomerDF[scoredCustomerDF.total_amount>0]"
   ]
  },
  {
   "cell_type": "code",
   "execution_count": null,
   "metadata": {
    "ExecuteTime": {
     "end_time": "2018-11-02T17:12:22.503705Z",
     "start_time": "2018-11-02T17:12:21.816660Z"
    }
   },
   "outputs": [],
   "source": [
    "scoredCustomerDF"
   ]
  },
  {
   "cell_type": "code",
   "execution_count": null,
   "metadata": {
    "ExecuteTime": {
     "end_time": "2019-02-05T16:18:40.867599Z",
     "start_time": "2019-02-05T16:18:40.834855Z"
    },
    "scrolled": true
   },
   "outputs": [],
   "source": [
    "frame"
   ]
  },
  {
   "cell_type": "code",
   "execution_count": 16,
   "metadata": {
    "ExecuteTime": {
     "end_time": "2019-03-08T13:55:46.897789Z",
     "start_time": "2019-03-08T13:38:27.620482Z"
    }
   },
   "outputs": [
    {
     "name": "stdout",
     "output_type": "stream",
     "text": [
      "0.34 5.44 0.52 2.66\n"
     ]
    },
    {
     "name": "stderr",
     "output_type": "stream",
     "text": [
      "/Users/sanjaygopinath/Documents/Work_Space/Python/CLV/clv_scoring_functions.py:159: RuntimeWarning: invalid value encountered in log\n",
      "  ln_hyp_term = np.log(hyp2f1(_a, _b, _c, _z))\n",
      "/Users/sanjaygopinath/Documents/Work_Space/Python/CLV/clv_scoring_functions.py:167: RuntimeWarning: invalid value encountered in log\n",
      "  ln_hyp_term_alt = np.log(hyp2f1(_c - _a, _c - _b, _c, _z)) + (_c - _a - _b) * np.log(1 - _z)\n"
     ]
    },
    {
     "name": "stdout",
     "output_type": "stream",
     "text": [
      "It took 17.32123573621114 minutes to score 6827363 customers with the following parameters \n",
      " {'a': 0.34, 'alpha': 5.44, 'b': 0.52, 'r': 2.66}\n"
     ]
    }
   ],
   "source": [
    "#scoring the whole population \n",
    "\n",
    "scoredCustomer = scoring_BG(frame, parameters, 52) "
   ]
  },
  {
   "cell_type": "code",
   "execution_count": null,
   "metadata": {},
   "outputs": [],
   "source": [
    "2018_01_01_2019_02_28.csv"
   ]
  },
  {
   "cell_type": "code",
   "execution_count": 40,
   "metadata": {
    "ExecuteTime": {
     "end_time": "2019-03-08T14:08:45.419068Z",
     "start_time": "2019-03-08T14:07:33.224542Z"
    }
   },
   "outputs": [],
   "source": [
    "scoredCustomer.to_csv(r'/Users/sanjaygopinath/Documents/Data/Churn_DM/March/scored_customers_2018_01_01_2019_02_28.csv')"
   ]
  },
  {
   "cell_type": "code",
   "execution_count": 19,
   "metadata": {
    "ExecuteTime": {
     "end_time": "2019-03-08T13:58:22.085969Z",
     "start_time": "2019-03-08T13:58:22.070426Z"
    }
   },
   "outputs": [
    {
     "data": {
      "text/html": [
       "<div>\n",
       "<style scoped>\n",
       "    .dataframe tbody tr th:only-of-type {\n",
       "        vertical-align: middle;\n",
       "    }\n",
       "\n",
       "    .dataframe tbody tr th {\n",
       "        vertical-align: top;\n",
       "    }\n",
       "\n",
       "    .dataframe thead th {\n",
       "        text-align: right;\n",
       "    }\n",
       "</style>\n",
       "<table border=\"1\" class=\"dataframe\">\n",
       "  <thead>\n",
       "    <tr style=\"text-align: right;\">\n",
       "      <th></th>\n",
       "      <th>customer_id</th>\n",
       "      <th>RFM</th>\n",
       "      <th>recency</th>\n",
       "      <th>frequency</th>\n",
       "      <th>T</th>\n",
       "      <th>order_count</th>\n",
       "      <th>total_amount</th>\n",
       "      <th>FirstOrderDate</th>\n",
       "      <th>LastOrderDate</th>\n",
       "      <th>period</th>\n",
       "      <th>AmountPerWeek</th>\n",
       "      <th>BG_cond_purch_12</th>\n",
       "      <th>BG_prob_alive</th>\n",
       "      <th>BG_pred_spend</th>\n",
       "    </tr>\n",
       "  </thead>\n",
       "  <tbody>\n",
       "    <tr>\n",
       "      <th>0</th>\n",
       "      <td>113610147855738448</td>\n",
       "      <td>202.00</td>\n",
       "      <td>2</td>\n",
       "      <td>1</td>\n",
       "      <td>33</td>\n",
       "      <td>2</td>\n",
       "      <td>20000.00</td>\n",
       "      <td>2018-07-17</td>\n",
       "      <td>2018-07-30</td>\n",
       "      <td>2018_01_01_2019_02_28</td>\n",
       "      <td>20000.000</td>\n",
       "      <td>0.013350</td>\n",
       "      <td>0.003737</td>\n",
       "      <td>267.008865</td>\n",
       "    </tr>\n",
       "    <tr>\n",
       "      <th>1</th>\n",
       "      <td>804070975</td>\n",
       "      <td>116.83</td>\n",
       "      <td>14</td>\n",
       "      <td>5</td>\n",
       "      <td>32</td>\n",
       "      <td>469</td>\n",
       "      <td>51416.44</td>\n",
       "      <td>2018-07-25</td>\n",
       "      <td>2018-11-02</td>\n",
       "      <td>2018_01_01_2019_02_28</td>\n",
       "      <td>10283.288</td>\n",
       "      <td>0.687936</td>\n",
       "      <td>0.080684</td>\n",
       "      <td>7074.242030</td>\n",
       "    </tr>\n",
       "    <tr>\n",
       "      <th>2</th>\n",
       "      <td>25200300512</td>\n",
       "      <td>94.62</td>\n",
       "      <td>2</td>\n",
       "      <td>1</td>\n",
       "      <td>13</td>\n",
       "      <td>9</td>\n",
       "      <td>9262.08</td>\n",
       "      <td>2018-12-07</td>\n",
       "      <td>2018-12-20</td>\n",
       "      <td>2018_01_01_2019_02_28</td>\n",
       "      <td>9262.080</td>\n",
       "      <td>0.329907</td>\n",
       "      <td>0.052296</td>\n",
       "      <td>3055.626735</td>\n",
       "    </tr>\n",
       "    <tr>\n",
       "      <th>3</th>\n",
       "      <td>9900560504</td>\n",
       "      <td>92.27</td>\n",
       "      <td>56</td>\n",
       "      <td>16</td>\n",
       "      <td>61</td>\n",
       "      <td>35</td>\n",
       "      <td>56426.00</td>\n",
       "      <td>2018-01-03</td>\n",
       "      <td>2019-01-30</td>\n",
       "      <td>2018_01_01_2019_02_28</td>\n",
       "      <td>3526.625</td>\n",
       "      <td>11.833374</td>\n",
       "      <td>0.913806</td>\n",
       "      <td>41731.873043</td>\n",
       "    </tr>\n",
       "    <tr>\n",
       "      <th>4</th>\n",
       "      <td>9907212197</td>\n",
       "      <td>80.43</td>\n",
       "      <td>42</td>\n",
       "      <td>5</td>\n",
       "      <td>54</td>\n",
       "      <td>11</td>\n",
       "      <td>19216.66</td>\n",
       "      <td>2018-02-21</td>\n",
       "      <td>2018-12-09</td>\n",
       "      <td>2018_01_01_2019_02_28</td>\n",
       "      <td>3843.332</td>\n",
       "      <td>4.016989</td>\n",
       "      <td>0.702656</td>\n",
       "      <td>15438.622226</td>\n",
       "    </tr>\n",
       "  </tbody>\n",
       "</table>\n",
       "</div>"
      ],
      "text/plain": [
       "          customer_id     RFM  recency  frequency   T  order_count  \\\n",
       "0  113610147855738448  202.00        2          1  33            2   \n",
       "1           804070975  116.83       14          5  32          469   \n",
       "2         25200300512   94.62        2          1  13            9   \n",
       "3          9900560504   92.27       56         16  61           35   \n",
       "4          9907212197   80.43       42          5  54           11   \n",
       "\n",
       "   total_amount FirstOrderDate LastOrderDate                 period  \\\n",
       "0      20000.00     2018-07-17    2018-07-30  2018_01_01_2019_02_28   \n",
       "1      51416.44     2018-07-25    2018-11-02  2018_01_01_2019_02_28   \n",
       "2       9262.08     2018-12-07    2018-12-20  2018_01_01_2019_02_28   \n",
       "3      56426.00     2018-01-03    2019-01-30  2018_01_01_2019_02_28   \n",
       "4      19216.66     2018-02-21    2018-12-09  2018_01_01_2019_02_28   \n",
       "\n",
       "   AmountPerWeek  BG_cond_purch_12  BG_prob_alive  BG_pred_spend  \n",
       "0      20000.000          0.013350       0.003737     267.008865  \n",
       "1      10283.288          0.687936       0.080684    7074.242030  \n",
       "2       9262.080          0.329907       0.052296    3055.626735  \n",
       "3       3526.625         11.833374       0.913806   41731.873043  \n",
       "4       3843.332          4.016989       0.702656   15438.622226  "
      ]
     },
     "execution_count": 19,
     "metadata": {},
     "output_type": "execute_result"
    }
   ],
   "source": [
    "scoredCustomer.head()"
   ]
  },
  {
   "cell_type": "code",
   "execution_count": null,
   "metadata": {},
   "outputs": [],
   "source": []
  },
  {
   "cell_type": "code",
   "execution_count": null,
   "metadata": {
    "ExecuteTime": {
     "end_time": "2018-10-31T17:13:32.719164Z",
     "start_time": "2018-10-31T17:13:32.229739Z"
    }
   },
   "outputs": [],
   "source": [
    "scoredCustomerDF['LastOrderDate'].max()"
   ]
  },
  {
   "cell_type": "code",
   "execution_count": null,
   "metadata": {
    "ExecuteTime": {
     "end_time": "2018-11-01T19:57:25.304131Z",
     "start_time": "2018-11-01T19:57:24.863192Z"
    },
    "scrolled": true
   },
   "outputs": [],
   "source": [
    "scoredCustomer['custora_bins'].value_counts()"
   ]
  },
  {
   "cell_type": "code",
   "execution_count": null,
   "metadata": {},
   "outputs": [],
   "source": [
    "low         1801839\n",
    "medium       900919\n",
    "bronze       540552\n",
    "silver       180184\n",
    "gold         144147\n",
    "platinum      36037"
   ]
  },
  {
   "cell_type": "code",
   "execution_count": null,
   "metadata": {
    "ExecuteTime": {
     "end_time": "2018-10-31T17:34:36.026030Z",
     "start_time": "2018-10-31T17:34:35.983555Z"
    }
   },
   "outputs": [],
   "source": [
    "scoredCustomer['']"
   ]
  },
  {
   "cell_type": "code",
   "execution_count": null,
   "metadata": {
    "ExecuteTime": {
     "end_time": "2018-11-02T17:21:50.602077Z",
     "start_time": "2018-11-02T17:21:38.584614Z"
    },
    "scrolled": true
   },
   "outputs": [],
   "source": [
    "frame = frame.merge(scoredCustomer[['customer_id', 'custora_bins']], how='left', on='customer_id')"
   ]
  },
  {
   "cell_type": "code",
   "execution_count": null,
   "metadata": {
    "ExecuteTime": {
     "end_time": "2018-11-02T17:21:54.575425Z",
     "start_time": "2018-11-02T17:21:50.604084Z"
    }
   },
   "outputs": [],
   "source": [
    "subFrame = frame[~frame['custora_bins'].isna()]"
   ]
  },
  {
   "cell_type": "code",
   "execution_count": null,
   "metadata": {
    "ExecuteTime": {
     "end_time": "2018-11-02T17:21:55.051635Z",
     "start_time": "2018-11-02T17:21:54.577600Z"
    },
    "scrolled": true
   },
   "outputs": [],
   "source": [
    "subFrame['period'].value_counts()`"
   ]
  },
  {
   "cell_type": "code",
   "execution_count": null,
   "metadata": {
    "ExecuteTime": {
     "end_time": "2018-11-02T17:23:15.810198Z",
     "start_time": "2018-11-02T17:23:14.799665Z"
    }
   },
   "outputs": [],
   "source": [
    "subFrame = frame[frame['custora_bins']!=7]"
   ]
  },
  {
   "cell_type": "code",
   "execution_count": null,
   "metadata": {
    "ExecuteTime": {
     "end_time": "2018-11-02T17:23:18.668633Z",
     "start_time": "2018-11-02T17:23:17.212767Z"
    }
   },
   "outputs": [],
   "source": [
    "subFrame['custora_bins'].groupby(subFrame['period']).value_counts().to_frame().to_csv('black_friday_results_2.csv')"
   ]
  },
  {
   "cell_type": "code",
   "execution_count": null,
   "metadata": {
    "ExecuteTime": {
     "end_time": "2018-11-02T17:12:49.177749Z",
     "start_time": "2018-11-02T17:12:48.701445Z"
    }
   },
   "outputs": [],
   "source": [
    "subFrame.period.value_counts()"
   ]
  },
  {
   "cell_type": "code",
   "execution_count": null,
   "metadata": {
    "ExecuteTime": {
     "end_time": "2018-10-31T15:37:38.665306Z",
     "start_time": "2018-10-31T15:37:38.412811Z"
    }
   },
   "outputs": [],
   "source": [
    "scoredCustomer['BG_pred_spend'].groupby(scoredCustomer['custora_bins']).mean()"
   ]
  },
  {
   "cell_type": "code",
   "execution_count": null,
   "metadata": {},
   "outputs": [],
   "source": [
    "datetime.strptime('Jun 1 2005  1:33PM', '%b %d %Y %I:%M%p')"
   ]
  },
  {
   "cell_type": "code",
   "execution_count": null,
   "metadata": {
    "ExecuteTime": {
     "end_time": "2018-10-31T17:29:44.771103Z",
     "start_time": "2018-10-31T17:29:43.566355Z"
    }
   },
   "outputs": [],
   "source": [
    "((pd.to_datetime('2017-11-01')-pd.to_datetime(scoredCustomer['LastOrderDate'])))/time"
   ]
  },
  {
   "cell_type": "code",
   "execution_count": null,
   "metadata": {
    "ExecuteTime": {
     "end_time": "2018-10-31T17:10:30.317419Z",
     "start_time": "2018-10-31T17:10:30.311391Z"
    }
   },
   "outputs": [],
   "source": [
    "scoredCustomer['LastOrderDate']"
   ]
  },
  {
   "cell_type": "code",
   "execution_count": null,
   "metadata": {
    "ExecuteTime": {
     "end_time": "2018-10-31T17:06:27.359143Z",
     "start_time": "2018-10-31T17:06:27.339882Z"
    }
   },
   "outputs": [],
   "source": [
    "scoredCustomer['period'].astype('datetime') - scoredCustomer['LastOrderDate'].astype('datetime')"
   ]
  },
  {
   "cell_type": "code",
   "execution_count": null,
   "metadata": {
    "ExecuteTime": {
     "end_time": "2018-10-31T17:32:19.152861Z",
     "start_time": "2018-10-31T17:32:18.661533Z"
    }
   },
   "outputs": [],
   "source": [
    "scoredCustomer[scoredCustomer['BG_pred_spend'].isna()]"
   ]
  },
  {
   "cell_type": "code",
   "execution_count": null,
   "metadata": {
    "ExecuteTime": {
     "end_time": "2018-10-31T15:36:28.106468Z",
     "start_time": "2018-10-31T15:36:24.139006Z"
    },
    "scrolled": true
   },
   "outputs": [],
   "source": [
    "custora_group_scoring(scoredCustomer, 'BG_pred_spend')"
   ]
  },
  {
   "cell_type": "markdown",
   "metadata": {
    "ExecuteTime": {
     "end_time": "2018-10-31T15:26:53.443221Z",
     "start_time": "2018-10-31T15:26:51.229701Z"
    }
   },
   "source": [
    "bins = np.array(range(0,10,1))/10\n",
    "scoredCustomer['pred_spend_rank'] = scoredCustomer['BG_pred_spend'].rank()\n",
    "scoredCustomer['pred_spend_perc'] = scoredCustomer['BG_pred_spend'].rank(pct=True)\n",
    "\n",
    "\n",
    "#use this on the fully scored data set and then use it for bins on the samples \n",
    "scoredCustomer['pred_spend_bins'] = np.digitize(scoredCustomer.pred_spend_perc, bins, right=True)\n",
    "#we reset the top and bottom of the bins so that they encompass all values (think about the percentiles, it is \n",
    "# easier to do this than to hope that there aren't any rounding issues)\n",
    "#bin_separators[0]= 0\n"
   ]
  },
  {
   "cell_type": "code",
   "execution_count": null,
   "metadata": {
    "ExecuteTime": {
     "end_time": "2018-03-29T16:49:45.950135Z",
     "start_time": "2018-03-29T16:49:38.506468Z"
    }
   },
   "outputs": [],
   "source": [
    "# Bin our data based on Custora's groupings\n",
    "\n",
    "cumulative_DF = custora_group_scoring(cumulative_DF, 'BG_pred_spend')"
   ]
  },
  {
   "cell_type": "code",
   "execution_count": null,
   "metadata": {
    "ExecuteTime": {
     "end_time": "2018-03-29T16:53:09.643088Z",
     "start_time": "2018-03-29T16:49:45.951984Z"
    }
   },
   "outputs": [],
   "source": [
    "#set the indices as your common shared customer id ('User ID'/'customerno'/'customer_ID')\n",
    "\n",
    "#cumulative_DF['customerno'] = cumulative_DF['customerno'].astype(str)\n",
    "#bigframe['User ID'] = bigframe['User ID'].astype(str)\n",
    "\n",
    "\n",
    "#cumulative_DF.set_index(cumulative_DF['customerno'], inplace=True)\n",
    "\n",
    "#bigframe.set_index(bigframe['User ID'], inplace=True)\n",
    "\n",
    "\n",
    "#join the custora dataframe and our scored df  \n",
    "comparison_frame = cumulative_DF.join(bigframe, how='inner')\n",
    "\n",
    "#compare the bins for the customers on the bins \n",
    "sklearn.metrics.accuracy_score(comparison_frame.custora_bins, comparison_frame.group)"
   ]
  },
  {
   "cell_type": "code",
   "execution_count": null,
   "metadata": {
    "ExecuteTime": {
     "end_time": "2018-03-29T19:45:32.977617Z",
     "start_time": "2018-03-29T19:44:56.486622Z"
    }
   },
   "outputs": [],
   "source": [
    "sklearn.metrics.accuracy_score(comparison_frame.custora_bins, comparison_frame.group)"
   ]
  },
  {
   "cell_type": "code",
   "execution_count": null,
   "metadata": {
    "ExecuteTime": {
     "end_time": "2018-03-29T19:57:54.499009Z",
     "start_time": "2018-03-29T19:57:53.260525Z"
    }
   },
   "outputs": [],
   "source": [
    "bigframe.group.unique()"
   ]
  },
  {
   "cell_type": "code",
   "execution_count": null,
   "metadata": {
    "ExecuteTime": {
     "end_time": "2018-03-29T19:58:55.198783Z",
     "start_time": "2018-03-29T19:58:54.821028Z"
    }
   },
   "outputs": [],
   "source": [
    "top_10_custora = bigframe[bigframe['group'].isin(['platinum', 'silver', 'gold'])]"
   ]
  },
  {
   "cell_type": "code",
   "execution_count": null,
   "metadata": {
    "ExecuteTime": {
     "end_time": "2018-03-29T19:58:55.204559Z",
     "start_time": "2018-03-29T19:58:55.200412Z"
    }
   },
   "outputs": [],
   "source": [
    "top_10_custora.shape[0]/bigframe.shape[0]"
   ]
  },
  {
   "cell_type": "code",
   "execution_count": null,
   "metadata": {
    "ExecuteTime": {
     "end_time": "2018-03-29T20:11:19.346754Z",
     "start_time": "2018-03-29T20:11:19.342396Z"
    }
   },
   "outputs": [],
   "source": [
    "bigframe.shape[0]*.15"
   ]
  },
  {
   "cell_type": "code",
   "execution_count": null,
   "metadata": {
    "ExecuteTime": {
     "end_time": "2018-03-29T20:09:08.263115Z",
     "start_time": "2018-03-29T20:09:08.259271Z"
    }
   },
   "outputs": [],
   "source": [
    "1329453-1330816.5"
   ]
  },
  {
   "cell_type": "code",
   "execution_count": null,
   "metadata": {
    "ExecuteTime": {
     "end_time": "2018-03-29T20:01:07.383067Z",
     "start_time": "2018-03-29T20:01:07.339250Z"
    }
   },
   "outputs": [],
   "source": [
    "top_10_custora_list = list(top_10_custora.index)"
   ]
  },
  {
   "cell_type": "code",
   "execution_count": null,
   "metadata": {
    "ExecuteTime": {
     "end_time": "2018-03-29T20:08:38.826136Z",
     "start_time": "2018-03-29T20:08:38.822040Z"
    }
   },
   "outputs": [],
   "source": [
    "top_10_custora.shape"
   ]
  },
  {
   "cell_type": "code",
   "execution_count": null,
   "metadata": {
    "ExecuteTime": {
     "end_time": "2018-03-29T20:02:40.556736Z",
     "start_time": "2018-03-29T20:02:40.552782Z"
    }
   },
   "outputs": [],
   "source": [
    "len(top_10_custora_list)"
   ]
  },
  {
   "cell_type": "code",
   "execution_count": null,
   "metadata": {
    "ExecuteTime": {
     "end_time": "2018-03-29T20:11:38.249288Z",
     "start_time": "2018-03-29T20:11:32.175910Z"
    }
   },
   "outputs": [],
   "source": [
    "temp_DF = cumulative_DF.head(1996224)\n",
    "#VS_top_10_list = list(temp_DF.index)\n",
    "sum(temp_DF.index.isin(top_10_custora_list))/len(top_10_custora_list)"
   ]
  },
  {
   "cell_type": "code",
   "execution_count": null,
   "metadata": {
    "ExecuteTime": {
     "end_time": "2018-03-29T20:05:42.488191Z",
     "start_time": "2018-03-29T20:05:38.423947Z"
    }
   },
   "outputs": [],
   "source": [
    "sum(temp_DF.index.isin(top_10_custora_list))"
   ]
  },
  {
   "cell_type": "code",
   "execution_count": null,
   "metadata": {
    "ExecuteTime": {
     "end_time": "2018-03-29T20:05:50.543298Z",
     "start_time": "2018-03-29T20:05:50.539685Z"
    }
   },
   "outputs": [],
   "source": [
    "1130903/1329453"
   ]
  },
  {
   "cell_type": "code",
   "execution_count": null,
   "metadata": {
    "ExecuteTime": {
     "end_time": "2018-03-29T19:59:25.861111Z",
     "start_time": "2018-03-29T19:59:25.854145Z"
    }
   },
   "outputs": [],
   "source": [
    "cumulative_DF.columns"
   ]
  },
  {
   "cell_type": "code",
   "execution_count": null,
   "metadata": {
    "ExecuteTime": {
     "end_time": "2018-03-29T20:00:12.257920Z",
     "start_time": "2018-03-29T19:59:53.128581Z"
    }
   },
   "outputs": [],
   "source": [
    "cumulative_DF.sort_values('BG_pred_spend', ascending=False, inplace=True)"
   ]
  },
  {
   "cell_type": "code",
   "execution_count": null,
   "metadata": {
    "ExecuteTime": {
     "end_time": "2018-03-27T19:34:44.172423Z",
     "start_time": "2018-03-27T19:34:44.142426Z"
    }
   },
   "outputs": [],
   "source": [
    "comparison_frame.head()"
   ]
  },
  {
   "cell_type": "code",
   "execution_count": null,
   "metadata": {
    "ExecuteTime": {
     "end_time": "2018-03-27T20:48:06.435398Z",
     "start_time": "2018-03-27T20:48:02.817132Z"
    }
   },
   "outputs": [],
   "source": [
    "comparison_frame = comparison_frame[comparison_frame.frequency >1]"
   ]
  },
  {
   "cell_type": "code",
   "execution_count": null,
   "metadata": {
    "ExecuteTime": {
     "end_time": "2018-03-29T19:52:44.582240Z",
     "start_time": "2018-03-29T19:52:44.441006Z"
    }
   },
   "outputs": [],
   "source": [
    "comparison_frame.head()"
   ]
  },
  {
   "cell_type": "code",
   "execution_count": null,
   "metadata": {
    "ExecuteTime": {
     "end_time": "2018-03-29T19:54:01.617585Z",
     "start_time": "2018-03-29T19:54:01.612597Z"
    }
   },
   "outputs": [],
   "source": [
    "bigframe.columns"
   ]
  },
  {
   "cell_type": "code",
   "execution_count": null,
   "metadata": {},
   "outputs": [],
   "source": [
    "custora_top_10 = bigframe['customera']"
   ]
  },
  {
   "cell_type": "code",
   "execution_count": null,
   "metadata": {
    "ExecuteTime": {
     "end_time": "2018-03-27T18:20:55.242210Z",
     "start_time": "2018-03-27T18:20:54.081744Z"
    }
   },
   "outputs": [],
   "source": [
    "comparison_frame.custora_bins.value_counts()"
   ]
  },
  {
   "cell_type": "code",
   "execution_count": null,
   "metadata": {
    "ExecuteTime": {
     "end_time": "2018-03-27T18:21:03.658833Z",
     "start_time": "2018-03-27T18:20:59.131755Z"
    }
   },
   "outputs": [],
   "source": [
    "comparison_frame.group.value_counts()"
   ]
  },
  {
   "cell_type": "code",
   "execution_count": null,
   "metadata": {
    "ExecuteTime": {
     "end_time": "2018-03-28T21:18:08.002039Z",
     "start_time": "2018-03-28T21:14:26.413320Z"
    }
   },
   "outputs": [],
   "source": [
    "score_frame4 = accuracy_score(comparison_frame)"
   ]
  },
  {
   "cell_type": "code",
   "execution_count": null,
   "metadata": {
    "ExecuteTime": {
     "end_time": "2018-03-28T22:44:00.177530Z",
     "start_time": "2018-03-28T22:44:00.167420Z"
    }
   },
   "outputs": [],
   "source": [
    "score_frame4"
   ]
  },
  {
   "cell_type": "code",
   "execution_count": null,
   "metadata": {
    "ExecuteTime": {
     "end_time": "2018-03-27T21:17:27.439687Z",
     "start_time": "2018-03-27T21:17:27.430567Z"
    }
   },
   "outputs": [],
   "source": [
    "score_frame2"
   ]
  },
  {
   "cell_type": "code",
   "execution_count": null,
   "metadata": {
    "ExecuteTime": {
     "end_time": "2018-03-28T22:42:35.453023Z",
     "start_time": "2018-03-28T22:42:35.439971Z"
    }
   },
   "outputs": [],
   "source": [
    "score_frame"
   ]
  },
  {
   "cell_type": "code",
   "execution_count": null,
   "metadata": {
    "ExecuteTime": {
     "end_time": "2018-03-27T18:57:10.844572Z",
     "start_time": "2018-03-27T18:57:06.244772Z"
    }
   },
   "outputs": [],
   "source": [
    "comparison_frame['custora_bins'].groupby(comparison_frame['group']).value_counts().to_frame().to_csv('bins.csv')"
   ]
  },
  {
   "cell_type": "code",
   "execution_count": null,
   "metadata": {},
   "outputs": [],
   "source": [
    "sampled_cumulative_DF"
   ]
  },
  {
   "cell_type": "code",
   "execution_count": null,
   "metadata": {},
   "outputs": [],
   "source": [
    "#this establishes the size of our sample data frame which we use for our optimization function \n",
    "#Check the minimization function, it references our sampled_cumulative_DF\n",
    "\n",
    "sampled_cumulative_DF = comparison_frame.sample(frac=.5)\n",
    "sampled_cumulative_DF.shape"
   ]
  },
  {
   "cell_type": "code",
   "execution_count": null,
   "metadata": {},
   "outputs": [],
   "source": [
    "bins = np.array([0.0, 0.50, .75, .90, .95,.99,1.0001])\n",
    "bins_dict = {1:'low', 2:'medium', 3:'bronze', 4:'silver', 5:'gold', 6: 'platinum'}\n",
    "\n",
    "\n",
    "#use this on the fully scored data set and then use it for bins on the samples \n",
    "bin_separators = [(np.percentile(cumulative_DF.BG_pred_spend, int(x*100))) for x in bins]\n",
    "\n",
    "#we reset the top and bottom of the bins so that they encompass all values (think about the percentiles, it is \n",
    "# easier to do this than to hope that there aren't any rounding issues)\n",
    "bin_separators[0]= 0\n",
    "bin_separators[6] = cumulative_DF.BG_pred_spend.max()+1\n",
    "\n",
    "#use this if you are using a sample because otherwise the demarcation of bins, in absolute $ value, won't make sense \n",
    "#VS_df['pred_spend_bins'] = np.digitize(VS_df.pred_spend_perc, bins, right=False)\n",
    "\n",
    "#the above changes to this - \n",
    "#VS_df['pred_spend_bins'] = np.digitize(VS_df.BG_cond_purch_12, bins, right=False)\n",
    "\n"
   ]
  },
  {
   "cell_type": "code",
   "execution_count": null,
   "metadata": {},
   "outputs": [],
   "source": [
    "#run our minimization function\n",
    "\n",
    "res = minimize(minimizationfunc, params, method='Nelder-Mead')"
   ]
  },
  {
   "cell_type": "code",
   "execution_count": null,
   "metadata": {},
   "outputs": [],
   "source": [
    "\n",
    "#Sort our model results and then take the first one. Since we are minimzing and we are sorting in ascending order\n",
    "# we will have the smallest (most accurate) score first and we want to take the parameters from that)\n",
    "model_results_list = sorted(model_results_list, key=operator.itemgetter(1))   # Ascending order\n",
    "parameters = model_results_list[0][0]\n",
    "params = [(v) for k,v in parameters.items()]"
   ]
  },
  {
   "cell_type": "code",
   "execution_count": null,
   "metadata": {},
   "outputs": [],
   "source": [
    "params"
   ]
  },
  {
   "cell_type": "code",
   "execution_count": null,
   "metadata": {},
   "outputs": [],
   "source": [
    "model_results_list"
   ]
  },
  {
   "cell_type": "code",
   "execution_count": null,
   "metadata": {},
   "outputs": [],
   "source": [
    "sampled_cumulative_DF"
   ]
  },
  {
   "cell_type": "code",
   "execution_count": null,
   "metadata": {},
   "outputs": [],
   "source": [
    "params"
   ]
  }
 ],
 "metadata": {
  "kernelspec": {
   "display_name": "Python 3",
   "language": "python",
   "name": "python3"
  },
  "language_info": {
   "codemirror_mode": {
    "name": "ipython",
    "version": 3
   },
   "file_extension": ".py",
   "mimetype": "text/x-python",
   "name": "python",
   "nbconvert_exporter": "python",
   "pygments_lexer": "ipython3",
   "version": "3.6.5"
  }
 },
 "nbformat": 4,
 "nbformat_minor": 2
}
